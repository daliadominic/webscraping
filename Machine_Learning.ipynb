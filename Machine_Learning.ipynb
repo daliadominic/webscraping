{
 "cells": [
  {
   "cell_type": "code",
   "execution_count": 221,
   "metadata": {},
   "outputs": [],
   "source": [
    "import re\n",
    "import pickle\n",
    "import pandas as pd\n",
    "import numpy as np\n",
    "from numpy import nan"
   ]
  },
  {
   "cell_type": "code",
   "execution_count": 222,
   "metadata": {},
   "outputs": [],
   "source": [
    "import nltk\n",
    "from nltk.corpus import stopwords\n",
    "from nltk.stem import WordNetLemmatizer"
   ]
  },
  {
   "cell_type": "code",
   "execution_count": 223,
   "metadata": {},
   "outputs": [],
   "source": [
    "from sklearn.feature_extraction.text import TfidfVectorizer\n",
    "from sklearn.tree import DecisionTreeClassifier\n",
    "from sklearn.metrics import classification_report, confusion_matrix, accuracy_score,average_precision_score,recall_score\n",
    "from sklearn.model_selection import ShuffleSplit\n",
    "from sklearn.model_selection import train_test_split\n",
    "from sklearn.feature_selection import chi2\n",
    "import matplotlib.pyplot as plt\n",
    "import seaborn as sns\n",
    "from sklearn import model_selection, naive_bayes, svm\n",
    "from sklearn.neighbors import KNeighborsClassifier\n",
    "\n",
    "from sklearn.ensemble import RandomForestRegressor,RandomForestClassifier\n",
    "from sklearn.linear_model import SGDClassifier\n",
    "import matplotlib.pyplot as plt"
   ]
  },
  {
   "cell_type": "code",
   "execution_count": 224,
   "metadata": {},
   "outputs": [],
   "source": [
    "import pandas as pd\n",
    "df= pd.read_csv('Dataset_2738_after_webscraping.csv')  "
   ]
  },
  {
   "cell_type": "code",
   "execution_count": 225,
   "metadata": {},
   "outputs": [],
   "source": [
    "\n",
    "\n",
    "C = (df['Content']).tolist()\n",
    "\n",
    "L = (df['Label']).tolist()"
   ]
  },
  {
   "cell_type": "code",
   "execution_count": 226,
   "metadata": {},
   "outputs": [],
   "source": [
    "#PREPROCESSING\n",
    "def preprocess(col):\n",
    "    col_l = []\n",
    "    for r in col:\n",
    "        #print(r)\n",
    "        try:\n",
    "            a = r.lower() \n",
    "            a = a.replace(\"'s\", \"\")\n",
    "            #a = a.replace([\"\\n\"], \"hjfgjh\")\n",
    "            a = re.sub('[^a-zA-Z0-9 \\n\\.]', '',a)\n",
    "            a = re.sub('[:.\\n\\t]', '',a)\n",
    "            a = re.sub('[?:!.+,]]][]]//;]', '',a) \n",
    "            \n",
    "            col_l.append(a)\n",
    "        except:\n",
    "            #print(\"No header found\")\n",
    "            col_l.append(\"No Header\")\n",
    "            pass\n",
    "\n",
    "    # Downloading punkt and wordnet from NLTK\n",
    "    nltk.download('punkt')\n",
    "    print(\"------------------------------------------------------------\")\n",
    "    nltk.download('wordnet')\n",
    "    \n",
    "    wordnet_lemmatizer = WordNetLemmatizer()\n",
    "    \n",
    "    nltk.download('stopwords')\n",
    "    \n",
    "    lemmatized_text_list = []\n",
    "\n",
    "    for s in col_l:\n",
    "        #print(s)\n",
    "        # Create an empty list containing lemmatized words\n",
    "        lemmatized_list = []\n",
    "\n",
    "        # Save the text and its words into an object\n",
    "        #text = df.loc[row]['Content_Parsed_4']\n",
    "        text_words = s.split(\" \")\n",
    "\n",
    "        # Iterate through every word to lemmatize\n",
    "        for word in text_words:\n",
    "            lemmatized_list.append(wordnet_lemmatizer.lemmatize(word, pos=\"v\"))\n",
    "\n",
    "        # Join the list\n",
    "        lemmatized_text = \" \".join(lemmatized_list)\n",
    "\n",
    "        # Append to the list containing the texts\n",
    "        lemmatized_text_list.append(lemmatized_text)\n",
    "    \n",
    "    new_lemmatized_text_list = []\n",
    "    for x in lemmatized_text_list:\n",
    "        new_lemmatized_text_list.append(\" \".join(x.split())) \n",
    "    \n",
    "    pl = pd.Series(new_lemmatized_text_list)\n",
    "   # pl = pd.Series(col_l)\n",
    "    stop_words = list(stopwords.words('english'))\n",
    "    \n",
    "    for stop_word in stop_words:\n",
    "        regex_stopword = r\"\\b\" + stop_word + r\"\\b\"\n",
    "        #pl = pd.Series(col_l)\n",
    "   \n",
    "        pl = pl.str.replace(regex_stopword, '')\n",
    "        \n",
    "    \n",
    "    return pl.tolist()"
   ]
  },
  {
   "cell_type": "code",
   "execution_count": 227,
   "metadata": {},
   "outputs": [
    {
     "name": "stderr",
     "output_type": "stream",
     "text": [
      "[nltk_data] Downloading package punkt to\n",
      "[nltk_data]     C:\\Users\\Jojy\\AppData\\Roaming\\nltk_data...\n",
      "[nltk_data]   Package punkt is already up-to-date!\n",
      "[nltk_data] Downloading package wordnet to\n",
      "[nltk_data]     C:\\Users\\Jojy\\AppData\\Roaming\\nltk_data...\n",
      "[nltk_data]   Package wordnet is already up-to-date!\n",
      "[nltk_data] Downloading package stopwords to\n",
      "[nltk_data]     C:\\Users\\Jojy\\AppData\\Roaming\\nltk_data...\n",
      "[nltk_data]   Package stopwords is already up-to-date!\n"
     ]
    },
    {
     "name": "stdout",
     "output_type": "stream",
     "text": [
      "------------------------------------------------------------\n"
     ]
    }
   ],
   "source": [
    "con = preprocess(C)\n",
    "#print(con)"
   ]
  },
  {
   "cell_type": "code",
   "execution_count": 228,
   "metadata": {},
   "outputs": [
    {
     "data": {
      "text/plain": [
       "2738"
      ]
     },
     "execution_count": 228,
     "metadata": {},
     "output_type": "execute_result"
    }
   ],
   "source": [
    "len(con)"
   ]
  },
  {
   "cell_type": "code",
   "execution_count": 229,
   "metadata": {},
   "outputs": [
    {
     "data": {
      "text/plain": [
       "['iot-project',\n",
       " 'iot-project',\n",
       " 'iot-project',\n",
       " 'iot-project',\n",
       " 'iot-project',\n",
       " 'iot-project',\n",
       " 'iot-project',\n",
       " 'iot-project',\n",
       " 'iot-project',\n",
       " 'iot-project',\n",
       " 'iot-project',\n",
       " 'iot-project',\n",
       " 'iot-project',\n",
       " 'iot-project',\n",
       " 'iot-project',\n",
       " 'iot-project',\n",
       " 'iot-project',\n",
       " 'iot-project',\n",
       " 'iot-project',\n",
       " 'iot-project',\n",
       " 'iot-project',\n",
       " 'iot-project',\n",
       " 'iot-project',\n",
       " 'iot-project',\n",
       " 'iot-project',\n",
       " 'iot-project',\n",
       " 'iot-project',\n",
       " 'iot-project',\n",
       " 'iot-project',\n",
       " 'iot-project',\n",
       " 'iot-project',\n",
       " 'iot-project',\n",
       " 'iot-project',\n",
       " 'iot-project',\n",
       " 'iot-project',\n",
       " 'iot-project',\n",
       " 'iot-project',\n",
       " 'iot-project',\n",
       " 'iot-project',\n",
       " 'iot-project',\n",
       " 'iot-project',\n",
       " 'iot-project',\n",
       " 'iot-project',\n",
       " 'iot-project',\n",
       " 'iot-project',\n",
       " 'iot-project',\n",
       " 'iot-project',\n",
       " 'iot-project',\n",
       " 'iot-project',\n",
       " 'iot-project',\n",
       " 'iot-project',\n",
       " 'iot-project',\n",
       " 'iot-project',\n",
       " 'iot-project',\n",
       " 'iot-project',\n",
       " 'iot-project',\n",
       " 'iot-project',\n",
       " 'iot-project',\n",
       " 'iot-project',\n",
       " 'iot-project',\n",
       " 'iot-project',\n",
       " 'iot-project',\n",
       " 'iot-project',\n",
       " 'iot-project',\n",
       " 'iot-project',\n",
       " 'iot-project',\n",
       " 'iot-project',\n",
       " 'iot-project',\n",
       " 'iot-project',\n",
       " 'iot-project',\n",
       " 'iot-project',\n",
       " 'iot-project',\n",
       " 'iot-project',\n",
       " 'iot-project',\n",
       " 'iot-project',\n",
       " 'iot-project',\n",
       " 'iot-project',\n",
       " 'iot-project',\n",
       " 'iot-project',\n",
       " 'iot-project',\n",
       " 'iot-project',\n",
       " 'iot-project',\n",
       " 'iot-project',\n",
       " 'iot-project',\n",
       " 'iot-project',\n",
       " 'iot-project',\n",
       " 'iot-project',\n",
       " 'iot-project',\n",
       " 'iot-project',\n",
       " 'iot-project',\n",
       " 'iot-project',\n",
       " 'iot-project',\n",
       " 'iot-project',\n",
       " 'iot-project',\n",
       " 'iot-project',\n",
       " 'iot-project',\n",
       " 'iot-project',\n",
       " 'iot-project',\n",
       " 'iot-project',\n",
       " 'iot-project',\n",
       " 'iot-project',\n",
       " 'iot-project',\n",
       " 'iot-project',\n",
       " 'iot-project',\n",
       " 'iot-project',\n",
       " 'iot-project',\n",
       " 'iot-project',\n",
       " 'iot-project',\n",
       " 'iot-project',\n",
       " 'iot-project',\n",
       " 'iot-project',\n",
       " 'iot-project',\n",
       " 'iot-project',\n",
       " 'iot-project',\n",
       " 'iot-project',\n",
       " 'iot-project',\n",
       " 'iot-project',\n",
       " 'iot-project',\n",
       " 'iot-project',\n",
       " 'iot-project',\n",
       " 'iot-project',\n",
       " 'iot-project',\n",
       " 'iot-project',\n",
       " 'iot-project',\n",
       " 'iot-project',\n",
       " 'iot-project',\n",
       " 'iot-project',\n",
       " 'iot-project',\n",
       " 'iot-project',\n",
       " 'iot-project',\n",
       " 'iot-project',\n",
       " 'iot-project',\n",
       " 'iot-project',\n",
       " 'iot-project',\n",
       " 'iot-project',\n",
       " 'iot-project',\n",
       " 'iot-project',\n",
       " 'iot-project',\n",
       " 'iot-project',\n",
       " 'iot-project',\n",
       " 'iot-project',\n",
       " 'iot-project',\n",
       " 'iot-project',\n",
       " 'iot-project',\n",
       " 'iot-project',\n",
       " 'iot-project',\n",
       " 'iot-project',\n",
       " 'iot-project',\n",
       " 'iot-project',\n",
       " 'iot-project',\n",
       " 'iot-project',\n",
       " 'iot-project',\n",
       " 'iot-project',\n",
       " 'iot-project',\n",
       " 'iot-project',\n",
       " 'iot-project',\n",
       " 'iot-project',\n",
       " 'iot-project',\n",
       " 'iot-project',\n",
       " 'iot-project',\n",
       " 'iot-project',\n",
       " 'iot-project',\n",
       " 'iot-project',\n",
       " 'iot-project',\n",
       " 'iot-project',\n",
       " 'iot-project',\n",
       " 'iot-project',\n",
       " 'iot-project',\n",
       " 'iot-project',\n",
       " 'iot-project',\n",
       " 'iot-project',\n",
       " 'iot-project',\n",
       " 'iot-project',\n",
       " 'iot-project',\n",
       " 'iot-project',\n",
       " 'iot-project',\n",
       " 'iot-project',\n",
       " 'iot-project',\n",
       " 'iot-project',\n",
       " 'iot-project',\n",
       " 'iot-project',\n",
       " 'iot-project',\n",
       " 'iot-project',\n",
       " 'iot-project',\n",
       " 'iot-project',\n",
       " 'iot-project',\n",
       " 'iot-project',\n",
       " 'iot-project',\n",
       " 'iot-project',\n",
       " 'iot-project',\n",
       " 'iot-project',\n",
       " 'iot-project',\n",
       " 'iot-project',\n",
       " 'iot-project',\n",
       " 'iot-project',\n",
       " 'iot-project',\n",
       " 'iot-project',\n",
       " 'iot-project',\n",
       " 'iot-project',\n",
       " 'iot-project',\n",
       " 'iot-project',\n",
       " 'iot-project',\n",
       " 'iot-project',\n",
       " 'iot-project',\n",
       " 'iot-project',\n",
       " 'iot-project',\n",
       " 'iot-project',\n",
       " 'iot-project',\n",
       " 'iot-project',\n",
       " 'iot-project',\n",
       " 'iot-project',\n",
       " 'iot-project',\n",
       " 'iot-project',\n",
       " 'iot-project',\n",
       " 'iot-project',\n",
       " 'iot-project',\n",
       " 'iot-project',\n",
       " 'iot-project',\n",
       " 'iot-project',\n",
       " 'iot-project',\n",
       " 'iot-project',\n",
       " 'iot-project',\n",
       " 'iot-project',\n",
       " 'iot-project',\n",
       " 'iot-project',\n",
       " 'iot-project',\n",
       " 'iot-project',\n",
       " 'iot-project',\n",
       " 'iot-project',\n",
       " 'iot-project',\n",
       " 'iot-project',\n",
       " 'iot-project',\n",
       " 'iot-project',\n",
       " 'iot-project',\n",
       " 'iot-project',\n",
       " 'iot-project',\n",
       " 'iot-project',\n",
       " 'iot-project',\n",
       " 'iot-project',\n",
       " 'iot-project',\n",
       " 'iot-project',\n",
       " 'iot-project',\n",
       " 'iot-project',\n",
       " 'iot-project',\n",
       " 'iot-project',\n",
       " 'iot-project',\n",
       " 'iot-project',\n",
       " 'iot-project',\n",
       " 'iot-project',\n",
       " 'iot-project',\n",
       " 'iot-project',\n",
       " 'iot-project',\n",
       " 'iot-project',\n",
       " 'iot-project',\n",
       " 'iot-project',\n",
       " 'iot-project',\n",
       " 'iot-project',\n",
       " 'iot-project',\n",
       " 'iot-project',\n",
       " 'iot-project',\n",
       " 'iot-project',\n",
       " 'iot-project',\n",
       " 'iot-project',\n",
       " 'iot-project',\n",
       " 'iot-project',\n",
       " 'iot-project',\n",
       " 'iot-project',\n",
       " 'iot-project',\n",
       " 'iot-project',\n",
       " 'iot-project',\n",
       " 'iot-project',\n",
       " 'iot-project',\n",
       " 'iot-project',\n",
       " 'iot-project',\n",
       " 'iot-project',\n",
       " 'iot-project',\n",
       " 'iot-project',\n",
       " 'iot-project',\n",
       " 'iot-project',\n",
       " 'iot-project',\n",
       " 'iot-project',\n",
       " 'iot-project',\n",
       " 'iot-project',\n",
       " 'iot-project',\n",
       " 'iot-project',\n",
       " 'iot-project',\n",
       " 'iot-project',\n",
       " 'iot-project',\n",
       " 'iot-project',\n",
       " 'iot-project',\n",
       " 'iot-project',\n",
       " 'iot-project',\n",
       " 'iot-project',\n",
       " 'iot-project',\n",
       " 'iot-project',\n",
       " 'iot-project',\n",
       " 'iot-project',\n",
       " 'iot-project',\n",
       " 'iot-project',\n",
       " 'iot-project',\n",
       " 'iot-project',\n",
       " 'iot-project',\n",
       " 'iot-project',\n",
       " 'iot-project',\n",
       " 'iot-project',\n",
       " 'iot-project',\n",
       " 'iot-project',\n",
       " 'iot-project',\n",
       " 'iot-project',\n",
       " 'iot-project',\n",
       " 'iot-project',\n",
       " 'iot-project',\n",
       " 'iot-project',\n",
       " 'iot-project',\n",
       " 'iot-project',\n",
       " 'iot-project',\n",
       " 'iot-project',\n",
       " 'iot-project',\n",
       " 'iot-project',\n",
       " 'iot-project',\n",
       " 'iot-project',\n",
       " 'iot-project',\n",
       " 'iot-project',\n",
       " 'iot-project',\n",
       " 'iot-project',\n",
       " 'iot-project',\n",
       " 'iot-project',\n",
       " 'iot-project',\n",
       " 'iot-project',\n",
       " 'iot-project',\n",
       " 'iot-project',\n",
       " 'iot-project',\n",
       " 'iot-project',\n",
       " 'iot-project',\n",
       " 'iot-project',\n",
       " 'iot-project',\n",
       " 'iot-project',\n",
       " 'iot-project',\n",
       " 'iot-project',\n",
       " 'iot-project',\n",
       " 'iot-project',\n",
       " 'iot-project',\n",
       " 'iot-project',\n",
       " 'iot-project',\n",
       " 'iot-project',\n",
       " 'iot-project',\n",
       " 'iot-project',\n",
       " 'iot-project',\n",
       " 'iot-project',\n",
       " 'iot-project',\n",
       " 'iot-project',\n",
       " 'iot-project',\n",
       " 'iot-project',\n",
       " 'iot-project',\n",
       " 'iot-project',\n",
       " 'iot-project',\n",
       " 'iot-project',\n",
       " 'iot-project',\n",
       " 'iot-project',\n",
       " 'iot-project',\n",
       " 'iot-project',\n",
       " 'iot-project',\n",
       " 'iot-project',\n",
       " 'iot-project',\n",
       " 'iot-project',\n",
       " 'iot-project',\n",
       " 'iot-project',\n",
       " 'iot-project',\n",
       " 'iot-project',\n",
       " 'iot-project',\n",
       " 'iot-project',\n",
       " 'iot-project',\n",
       " 'iot-project',\n",
       " 'iot-project',\n",
       " 'iot-project',\n",
       " 'iot-project',\n",
       " 'iot-project',\n",
       " 'iot-project',\n",
       " 'iot-project',\n",
       " 'iot-project',\n",
       " 'iot-project',\n",
       " 'iot-project',\n",
       " 'iot-project',\n",
       " 'iot-project',\n",
       " 'iot-project',\n",
       " 'iot-project',\n",
       " 'iot-project',\n",
       " 'iot-project',\n",
       " 'iot-project',\n",
       " 'iot-project',\n",
       " 'iot-project',\n",
       " 'iot-project',\n",
       " 'iot-project',\n",
       " 'iot-project',\n",
       " 'iot-project',\n",
       " 'iot-project',\n",
       " 'iot-project',\n",
       " 'iot-project',\n",
       " 'iot-project',\n",
       " 'iot-project',\n",
       " 'iot-project',\n",
       " 'iot-project',\n",
       " 'iot-project',\n",
       " 'iot-project',\n",
       " 'iot-project',\n",
       " 'iot-project',\n",
       " 'iot-project',\n",
       " 'iot-project',\n",
       " 'iot-project',\n",
       " 'iot-project',\n",
       " 'iot-project',\n",
       " 'iot-project',\n",
       " 'iot-project',\n",
       " 'iot-project',\n",
       " 'iot-project',\n",
       " 'iot-project',\n",
       " 'iot-project',\n",
       " 'iot-project',\n",
       " 'iot-project',\n",
       " 'iot-project',\n",
       " 'iot-project',\n",
       " 'iot-project',\n",
       " 'iot-project',\n",
       " 'iot-project',\n",
       " 'iot-project',\n",
       " 'iot-project',\n",
       " 'iot-project',\n",
       " 'iot-project',\n",
       " 'iot-project',\n",
       " 'iot-project',\n",
       " 'iot-project',\n",
       " 'iot-project',\n",
       " 'iot-project',\n",
       " 'iot-project',\n",
       " 'iot-project',\n",
       " 'iot-project',\n",
       " 'iot-project',\n",
       " 'iot-project',\n",
       " 'iot-project',\n",
       " 'iot-project',\n",
       " 'iot-project',\n",
       " 'iot-project',\n",
       " 'iot-project',\n",
       " 'iot-project',\n",
       " 'iot-project',\n",
       " 'iot-project',\n",
       " 'iot-project',\n",
       " 'iot-project',\n",
       " 'iot-project',\n",
       " 'iot-project',\n",
       " 'iot-project',\n",
       " 'iot-project',\n",
       " 'iot-project',\n",
       " 'iot-project',\n",
       " 'iot-project',\n",
       " 'iot-project',\n",
       " 'iot-project',\n",
       " 'iot-project',\n",
       " 'iot-project',\n",
       " 'iot-project',\n",
       " 'iot-project',\n",
       " 'iot-project',\n",
       " 'iot-project',\n",
       " 'iot-project',\n",
       " 'iot-project',\n",
       " 'iot-project',\n",
       " 'iot-project',\n",
       " 'iot-project',\n",
       " 'iot-project',\n",
       " 'iot-project',\n",
       " 'iot-project',\n",
       " 'iot-project',\n",
       " 'iot-project',\n",
       " 'iot-project',\n",
       " 'iot-project',\n",
       " 'iot-project',\n",
       " 'iot-project',\n",
       " 'iot-project',\n",
       " 'iot-project',\n",
       " 'iot-project',\n",
       " 'iot-project',\n",
       " 'iot-project',\n",
       " 'iot-project',\n",
       " 'iot-project',\n",
       " 'iot-project',\n",
       " 'iot-project',\n",
       " 'iot-project',\n",
       " 'iot-project',\n",
       " 'iot-project',\n",
       " 'iot-project',\n",
       " 'iot-project',\n",
       " 'iot-project',\n",
       " 'iot-project',\n",
       " 'iot-project',\n",
       " 'iot-project',\n",
       " 'iot-project',\n",
       " 'iot-project',\n",
       " 'iot-project',\n",
       " 'iot-project',\n",
       " 'iot-project',\n",
       " 'iot-project',\n",
       " 'iot-project',\n",
       " 'iot-project',\n",
       " 'iot-project',\n",
       " 'iot-project',\n",
       " 'iot-project',\n",
       " 'iot-project',\n",
       " 'iot-project',\n",
       " 'iot-project',\n",
       " 'iot-project',\n",
       " 'iot-project',\n",
       " 'iot-project',\n",
       " 'iot-project',\n",
       " 'iot-project',\n",
       " 'iot-project',\n",
       " 'iot-project',\n",
       " 'iot-project',\n",
       " 'iot-project',\n",
       " 'iot-project',\n",
       " 'iot-project',\n",
       " 'iot-project',\n",
       " 'iot-project',\n",
       " 'iot-project',\n",
       " 'iot-project',\n",
       " 'iot-project',\n",
       " 'iot-project',\n",
       " 'iot-project',\n",
       " 'iot-project',\n",
       " 'iot-project',\n",
       " 'iot-project',\n",
       " 'iot-project',\n",
       " 'iot-project',\n",
       " 'iot-project',\n",
       " 'iot-project',\n",
       " 'iot-project',\n",
       " 'iot-project',\n",
       " 'iot-project',\n",
       " 'iot-project',\n",
       " 'iot-project',\n",
       " 'iot-project',\n",
       " 'iot-project',\n",
       " 'iot-project',\n",
       " 'iot-project',\n",
       " 'iot-project',\n",
       " 'iot-project',\n",
       " 'iot-project',\n",
       " 'iot-project',\n",
       " 'iot-project',\n",
       " 'iot-project',\n",
       " 'iot-project',\n",
       " 'iot-project',\n",
       " 'iot-project',\n",
       " 'iot-project',\n",
       " 'iot-project',\n",
       " 'iot-project',\n",
       " 'iot-project',\n",
       " 'iot-project',\n",
       " 'iot-project',\n",
       " 'iot-project',\n",
       " 'iot-project',\n",
       " 'iot-project',\n",
       " 'iot-project',\n",
       " 'iot-project',\n",
       " 'iot-project',\n",
       " 'iot-project',\n",
       " 'iot-project',\n",
       " 'iot-project',\n",
       " 'iot-project',\n",
       " 'iot-project',\n",
       " 'iot-project',\n",
       " 'iot-project',\n",
       " 'iot-project',\n",
       " 'iot-project',\n",
       " 'iot-project',\n",
       " 'iot-project',\n",
       " 'iot-project',\n",
       " 'iot-project',\n",
       " 'iot-project',\n",
       " 'iot-project',\n",
       " 'iot-project',\n",
       " 'iot-project',\n",
       " 'iot-project',\n",
       " 'iot-project',\n",
       " 'iot-project',\n",
       " 'iot-project',\n",
       " 'iot-project',\n",
       " 'iot-project',\n",
       " 'iot-project',\n",
       " 'iot-project',\n",
       " 'iot-project',\n",
       " 'iot-project',\n",
       " 'iot-project',\n",
       " 'iot-project',\n",
       " 'iot-project',\n",
       " 'iot-project',\n",
       " 'iot-project',\n",
       " 'iot-project',\n",
       " 'iot-project',\n",
       " 'iot-project',\n",
       " 'iot-project',\n",
       " 'iot-project',\n",
       " 'iot-project',\n",
       " 'iot-project',\n",
       " 'iot-project',\n",
       " 'iot-project',\n",
       " 'iot-project',\n",
       " 'iot-project',\n",
       " 'iot-project',\n",
       " 'iot-project',\n",
       " 'iot-project',\n",
       " 'iot-project',\n",
       " 'iot-project',\n",
       " 'iot-project',\n",
       " 'iot-project',\n",
       " 'iot-project',\n",
       " 'iot-project',\n",
       " 'iot-project',\n",
       " 'iot-project',\n",
       " 'iot-project',\n",
       " 'iot-project',\n",
       " 'iot-project',\n",
       " 'iot-project',\n",
       " 'iot-project',\n",
       " 'iot-project',\n",
       " 'iot-project',\n",
       " 'iot-project',\n",
       " 'iot-project',\n",
       " 'iot-project',\n",
       " 'iot-project',\n",
       " 'iot-project',\n",
       " 'iot-project',\n",
       " 'iot-project',\n",
       " 'iot-project',\n",
       " 'iot-project',\n",
       " 'iot-project',\n",
       " 'iot-project',\n",
       " 'iot-project',\n",
       " 'iot-project',\n",
       " 'iot-project',\n",
       " 'iot-project',\n",
       " 'iot-project',\n",
       " 'iot-project',\n",
       " 'iot-project',\n",
       " 'iot-project',\n",
       " 'iot-project',\n",
       " 'iot-project',\n",
       " 'iot-project',\n",
       " 'iot-project',\n",
       " 'iot-project',\n",
       " 'iot-project',\n",
       " 'iot-project',\n",
       " 'iot-project',\n",
       " 'iot-project',\n",
       " 'iot-project',\n",
       " 'iot-project',\n",
       " 'iot-project',\n",
       " 'iot-project',\n",
       " 'iot-project',\n",
       " 'iot-project',\n",
       " 'iot-project',\n",
       " 'iot-project',\n",
       " 'iot-project',\n",
       " 'iot-project',\n",
       " 'iot-project',\n",
       " 'iot-project',\n",
       " 'iot-project',\n",
       " 'iot-project',\n",
       " 'iot-project',\n",
       " 'iot-project',\n",
       " 'iot-project',\n",
       " 'iot-project',\n",
       " 'iot-project',\n",
       " 'iot-project',\n",
       " 'iot-project',\n",
       " 'iot-project',\n",
       " 'iot-project',\n",
       " 'iot-project',\n",
       " 'iot-project',\n",
       " 'iot-project',\n",
       " 'iot-project',\n",
       " 'iot-project',\n",
       " 'iot-project',\n",
       " 'iot-project',\n",
       " 'iot-project',\n",
       " 'iot-project',\n",
       " 'iot-project',\n",
       " 'iot-project',\n",
       " 'iot-project',\n",
       " 'iot-project',\n",
       " 'iot-project',\n",
       " 'iot-project',\n",
       " 'iot-project',\n",
       " 'iot-project',\n",
       " 'iot-project',\n",
       " 'iot-project',\n",
       " 'iot-project',\n",
       " 'iot-project',\n",
       " 'iot-project',\n",
       " 'iot-project',\n",
       " 'iot-project',\n",
       " 'iot-project',\n",
       " 'iot-project',\n",
       " 'iot-project',\n",
       " 'iot-project',\n",
       " 'iot-project',\n",
       " 'iot-project',\n",
       " 'iot-project',\n",
       " 'iot-project',\n",
       " 'iot-project',\n",
       " 'iot-project',\n",
       " 'iot-project',\n",
       " 'iot-project',\n",
       " 'iot-project',\n",
       " 'iot-project',\n",
       " 'iot-project',\n",
       " 'iot-project',\n",
       " 'iot-project',\n",
       " 'iot-project',\n",
       " 'iot-project',\n",
       " 'iot-project',\n",
       " 'iot-project',\n",
       " 'iot-project',\n",
       " 'iot-project',\n",
       " 'iot-project',\n",
       " 'iot-project',\n",
       " 'iot-project',\n",
       " 'iot-project',\n",
       " 'iot-project',\n",
       " 'iot-project',\n",
       " 'iot-project',\n",
       " 'iot-project',\n",
       " 'iot-project',\n",
       " 'iot-project',\n",
       " 'iot-project',\n",
       " 'iot-project',\n",
       " 'iot-project',\n",
       " 'iot-project',\n",
       " 'iot-project',\n",
       " 'iot-project',\n",
       " 'iot-project',\n",
       " 'iot-project',\n",
       " 'iot-project',\n",
       " 'iot-project',\n",
       " 'iot-project',\n",
       " 'iot-project',\n",
       " 'iot-project',\n",
       " 'iot-project',\n",
       " 'iot-project',\n",
       " 'iot-project',\n",
       " 'iot-project',\n",
       " 'iot-project',\n",
       " 'iot-project',\n",
       " 'iot-project',\n",
       " 'iot-project',\n",
       " 'iot-project',\n",
       " 'iot-project',\n",
       " 'iot-project',\n",
       " 'iot-project',\n",
       " 'iot-project',\n",
       " 'iot-project',\n",
       " 'iot-project',\n",
       " 'iot-project',\n",
       " 'iot-project',\n",
       " 'iot-project',\n",
       " 'iot-project',\n",
       " 'iot-project',\n",
       " 'iot-project',\n",
       " 'iot-project',\n",
       " 'iot-project',\n",
       " 'iot-project',\n",
       " 'iot-project',\n",
       " 'iot-project',\n",
       " 'iot-project',\n",
       " 'iot-project',\n",
       " 'iot-project',\n",
       " 'iot-project',\n",
       " 'iot-project',\n",
       " 'iot-project',\n",
       " 'iot-project',\n",
       " 'iot-project',\n",
       " 'iot-project',\n",
       " 'iot-project',\n",
       " 'iot-project',\n",
       " 'iot-project',\n",
       " 'iot-project',\n",
       " 'iot-project',\n",
       " 'iot-project',\n",
       " 'iot-project',\n",
       " 'iot-project',\n",
       " 'iot-project',\n",
       " 'iot-project',\n",
       " 'iot-project',\n",
       " 'iot-project',\n",
       " 'iot-project',\n",
       " 'iot-project',\n",
       " 'iot-project',\n",
       " 'iot-project',\n",
       " 'iot-project',\n",
       " 'iot-project',\n",
       " 'iot-project',\n",
       " 'iot-project',\n",
       " 'iot-project',\n",
       " 'iot-project',\n",
       " 'iot-project',\n",
       " 'iot-project',\n",
       " 'iot-project',\n",
       " 'iot-project',\n",
       " 'iot-project',\n",
       " 'iot-project',\n",
       " 'iot-project',\n",
       " 'iot-project',\n",
       " 'iot-project',\n",
       " 'iot-project',\n",
       " 'iot-project',\n",
       " 'iot-project',\n",
       " 'iot-project',\n",
       " 'iot-project',\n",
       " 'iot-project',\n",
       " 'iot-project',\n",
       " 'iot-project',\n",
       " 'iot-project',\n",
       " 'iot-project',\n",
       " 'iot-project',\n",
       " 'iot-project',\n",
       " 'iot-project',\n",
       " 'iot-project',\n",
       " 'iot-project',\n",
       " 'iot-project',\n",
       " 'iot-project',\n",
       " 'iot-project',\n",
       " 'iot-project',\n",
       " 'iot-project',\n",
       " 'iot-project',\n",
       " 'iot-project',\n",
       " 'iot-project',\n",
       " 'iot-project',\n",
       " 'iot-project',\n",
       " 'iot-project',\n",
       " 'iot-project',\n",
       " 'iot-project',\n",
       " 'iot-project',\n",
       " 'iot-project',\n",
       " 'iot-project',\n",
       " 'iot-project',\n",
       " 'iot-project',\n",
       " 'iot-project',\n",
       " 'iot-project',\n",
       " 'iot-project',\n",
       " 'iot-project',\n",
       " 'iot-project',\n",
       " 'iot-project',\n",
       " 'iot-project',\n",
       " 'iot-project',\n",
       " 'iot-project',\n",
       " 'iot-project',\n",
       " 'iot-project',\n",
       " 'iot-project',\n",
       " 'iot-project',\n",
       " 'iot-project',\n",
       " 'iot-project',\n",
       " 'iot-project',\n",
       " 'iot-project',\n",
       " 'iot-project',\n",
       " 'iot-project',\n",
       " 'iot-project',\n",
       " 'iot-project',\n",
       " 'iot-project',\n",
       " 'iot-project',\n",
       " 'iot-project',\n",
       " 'iot-project',\n",
       " 'iot-project',\n",
       " 'iot-project',\n",
       " 'iot-project',\n",
       " 'iot-project',\n",
       " 'iot-project',\n",
       " 'iot-project',\n",
       " 'iot-project',\n",
       " 'iot-project',\n",
       " 'iot-project',\n",
       " 'iot-project',\n",
       " 'iot-project',\n",
       " 'iot-project',\n",
       " 'iot-project',\n",
       " 'iot-project',\n",
       " 'iot-project',\n",
       " 'iot-project',\n",
       " 'iot-project',\n",
       " 'iot-project',\n",
       " 'iot-project',\n",
       " 'iot-project',\n",
       " 'iot-project',\n",
       " 'iot-project',\n",
       " 'iot-project',\n",
       " 'iot-project',\n",
       " 'iot-project',\n",
       " 'iot-project',\n",
       " 'iot-project',\n",
       " 'iot-project',\n",
       " 'iot-project',\n",
       " 'iot-project',\n",
       " 'iot-project',\n",
       " 'iot-project',\n",
       " 'iot-project',\n",
       " 'iot-project',\n",
       " 'iot-project',\n",
       " 'iot-project',\n",
       " 'iot-project',\n",
       " 'iot-project',\n",
       " 'iot-project',\n",
       " 'iot-project',\n",
       " 'iot-project',\n",
       " 'iot-project',\n",
       " 'iot-project',\n",
       " 'iot-project',\n",
       " 'iot-project',\n",
       " 'iot-project',\n",
       " 'iot-project',\n",
       " 'iot-project',\n",
       " 'iot-project',\n",
       " 'iot-project',\n",
       " 'iot-project',\n",
       " 'iot-project',\n",
       " 'iot-project',\n",
       " 'iot-project',\n",
       " 'iot-project',\n",
       " 'iot-project',\n",
       " 'iot-project',\n",
       " 'iot-project',\n",
       " 'iot-project',\n",
       " 'iot-project',\n",
       " 'iot-project',\n",
       " 'iot-project',\n",
       " 'iot-project',\n",
       " 'iot-project',\n",
       " 'iot-project',\n",
       " 'iot-project',\n",
       " 'iot-project',\n",
       " 'iot-project',\n",
       " 'iot-project',\n",
       " 'iot-project',\n",
       " 'iot-project',\n",
       " 'iot-project',\n",
       " 'iot-project',\n",
       " 'iot-project',\n",
       " 'iot-project',\n",
       " 'iot-project',\n",
       " 'iot-project',\n",
       " 'iot-project',\n",
       " 'iot-project',\n",
       " 'iot-project',\n",
       " 'iot-project',\n",
       " 'iot-project',\n",
       " 'iot-project',\n",
       " 'iot-project',\n",
       " 'iot-project',\n",
       " 'iot-project',\n",
       " 'iot-project',\n",
       " 'iot-project',\n",
       " 'iot-project',\n",
       " 'iot-project',\n",
       " 'iot-project',\n",
       " 'iot-project',\n",
       " 'iot-project',\n",
       " 'iot-project',\n",
       " 'iot-project',\n",
       " 'iot-project',\n",
       " 'iot-project',\n",
       " 'iot-project',\n",
       " 'iot-project',\n",
       " 'iot-project',\n",
       " 'iot-project',\n",
       " 'iot-project',\n",
       " 'iot-project',\n",
       " 'iot-project',\n",
       " 'iot-project',\n",
       " 'iot-project',\n",
       " 'iot-project',\n",
       " 'iot-project',\n",
       " 'iot-project',\n",
       " 'iot-project',\n",
       " 'iot-project',\n",
       " 'iot-project',\n",
       " 'iot-project',\n",
       " 'iot-project',\n",
       " 'iot-project',\n",
       " 'iot-project',\n",
       " 'iot-project',\n",
       " 'iot-project',\n",
       " 'iot-project',\n",
       " 'iot-project',\n",
       " 'iot-project',\n",
       " 'iot-project',\n",
       " 'iot-project',\n",
       " 'iot-project',\n",
       " 'iot-project',\n",
       " 'iot-project',\n",
       " 'iot-project',\n",
       " 'iot-project',\n",
       " 'iot-project',\n",
       " 'iot-project',\n",
       " ...]"
      ]
     },
     "execution_count": 229,
     "metadata": {},
     "output_type": "execute_result"
    }
   ],
   "source": [
    "L"
   ]
  },
  {
   "cell_type": "code",
   "execution_count": 230,
   "metadata": {},
   "outputs": [],
   "source": [
    "label = []"
   ]
  },
  {
   "cell_type": "code",
   "execution_count": 231,
   "metadata": {},
   "outputs": [],
   "source": [
    "for i in L:\n",
    "    if i == 'iot-project' or i == 'Iot-Project':\n",
    "        label.append(1)\n",
    "        \n",
    "    elif i == 'non-iot-project':\n",
    "        label.append(0)"
   ]
  },
  {
   "cell_type": "code",
   "execution_count": 232,
   "metadata": {},
   "outputs": [
    {
     "data": {
      "text/plain": [
       "2738"
      ]
     },
     "execution_count": 232,
     "metadata": {},
     "output_type": "execute_result"
    }
   ],
   "source": [
    "len(label)"
   ]
  },
  {
   "cell_type": "code",
   "execution_count": 233,
   "metadata": {},
   "outputs": [],
   "source": [
    "category_codes = {'non-iot-project': 0, 'iot-project': 1,}"
   ]
  },
  {
   "cell_type": "code",
   "execution_count": 234,
   "metadata": {},
   "outputs": [
    {
     "data": {
      "text/plain": [
       "{'non-iot-project': 0, 'iot-project': 1}"
      ]
     },
     "execution_count": 234,
     "metadata": {},
     "output_type": "execute_result"
    }
   ],
   "source": [
    "category_codes"
   ]
  },
  {
   "cell_type": "code",
   "execution_count": 235,
   "metadata": {},
   "outputs": [],
   "source": [
    "la2 = pd.Series(label)"
   ]
  },
  {
   "cell_type": "code",
   "execution_count": 236,
   "metadata": {},
   "outputs": [],
   "source": [
    "la_2 = la2.replace({'Category_Code':category_codes})"
   ]
  },
  {
   "cell_type": "code",
   "execution_count": 237,
   "metadata": {},
   "outputs": [
    {
     "data": {
      "text/plain": [
       "0       1\n",
       "1       1\n",
       "2       1\n",
       "3       1\n",
       "4       1\n",
       "       ..\n",
       "2733    0\n",
       "2734    0\n",
       "2735    0\n",
       "2736    0\n",
       "2737    0\n",
       "Length: 2738, dtype: int64"
      ]
     },
     "execution_count": 237,
     "metadata": {},
     "output_type": "execute_result"
    }
   ],
   "source": [
    "la_2"
   ]
  },
  {
   "cell_type": "code",
   "execution_count": 238,
   "metadata": {},
   "outputs": [
    {
     "data": {
      "text/plain": [
       "2738"
      ]
     },
     "execution_count": 238,
     "metadata": {},
     "output_type": "execute_result"
    }
   ],
   "source": [
    "len(la_2)"
   ]
  },
  {
   "cell_type": "code",
   "execution_count": 239,
   "metadata": {},
   "outputs": [],
   "source": [
    " df = pd.DataFrame({\"Content\":con})"
   ]
  },
  {
   "cell_type": "code",
   "execution_count": 240,
   "metadata": {
    "scrolled": true
   },
   "outputs": [
    {
     "data": {
      "text/html": [
       "<div>\n",
       "<style scoped>\n",
       "    .dataframe tbody tr th:only-of-type {\n",
       "        vertical-align: middle;\n",
       "    }\n",
       "\n",
       "    .dataframe tbody tr th {\n",
       "        vertical-align: top;\n",
       "    }\n",
       "\n",
       "    .dataframe thead th {\n",
       "        text-align: right;\n",
       "    }\n",
       "</style>\n",
       "<table border=\"1\" class=\"dataframe\">\n",
       "  <thead>\n",
       "    <tr style=\"text-align: right;\">\n",
       "      <th></th>\n",
       "      <th>Content</th>\n",
       "    </tr>\n",
       "  </thead>\n",
       "  <tbody>\n",
       "    <tr>\n",
       "      <th>0</th>\n",
       "      <td>add  follow snippet   html connect  modbus ene...</td>\n",
       "    </tr>\n",
       "    <tr>\n",
       "      <th>1</th>\n",
       "      <td>add  follow snippet   html remote control  las...</td>\n",
       "    </tr>\n",
       "    <tr>\n",
       "      <th>2</th>\n",
       "      <td>add  follow snippet   html know   go check   t...</td>\n",
       "    </tr>\n",
       "    <tr>\n",
       "      <th>3</th>\n",
       "      <td>add  follow snippet   html  simple tutorial  c...</td>\n",
       "    </tr>\n",
       "    <tr>\n",
       "      <th>4</th>\n",
       "      <td>add  follow snippet   html tire  joystick cont...</td>\n",
       "    </tr>\n",
       "    <tr>\n",
       "      <th>...</th>\n",
       "      <td>...</td>\n",
       "    </tr>\n",
       "    <tr>\n",
       "      <th>2733</th>\n",
       "      <td>321 5 1 feature traditional saffron buns lusse...</td>\n",
       "    </tr>\n",
       "    <tr>\n",
       "      <th>2734</th>\n",
       "      <td>7358 55 18 feature  camera bag   useful  carry...</td>\n",
       "    </tr>\n",
       "    <tr>\n",
       "      <th>2735</th>\n",
       "      <td>5937 28 13 feature  various reason  wont bore ...</td>\n",
       "    </tr>\n",
       "    <tr>\n",
       "      <th>2736</th>\n",
       "      <td>2233 74 6 feature ahoy mateys fancy  cold drin...</td>\n",
       "    </tr>\n",
       "    <tr>\n",
       "      <th>2737</th>\n",
       "      <td>2355 44 9 feature one   many fashion trend   l...</td>\n",
       "    </tr>\n",
       "  </tbody>\n",
       "</table>\n",
       "<p>2738 rows × 1 columns</p>\n",
       "</div>"
      ],
      "text/plain": [
       "                                                Content\n",
       "0     add  follow snippet   html connect  modbus ene...\n",
       "1     add  follow snippet   html remote control  las...\n",
       "2     add  follow snippet   html know   go check   t...\n",
       "3     add  follow snippet   html  simple tutorial  c...\n",
       "4     add  follow snippet   html tire  joystick cont...\n",
       "...                                                 ...\n",
       "2733  321 5 1 feature traditional saffron buns lusse...\n",
       "2734  7358 55 18 feature  camera bag   useful  carry...\n",
       "2735  5937 28 13 feature  various reason  wont bore ...\n",
       "2736  2233 74 6 feature ahoy mateys fancy  cold drin...\n",
       "2737  2355 44 9 feature one   many fashion trend   l...\n",
       "\n",
       "[2738 rows x 1 columns]"
      ]
     },
     "execution_count": 240,
     "metadata": {},
     "output_type": "execute_result"
    }
   ],
   "source": [
    "df"
   ]
  },
  {
   "cell_type": "code",
   "execution_count": 241,
   "metadata": {},
   "outputs": [],
   "source": [
    "#####################################  Training Module Starts  #########################################"
   ]
  },
  {
   "cell_type": "code",
   "execution_count": 242,
   "metadata": {},
   "outputs": [],
   "source": [
    "X_train, X_test, y_train, y_test = train_test_split(df, la_2, test_size=0.15, random_state=8)"
   ]
  },
  {
   "cell_type": "code",
   "execution_count": 243,
   "metadata": {},
   "outputs": [
    {
     "data": {
      "text/html": [
       "<div>\n",
       "<style scoped>\n",
       "    .dataframe tbody tr th:only-of-type {\n",
       "        vertical-align: middle;\n",
       "    }\n",
       "\n",
       "    .dataframe tbody tr th {\n",
       "        vertical-align: top;\n",
       "    }\n",
       "\n",
       "    .dataframe thead th {\n",
       "        text-align: right;\n",
       "    }\n",
       "</style>\n",
       "<table border=\"1\" class=\"dataframe\">\n",
       "  <thead>\n",
       "    <tr style=\"text-align: right;\">\n",
       "      <th></th>\n",
       "      <th>Content</th>\n",
       "    </tr>\n",
       "  </thead>\n",
       "  <tbody>\n",
       "    <tr>\n",
       "      <th>1923</th>\n",
       "      <td>2163 78 1 feature  meat loaf   good choice    ...</td>\n",
       "    </tr>\n",
       "    <tr>\n",
       "      <th>1117</th>\n",
       "      <td>add  follow snippet   html   thingsio ai platf...</td>\n",
       "    </tr>\n",
       "    <tr>\n",
       "      <th>2154</th>\n",
       "      <td>2742 15 4 feature  make  dress  ive want    cu...</td>\n",
       "    </tr>\n",
       "    <tr>\n",
       "      <th>481</th>\n",
       "      <td>add  follow snippet   html use  dark sky api  ...</td>\n",
       "    </tr>\n",
       "    <tr>\n",
       "      <th>615</th>\n",
       "      <td>add  follow snippet   html connect multiple da...</td>\n",
       "    </tr>\n",
       "    <tr>\n",
       "      <th>...</th>\n",
       "      <td>...</td>\n",
       "    </tr>\n",
       "    <tr>\n",
       "      <th>179</th>\n",
       "      <td>add  follow snippet   html name   box  light  ...</td>\n",
       "    </tr>\n",
       "    <tr>\n",
       "      <th>652</th>\n",
       "      <td>add  follow snippet   html transform  energy  ...</td>\n",
       "    </tr>\n",
       "    <tr>\n",
       "      <th>2390</th>\n",
       "      <td>230 1 feature make  cardboard carousel  nine l...</td>\n",
       "    </tr>\n",
       "    <tr>\n",
       "      <th>2064</th>\n",
       "      <td>936 8 feature im  big guy   want  make  even b...</td>\n",
       "    </tr>\n",
       "    <tr>\n",
       "      <th>2683</th>\n",
       "      <td>14426 52 5 feature  test tube vase  exactly   ...</td>\n",
       "    </tr>\n",
       "  </tbody>\n",
       "</table>\n",
       "<p>411 rows × 1 columns</p>\n",
       "</div>"
      ],
      "text/plain": [
       "                                                Content\n",
       "1923  2163 78 1 feature  meat loaf   good choice    ...\n",
       "1117  add  follow snippet   html   thingsio ai platf...\n",
       "2154  2742 15 4 feature  make  dress  ive want    cu...\n",
       "481   add  follow snippet   html use  dark sky api  ...\n",
       "615   add  follow snippet   html connect multiple da...\n",
       "...                                                 ...\n",
       "179   add  follow snippet   html name   box  light  ...\n",
       "652   add  follow snippet   html transform  energy  ...\n",
       "2390  230 1 feature make  cardboard carousel  nine l...\n",
       "2064  936 8 feature im  big guy   want  make  even b...\n",
       "2683  14426 52 5 feature  test tube vase  exactly   ...\n",
       "\n",
       "[411 rows x 1 columns]"
      ]
     },
     "execution_count": 243,
     "metadata": {},
     "output_type": "execute_result"
    }
   ],
   "source": [
    "\n",
    "X_test"
   ]
  },
  {
   "cell_type": "code",
   "execution_count": 244,
   "metadata": {},
   "outputs": [
    {
     "data": {
      "text/plain": [
       "392     1\n",
       "2360    0\n",
       "1589    0\n",
       "2492    0\n",
       "184     1\n",
       "       ..\n",
       "2181    0\n",
       "2409    0\n",
       "2033    0\n",
       "1364    1\n",
       "451     1\n",
       "Length: 2327, dtype: int64"
      ]
     },
     "execution_count": 244,
     "metadata": {},
     "output_type": "execute_result"
    }
   ],
   "source": [
    "y_train"
   ]
  },
  {
   "cell_type": "code",
   "execution_count": 245,
   "metadata": {},
   "outputs": [],
   "source": [
    "ngram_range = (1,2)\n",
    "min_df = 10\n",
    "max_df = 1.\n",
    "max_features =300# not clear how to choose this value"
   ]
  },
  {
   "cell_type": "code",
   "execution_count": 246,
   "metadata": {},
   "outputs": [],
   "source": [
    "tfidf = TfidfVectorizer(encoding='utf-8',\n",
    "                        ngram_range=ngram_range,\n",
    "                        stop_words=None,\n",
    "                        lowercase=False,\n",
    "                        max_df=max_df,\n",
    "                        min_df=min_df,\n",
    "                        max_features=max_features,\n",
    "                        norm='l2',\n",
    "                        sublinear_tf=True)"
   ]
  },
  {
   "cell_type": "code",
   "execution_count": 247,
   "metadata": {},
   "outputs": [
    {
     "name": "stdout",
     "output_type": "stream",
     "text": [
      "[[0.         0.         0.         ... 0.         0.16917262 0.        ]\n",
      " [0.         0.         0.05022019 ... 0.         0.         0.        ]\n",
      " [0.         0.1856895  0.07417406 ... 0.         0.         0.        ]\n",
      " ...\n",
      " [0.         0.         0.         ... 0.23613663 0.14122649 0.1423042 ]\n",
      " [0.114721   0.         0.         ... 0.         0.         0.        ]\n",
      " [0.         0.         0.         ... 0.         0.         0.        ]]\n"
     ]
    }
   ],
   "source": [
    "features_train = tfidf.fit_transform(X_train['Content']).toarray()\n",
    "print(features_train)\n",
    "\n",
    "\n"
   ]
  },
  {
   "cell_type": "code",
   "execution_count": 248,
   "metadata": {},
   "outputs": [
    {
     "name": "stdout",
     "output_type": "stream",
     "text": [
      "[[0.         0.         0.         ... 0.13206786 0.         0.        ]\n",
      " [0.         0.         0.         ... 0.         0.         0.        ]\n",
      " [0.         0.07204241 0.         ... 0.         0.0783875  0.        ]\n",
      " ...\n",
      " [0.18709476 0.         0.         ... 0.         0.         0.10855486]\n",
      " [0.         0.         0.         ... 0.         0.         0.        ]\n",
      " [0.05115653 0.         0.         ... 0.         0.06094464 0.        ]]\n"
     ]
    }
   ],
   "source": [
    "features_test = tfidf.fit_transform(X_test['Content']).toarray()\n",
    "print(features_test)\n"
   ]
  },
  {
   "cell_type": "code",
   "execution_count": 249,
   "metadata": {},
   "outputs": [],
   "source": [
    "\n",
    "\n",
    "#####################################  Training Module Ends  #########################################"
   ]
  },
  {
   "cell_type": "code",
   "execution_count": 250,
   "metadata": {},
   "outputs": [],
   "source": [
    "################################## DECISION TREE ###############################################"
   ]
  },
  {
   "cell_type": "code",
   "execution_count": 251,
   "metadata": {},
   "outputs": [],
   "source": [
    "#DTC =DecisionTreeClassifier(class_weight=None, criterion='gini', max_depth=5,max_features=None, max_leaf_nodes=10, min_samples_leaf=5,min_samples_split=2, min_weight_fraction_leaf=0.0,random_state=None, splitter='random')\n",
    "DTC = DecisionTreeClassifier(random_state=8)\n",
    "DTC.fit(features_train, y_train)\n",
    "#labels_train = y_train\n",
    "DTC_pred = DTC.predict(features_test)\n"
   ]
  },
  {
   "cell_type": "code",
   "execution_count": 252,
   "metadata": {},
   "outputs": [
    {
     "name": "stdout",
     "output_type": "stream",
     "text": [
      "Decision Tree Training Accuracy Score  -> 100.0\n",
      "Decision Tree Testing Accuracy Score  -> 99.51338199513383\n"
     ]
    }
   ],
   "source": [
    "print(\"Decision Tree Training Accuracy Score  ->\",accuracy_score(y_train, DTC.predict(features_train))*100)\n",
    "print(\"Decision Tree Testing Accuracy Score  ->\",accuracy_score(y_test, DTC.predict(features_test))*100)\n"
   ]
  },
  {
   "cell_type": "code",
   "execution_count": null,
   "metadata": {},
   "outputs": [],
   "source": []
  },
  {
   "cell_type": "code",
   "execution_count": 253,
   "metadata": {},
   "outputs": [
    {
     "name": "stdout",
     "output_type": "stream",
     "text": [
      "[[202   0]\n",
      " [  2 207]]\n"
     ]
    }
   ],
   "source": [
    "from sklearn.metrics import confusion_matrix\n",
    "matrix = confusion_matrix(y_test, DTC_pred)\n",
    "print(matrix)\n"
   ]
  },
  {
   "cell_type": "code",
   "execution_count": 254,
   "metadata": {
    "scrolled": true
   },
   "outputs": [
    {
     "name": "stdout",
     "output_type": "stream",
     "text": [
      "              precision    recall  f1-score   support\n",
      "\n",
      "           0       0.99      1.00      1.00       202\n",
      "           1       1.00      0.99      1.00       209\n",
      "\n",
      "    accuracy                           1.00       411\n",
      "   macro avg       1.00      1.00      1.00       411\n",
      "weighted avg       1.00      1.00      1.00       411\n",
      "\n"
     ]
    }
   ],
   "source": [
    "report = classification_report(y_test, DTC_pred)\n",
    "print(report)"
   ]
  },
  {
   "cell_type": "code",
   "execution_count": 255,
   "metadata": {},
   "outputs": [],
   "source": [
    "##########below part is for checking the prediction using different data set########"
   ]
  },
  {
   "cell_type": "code",
   "execution_count": 256,
   "metadata": {},
   "outputs": [],
   "source": [
    "dfnew= pd.read_csv('dataset75iotnoniot.csv')##75  iotnoniot projects for prediction  \n",
    "#dfnew= pd.read_csv('dataset75iot.csv')#75  iot projects for prediction \n",
    "#dfnew= pd.read_csv('dataset75noniot.csv')#75  noniot projects for prediction "
   ]
  },
  {
   "cell_type": "code",
   "execution_count": 257,
   "metadata": {},
   "outputs": [],
   "source": [
    "cnew=(dfnew['descr']).tolist()\n",
    "#print(cnew)"
   ]
  },
  {
   "cell_type": "code",
   "execution_count": 258,
   "metadata": {},
   "outputs": [
    {
     "name": "stderr",
     "output_type": "stream",
     "text": [
      "[nltk_data] Downloading package punkt to\n",
      "[nltk_data]     C:\\Users\\Jojy\\AppData\\Roaming\\nltk_data...\n",
      "[nltk_data]   Package punkt is already up-to-date!\n",
      "[nltk_data] Downloading package wordnet to\n",
      "[nltk_data]     C:\\Users\\Jojy\\AppData\\Roaming\\nltk_data...\n",
      "[nltk_data]   Package wordnet is already up-to-date!\n",
      "[nltk_data] Downloading package stopwords to\n",
      "[nltk_data]     C:\\Users\\Jojy\\AppData\\Roaming\\nltk_data...\n",
      "[nltk_data]   Package stopwords is already up-to-date!\n"
     ]
    },
    {
     "name": "stdout",
     "output_type": "stream",
     "text": [
      "------------------------------------------------------------\n",
      "['384 6 feature  favourite memory  fourth grade   day   class go   nature reserve  conservationists tell   grab  birdseed  hold    front      sudden  bird land   hand  proceed  eat    seed    surprise    point   life   never   close   bird  look    close theyre  exotic  interest animals   quickly   come   go    hook sadly every year bird  ingest  plastic   humans deposit   habitats  bird regularly confuse  plastics  food  eat   also fee  plastic   chicks  project aim  help   bird  little rather  allow plastics  find   landfills   go  make  recycle plastic bird feeder  design  great  people without  lot  tool andor skills   also  great homeschool project  kid   kid enjoy feed  bird    learn     end   also  great way    learn  environmental stewardship let get start teachers   use  instructable   classroom add  teacher note  share   incorporate    lesson   project   need   step    need  smaller drill bite drill four  five hole  parallel line  show   picture  red attach  larger bite   drill  drill  two hole mark    red make sure   hole  pretty much opposite        hole  hang  feeder drill  hole   end   stick drill  couple  hole along  center     careful   snap  popsicle stick  half try   drill  five hole per stick  may  wonder     drill  many hole  odd place wonder  longer  hole    technique   call gluefilling  step    gluefill   follow gluefilling  help  glue permanently hold part together      utilize  adhesion   glue   hardness    well   first feeder  didnt gluefill    couple  days  break gluefill    small hole   lid try  join  fill  extra strength  show   picture gluefill  popsicle stick hole put  fresh hotglue   gluefill  glue  lid   popsicle stick  section  gluefill   touch try  move  popsicles stick    parallel  centre   lid  part   little complicate   break     manageable part   small drill bite  drill five hole   bottom   lid   let rainwater escape   seed basin  prevent mold even  gluefilling  hope   arent bore   yet    last time  promise  time   need   careful   things though    moment     wait   part   get one chance   doublecheck everything   move  look back   picture  couple  time    help   position  everything look good great follow  step put  glue  top   fill    container  align  fill   cap   container fill  press   glue  together  make  feeder hang better tie  overhand loop   center   string  also make  feeder look nicer  whole purpose   feeder   hold food right  personally like  use black oil sunflower seed   design  one work      able  use  kind  seed theoretically please let  know  kind  use   comment  fill  13   container  hang   first time   case  fall   whatever reason   fill  almost  top   problems  really       much  put    need  flip  feeder  right   hang  otherwise   probably better  leave  upside     need  flip  follow  step   hang  feeder   probably think     go bird enjoy  security   near  tree  tall bush  quickly hide  predators another thing  think   hang   squirrels   live    big problem   attempt  deter squirrels  give  feeders  sphere   least 25m8ft  diameter  clear space  way squirrels cant leap onto  feeders   branch   grind  also like  put  feeders  place    see  inside   house  hang  feeder   need     bird come   feeder often  shouldnt take long depend    live    able  handfeed bird    amaze thing    kid     reward  fun activity    wait   hope    enjoy  process  create   recycle bird feeder  also hope    brighten   isolation period  much    mine     suggestions  improve  design  would  awesome   like  project  want  show  appreciation vote    trash  treasure contest would really help   thank participate   trash  treasure contest   make  project share   us 18429 enrol 2020 autodesk inc', '362 9 2 feature   upcycle  coffee    chic birdhouse easy  make  hand tool    dollars  materials   expensive part  probably  coffee   originally    teachers   use  instructable   classroom add  teacher note  share   incorporate    lesson  plan  adjustable  base   coffee     use  standard 10 oz foil   need  energy   need  empty  coffee  anyways  make  birdhouse   rough cedar   purchase  menards  big box store would  similar materials   need  follow  project  easily complete  hand tool power tool make things faster   always safer        little helpertools need cut  board   size show    need two piece 414 x 414 square   end panel since  board  512 wide     width   widest roof panel   one   cut  434  give us  12 roof overhang  length   roof panel  adjustable base   size   coffee  measure  coffee   add 112   end  3 total   length   roof panel  cut  might want  hit   edge   sandpaper  avoid nasty splinter measure  112   end   roof panel  mark   end panel     aid  assembly  nail  birdhouse together later use  rule   square  mark  line  know    birdhouse    practice good layout skills even   birdhouse use  narrow roof panel  layout   glue  nail  go   wider panel predrill  nail hole   18 twist drill    necessary    keep wood  split   photo   see   mark  layout   end panel glue  nail  roof together  use three nail     see  things  go together notice  roof   symmetrical     even overhang   side   design   wren house draw  x  corner  corner  mark  center   hole use  118 spade bite  drill   hole  one end panel   want  make   another type  bird   need  research  size hole  need   make  hole  large    get pests eg sparrows live   birdhouse make sure  measurements  layout  still correct    last time  make adjustments apply  bite  glue  assemble  end panel use  layout line  help  get    right place predrill four nail hole 2  side  roof  assemble  6d galvanize finish nail take  time  check  alignment   go offset  nail slightly  avoid hit another nail use   clamp   helper   need   assemble  birdhouse sometimes  part like  move around  much  nail sometimes  nail    mind     happen even    try   careful take  time  tap  pull  nail   try   goof   layout line   move  nail hole   bite  renailed things together  bird  never know  difference maybe   offer  discount  rent use  14 dowel rod  hold  coffee    wood together layout  drill  hole  dowel  place mine  12    corner  end  use  932 drill bite  14 hole   tight   want  dowel   secure   also need  able  remove   clean  maintenance drill  hole   end panel  people think  birdhouse need  perch   ever see  tree   perch bird  know   get      birdhouse sometimes  perch make   easy  predators  get   egg trim  flush   front   house  twist two screw eye  1    end   roof predrilling  make  easier     necessary use  pair  pliers   nail  help screw    wood   eye      go outside  look  great place  hang  new birdhouse congratulations   project    screw eye  use  pack cost   125  menards   want  make  house last longer  would use stainless steel hardware   another birdhouse  make use plastic canister  another brand  coffee adjust  length   roof panel  accommodate  difference  size  canisters    entry   woodworking contest   make  project share   us 18371 enrol 19 days ago  get  vote    cuteness      didnt  think   factor 20 days ago  nice look like  great project  make   kid thank 2020 autodesk inc', '11300 114 24 feature build   wificameraenabled bird box cheaply  quickly perfect   afterschoolclubscouts project   weekend diy build watch bird build nest raise young   long  young fly leave  nest although camera kit  exist  bird box     limitations   usually wire ie  wifi        least 23x  expensive    dont cale  effectively     one camera  one next box itll cost  fortune   want  observe multiple box   say    still want  install permanent 11 camerabox    still much cheaper see appendix 1  bird cam variation use 3ml syringe tube  create nifty little rainproof py hole  insert  wifi endoscope inout   minimal disruption   nest bird  picture  video   view   smartphone endoscopes  use  inspect drain  floor  car repair  name  consequently   make  higher volume  bird cams  hence  cheaper  arguably much  compact indeed   season      use  still   useful device   think    effective way  get start    really become obsess sure upgrade   fancy kit  ps image     im    start   season   update   get pics essentials bird box x4 bargain httpsamznto3cbfc30can get larger bulk quantities  school  4 seem  good starter pack wifi endoscope httpsamznto2vgwupqone endoscope   take round multiple box  accessible drill httpsamznto2vfqaej  case interest 3ml syringe httpsamznto3bxpkfh suggest size 10mm drill bite httpsamznto37wzkxj suggest size mini file httpsamznto2vhyk4u teachers   use  instructable   classroom add  teacher note  share   incorporate    lesson  box show   fair price around 35box  hard  argue     consider youd   buy screw hinge paint nail  drill  assemble   really think     good starter project especially  school  many kid want    go   buy  large quantity  install   number  locations however   really want  make one  scratch  look goodhttpswwwrspborgukfunandlearningforfamil  upgrade  bird box   dowel   front  bird could perch  check   im  sure  much  improve  chance  nest  itd seem plausible  want   fly   hole without look right  shall see  use  3ml syringe    10mm od  8mm id  camera   od  775mm  fit nicely   tube  coincidence  work  treat cut  two around  25ml region  10mm  thickness   bird box wood wall   find   bite tight give   stretch   pliers  hover  camera   approximate middle  check  alignment  turn    45mm   back   roof   bird box  naturally deadcentre take  10mm drill bite  drill  hole note first  drill perpendicular   roof    establish  manoeuvre  drill   vertical   floor   bird box lastly  give  drill  slight wiggle  allow    tight fit  insert  syringe piece  underneath  show  remove  collar   camera    screw fit   attachments  need   give easy passage   tube    tight use  small file   bite  stud  free   hole follow  instructions   endoscope  get image   safe  say rotate  camera  get  good angle  easy   pay attention   angle x   axis  gently twist  syringe   best position dont glue  yet  get happy   setup  realise   make  view port id need  create  reliable watertight bung   still easy  remove  might sound easy    assure    time   engineer  dyson  rubber seal   trivial   reinvent  wheel     great one   syringe indeed    initial inspiration    fit  endoscope  seem  lucky   ignore   write   instructable anyway use  scalpel  pliers cut  plunger  half  reinsert  seal end   syringe  stop water drip   chicks   view   camera    rubber ducky mount   block    anticipate    next height  check  camera function focus etc    impress     see  focal point  good     syringe camera mount  set carefully remove  camera take  superglue  fix  place     lot  space  need fill use  woodglue  even sugru  show indeed  pack  sugru  rather expensive  one project   reckon one single pack   would   easily 10 seal  adhesives sugru optional httpsamznto2t4meee wood glue optional httpsamznto2vg2ajq mini super glue bargain httpsamznto2vg2ajq recommend  get double bubble epoxy  essential httpsamznto2vg2ajq  bite   optional extra   like   drilledout twig look nice    secondary barrier   elements follow step  show   aware  cut slight angle  match  slope   roof  also  keep rain   top   chimneystick  c4 per box one  get go  make quite      son     please    well look froward  instal  around  gardentreesshedetc  see  work best wish us luck ok  forgive  earnestness   ill  back   real image  due course im   fan  post     test fully  give  design  base  exist rspb bird box  really   reason  perform less well   successful alternatives safe  say one must take care   disturb  bird  establish   youre unsure  perhaps instal  wifi cam permanently might    bad idea     endoscope wifi cam cheaper  even   use  11 ratio   allow   learn  best view angle   species etc   post    learn   although ive suggest keep  setup   high ratio  experimental bird box  1 camera    course install  system 1 cam 1 box   permanent setup    youd need  place  wifi transmitter   waterproof enclosure sometimes call  ip rat enclosure   commonly sell   manner  electronics  need  survive  elements outdoors luckily  endoscope cable ie  unit  waterproof     leave expose however  electronic box   usb connection   place inside care   take  ensure   usb power supply wire  keep dry   side  plug   work  main electricity even  afe   usb side care   take  ensure  installation  safe   doubt consult  electrician   qualify person  example enclosure httpsamznto32n9viwusb charger httpsamznto2pjdnar   buy  timer switch     forgetful type timer httpsamznto3a67h07  realise    syringe tube leave    go  chuck    trash   realise   might well  put  good use  create  view hole  set  instal   different heights vertically  also horizontally  ive see   camera bird box   seem  one issue     camera  poor lowlight management   image  dimpoor quality    play around  vacuum form  hdpe  recycle milk jug  realise  could make  nice opaque window    use  heat gun  quickness   form  simple step  show   say upfront im  sceptical   various advertise bird box  claim   able  stick  suctioncups  windows   able   view  inside firstly  think  suction cup   cope  change  moisture heat cold etc   likely fall   would   real shame    eggsyoung kill   process secondly  suspect   mount   busy window   freak   bird  didnt see  convince review  videos  people  actual bird nest  hunch    need   cover     time hence  choose  window     shed   blind  usually   hopefully   work  shall see     tip picture please post      school    teacher  ask  anything  unclear  intend      local nurseryafterschool facility  hence try  keep cost   like   httpwwwjudepullencom  httpstwittercomjudepullen lastly please vote   like  thank  first prize    school challenge   make  project share   us 18428 enrol question 2 months ago love  concept thank  share would like   something similar   couple   bird house weve scatter        cell phone   internet   router  wifi chromecast  win7 win10 laptops  would like  find  wireless borescope thing   could connect      hp wireless printerso     thing   app  thatone  question   chance  youve   research   accomplish last night   device one  use  fiber optic cableanyone answer 8 weeks ago hi thank   kind word glad  like  sadly  personally didnt find  app    even  emulators dont likely work  something like   unless youre  coder  tricky xcode et al  think youre ask   wps function   scope   seem unlikely     next level  marts   could  wrong  nothing   description  suggest otherwise      shoe assume youre game  40  make    honestly pick   unlock second hard android phone  probably 50  amazon  ebay  depstech software need nothing fancy  fun   id consider  perhaps  dont even need  sim card hope  helpful 2 months ago love  youve     idea    could  take  bite   wouldnt need  send   camera probe  get result  ever disturb  birdsbut     inexpensive microboard  camera   solar panel   roof  could wake  every  often take  photo     day  could upload   photos  wifimicro esp32camsolar array  support battery typebattery  protective house reply 8 weeks ago hi captthanks   message ill fessup  say im  coder  shock huh   project  part bear    lack  ability  also  awareness    many people whod want  use cameras  also   techy  pretty much plugnplay  say   certainly   radar    pir sensor update  itll   expensive  essential  situations like monitor hedgehogs etc  need  trigger  ill put    folks im work   look   esp32  thank   j 2 months ago  sort  opaque window   roof would work well  provide light record  allow  bird darkness  sleep reply 2 months ago  put mine   side  im hop  enough   worry  itd leak   top   harder    seal  way  im open  suggestions  indeed  bird dislike skylights  prefer sidelights complex animals huh xd 2 months ago spy  hapless bird ocant  bird   bite  privacy reply 2 months ago  cartoon  come  mind         admit xd 2 months ago  love  project since ive build   birdhouses   days   boy scout    one suggestiontip make  back panel longer   house   extra wood extend beyond  bottom   house make  easier   secure mount  house hang   nail  eventually fall   also   panel extend   well     modify  hinge roof another option   hinge front  swing    top reply 2 months ago  think  get lucky   particular birdbox  cheap       brass keyhole   mount    2inch screw  im hop thatd    take  point seriously   think  backboard   good suggestion  give  storm  late im incline  reinforce actually  anything set  nest nice idea   ide flip roofwill   think       v20 thank 2 months ago    fantastic concept  project  next step would   modify    motion sensor  could detect   bird enter  exit  box  give   standalone power source im think   application    scope stay attach   single box     tree  one might walk within wifi range  simply use  phone app  see  go    beyond  talents   cool  think  reply 2 months ago   great call   guess ive  aware   could   fancy raspberry pi stuff   course  require  knowledge  cod  project  certainly  low entry  skill level intentionally  say id    find  simpler hackso  hop instructables community might   ideas     comprehensive one  mention     advance tbh  something inbetween  need hmmm  thoughts please share 2 months ago   really cool good job  reply 2 months ago thank 2 months ago   find  infrared endoscopes alternatively tiny wifi spy cameras   10 reply 2 months ago  would  function differently   endoscope im  interest   lower price point haha reply 2 months ago  biggest advantage would  infrared lead   bird   see   think     owl box  247 daylight might   issue  sure  get  ones   allow   ir leds  stay   exterior power   issue  supply power  power cable  cheaper  video cable  much since  need  supply power  constant use might  well use  wire camera    great project    tweak    personal need    ir borescope   wifi httpswwwoverstockcomelectronicsspytec16ftusbborescopeendoscopeinspectioncamerawirledsfornightvision14585391producthtml reply 2 months ago  ive  test    seem around 28 inc postage  uk httpsamznto2i2iens true tiny 10buck spy cams  exist  often get warm quickly   keen  put  much   electronics away   bird  possible  might  worry unnecessarily    know better please comment    im try  minimise disturbance  bird thank  comment tho get  think 2 months ago thank im go  try  although im  birdhouse expert   read   place  one   perch   outside  totally unnecessary  even  hazard   give predators like raccoons squirrels etc  perch  hang    burglarize  nest ive make  point  watch  bird around   none   seem    problem perch   entry hole  investigate  future home reply 2 months ago  species  bird require  perch  others    want  perchyou  use   select  kind  bird   want   bird houseyou      research  find   preference 2020 autodesk inc', '1117 6 2 feature build  birdhouse    difficult yet reward task   many different type  bird       many different type  birdhouses    make   read  title  birdhouse     give  instructions    make   bluebird birdhouse    difficult    work    get easier     repeat many step  use   measurements since   hard  explain   build something   word   picture   word   picture   create  instructable  help  build  birdhouse teachers   use  instructable   classroom add  teacher note  share   incorporate    lesson   start  project   go  want  gather  follow materials  tool materials need tool need extra note    gather    materials  tool  need   time  begin  actual constructional process first thing  need    measure 10 38   start   4 board line   carefully   saw  cut   line set  piece   cut  aside  make another measurement  10 38   long board  cut       2 10 38 piece    4 board  two piece     leave  right side   birdhouse   special thing  need      side    need  cut  top   angle   include picture  basically        wood vertically  front  us   could see  flat side  measure 10 degrees    top   leave side   right wall   right side   leave wall  way  smooth side      side  mark  10 degree space cut   opposite corner    10 degree mark make sure    cut   dont trim    top     want  change  length   include picture  help  understand  cut   piece     front   birdhouse  want  start  measure 9 12  cut  piece   front   feature     birdhouse first take  piece    cut   measure 7 14    bottom make  mark   spot  find  halfway point across   intersect   mark  make   bottom  take  1 12 hole saw  center    two mark meet  drill  center hole     bird  enter   drill  hole   way  measure 12  use  square  make  line   way   end  measure another 14    one  another   line     three line  space 14      12    hole  use  slide square  help keep  saw straight  make  line   bird could grip   house    better  put  peg   predators  grab onto  peg  reach   house next   go  want  change  saw angle  10 degrees  bevel  edge   top  want  make     slant  towards  make sure    bevel  edge   dont cut    length    go  want  smooth side     bevel  edge    right way  assembly time come  bottom  many unique feature     cover   section first order  business  want  measure 4   4 board   want  measure 14 away   side  every corner    draw  line   mark   corner     cut across sand  edge  make  corner round   create little space  air  flow    water  gather   house  drain   cut     side   birdhouse     piece  wood   approximately 1 1 38  13 38   thing   need     back piece  bevel  top part  like     front   bevel  back piece   need  rough part   wood face  unlike  front piece    face    dont   rough   smooth side   need  make sure     bevel edge go  right way  want  wood   slant   way towards     finish bevel  back part  time  measure  cut  roof     use   4 board   need  second piece  wood  need   1 x 8  1extra inch  allow    leave  right side   house  board   10 12 long  9 14 wide   board shouldnt need   cut   move    step check  make sure   roof end  square  main part   roof     go  attach    rest   birdhouse    fully cut  piece   time  assemble  birdhouse    certain way   attach  side  make   lot less difficult  put together first  start  attach  right side   back piece  measurement  use   38   half  thickness   board   first place  right side   back  want  mark 18     bevel  edge    18    bottom   bevel  put  right side   mark  clamp    back  measure  2   top   right side meet  back  38    leave side   back   measure 2     right side meet  back   bottom  38    leave side make sure   measurements     back side   birdhouse predrill  hole   wood doesnt split   drill  screw      meet point     attach  right side   successfully attach  right side   back piece  time  attach  bottom first  want  look   right side piece  make  mark 18    bottom   go  put  bottom edge   bottom piece   line  clamp  bottom   rightback piece clamp  optional   aid  assembly  clamp  bottom   assemble piece  look   right side  measure 114   leave side   right piece   right side   meet  back  start   back side  since  push  back  18  want  measure 12    two point   make   like   predrill  hole  put  screw       3 piece attach  time  attach  front lay  front piece   assemble piece    flush even   bottom   right side    lay flush  top   right side first  want  mark 1    face   right side  38   edge  measure 1     bevel section end  38     line   bottom screw predrill   drill   screw  find  middle   front piece  mark    bottom   point measure 12    screw go   middle   back predrill  drill   screw     fully attach  front    time  put  leave side   side     difficult      swing door  allow   open   bird house  clean   first   make  reference line use  square   pencil make  line   middle   screw    side   make  easier  make  screw align make  mark 38    leave side   front face   reference line     predrill  drill   screw   predrill make    little bite deeper   side  swing   screw   tight   want  make  easier make  reference line go  across  leave side  38 onto  back  screw   leave side     front   back must   line    otherwise  leave side wont swing  screw act   hingepredrill  drill   screw test  make sure   leave side swing   keep   swing open make  reference line  like     bottom make  mark 38    reference line   make  predrill  little deeper  like   leave side screw  screw keep   place   want  open  leave side take   bottom screw   leave    open    move   attach  final piece  roof since  bevel  edge  roof   attach   slant first   birdhouse lay front side  lay  roof    flush   bevel edge  sit   table    easiest way  attach  roof   want  center  roof     equal amount  overhang   leave  right side   good  make mark   pencil    center   dont lose  correct placement   want   clamp     dont lose  placement  mark 1 34     edge   top  38   back edge      along  back edge   measurements  correct predrill  drill   screw    need   two  screw   want  measure approximately 6 58   back edge      draw  line   go   first screw   top     mark 658   1 34    side   predrill  drill   screw   final time  youre almost     things  clean   finish touch  youll  good  go    take  orbital sander  sand  flat face     pencil mark  go   take  sheet sandpaper  run  along  edge  make  smooth  careful   get  sliver        mount    tree   fence post close   source  water   drill    tree   access wood   bottom  angle  screw    top  secure   way enjoy  new bluebird house   make  project share   us 18428 enrol 8 months ago  step 12 nicely  ive get  get back  build bird house 11 months ago  look great birdhouses seem like great project  people   get  woodworking 2020 autodesk inc', '13080 39 5 feature  local woodworking club   annual birdhouse contest   opportunity  us  try  outdo     get  crazy entries  make  rubik cube birdhouse  always try  make something  would  funny  see bird use   spend  much time build  decorate     put   display   workshop rather  let  animals  weather destroy   one   different watch  build video  follow  instructions  picture   instructable  build one  supply 6foot 1x10 pine board wood glue spraypaint one 114 screw blue tape sticker label optional tool table saw drill drill bits sander screwdriver clamp printer optional teachers   use  instructable   classroom add  teacher note  share   incorporate    lesson  birdhouse  make  six 9 square  45degree bevel   side  could certainly build  box use straight cut  butt joint   want  adjust  dimension   side  get  cube  tilt  table saw  45degrees  set  fence     9 away   point   blade exit  board  cut  four side  make  square  repeat  5  time  recommend  magnetic wixey digital angle gauge  get accurate bevel cut first  zero    flat saw table  stick    blade  set  right angle  select one piece   front   birdhouse  drill  15 hole   suitable  bluebirds    lot      atl tip bird  picky   size   birdhouses  hole find   kind  bird    area  look   birdhouse dimension chart  find  suitable size house   bird also bird dont need  perch  ditch  dowel    embarrass   glue  front piece  3  piece together use blue tape  clamp pressure  make sure  edge  flush   box  square  glue   top  add  cross brace across  bottom open   would  able  screw   bottom  use  trim router  put  18 roundover   corner tip  make  birdhouse   good idea    way  open     clean    make  look like  rubik cube  set  height   table saw blade   14  cut  shallow groove 13   width   box  box  9   set  fence  3 away   blade  little yellow gator zip sander  awesome    good idea  add drainage hole   bottom   birdhouse  drill   hole inside  groove   bottom piece  also drill  countersink hole   center   bottom   could screw  onto  box  use yellow red blue green white  orange spray paint  paint  side   cube tape   paper towel  block  spray  get  previously paint side note one   youtube viewers comment  bird stay away  bright color like red  orange  sure   true       troll   cant build  rubik cube birdhouse without    aware    want  put  outside   bird   little research   tip  maybe   paint  front  different color  mask   groove  paint  black   would look  like  rubik cube  recommend use  heaver paper  paper towel  block  paint   paint  soak   bleed  little   easily scrap    razor blade though  use regular copy paper  mask   corner  paint  black  well  copy paper   much better job  block  paint   paper towel peel   mask  reveal  finish paint job   satisfy  print  original rubik cube logo   sticker label  stick    center white square since im go   display  birdhouse  make  little triangle stand      go  actually put  outside   bird  would probably attach    tree  fence  felt bad   bird wouldnt get  use    make  less timeconsuming birdhouses     cedar fence board thank  check   instructable   like  project check   website   project  lot  free plan  might also enjoy watch    project videos   youtube channel   awesome day steve participate   color   rainbow contest   make  project share   us 18414 enrol 7 months ago  step 8 well   colorful hope  bird like  9 months ago  look awesome  definitely stand  compare    traditional bird house   site 10 months ago  cooli agree  need  swap    color around 11 months ago nice worki guess  would switch color   couple   square   tick  ppl  aspire ocd oand apologies    may suffer  ocd   mean   friendly joke 11 months ago   really fun watch  paint  black linesgood job  look great 2020 autodesk inc', '1071 5 2 feature   polar vortex decide  turn new england   deep freezer  bird   regularly fee always look cold  would fluff  feather  much   could  hunker   low  possible  minimize  wind effect  final straw   carolina wren hide   board   daughter deck  tiny bird    best  stay warm  alive   felt compel   something  help  know    variety  roost pocket  house available  sale   love  crochet   know  could make something similar     project  bear note youll need  know basic crochet techniques  stitch  complete  instructable materials need teachers   use  instructable   classroom add  teacher note  share   incorporate    lesson rnd 1 magic circle  whatever  prefer start ring might  ch1 10 hdc  center  ring sl st  top  1st hdc 10 sts rnd 2 ch1 2 hdc   st  ch1 ch1   count  st 2 hdc  ea st around sl st  top  1st hdc 20 sts rnd 3 ch1 hdc   st  ch1 2 hdc  next st hdc  next st repeat  around sl st  top  1st hdc 30 sts rnd 4 ch1 hdc   st  ch1 2 hdc  next st hdc  ea  next 2 sts repeat  around sl st  top  1st hdc 40 sts rnd 5 ch1 hdc   st  ch1 2 hdc  next st hdc  ea  next 3 sts repeat  around sl st  top  1st hdc 50 sts base bottom   weave   start tail   go      side rnd 6 ch1 blo 1 hdc  ea st around 50 sts  use   back loop  stitch  force  stand perpendicular   bottom    back loop   make sure  pick  two part   stitch  ensure  good hold  wont stretch like  single part    first picture   see   part   hook  close  view show    find  extra part   version  blo  third picture show    look like turn upsidedown   round  complete rnd 7 8 use  loop    rest  pattern 1 hdc  ea st around 50 sts rnd 9 ch1 hdc   st  ch1 44 sts ch1 sl st  last 5 sts ch1 join w sl st 45 work sts rnd 10 ch1 hdc   st  ch1 hdc  43 sts 2 hdc  last st ch2 turn 46 work sts rnd 11 ch2 count  first st hdc  45 sts ch1 turn 46 work sts rnd 12 hdc   st  ch1 hdc  44 sts 2 hdc  last st ch 6 sl st  join begin  rnd rnd 13 ch1   turn hdc   st  ch1 hdc  45 sts 4 sc  ch6 space sl st  join begin  rnd  use single crochet stitch   chain6  cause  open  arch rnd 1417 ch1 hdc   st  ch1 hdc  49 sts sl st  join ch1 50 sts time  put  round roof   shelter   complicate part rnd 18 start  50 sts hdc   st  ch1 hdc  next st hdc2tog decrease hdc  next st hdc  ea  next 2 sts hdc2tog decrease hdc  next st repeat  around sl st  first hdc ch1 10 decrease 40 sts rnd 19 start  40 sts hdc   st  ch1 hdc2tog decrease hdc  ea  next 2 sts hdc  next st hdc2tog decrease hdc  ea  next 2 sts repeat  around sl st  first hdc ch1 8 decrease 32 sts rnd 20 start  32 sts hdc   st  ch1 hdc2tog decrease hdc  next st hdc  next st hdc2tog decrease hdc  next st repeat  around sl st  first hdc ch1 8 decrease 24 sts rnd 21 start  24 sts hdc   st  ch1 hdc2tog decrease hdc  next st hdc2tog decrease repeat  around sl st  first hdc ch1 8 decrease 16 sts rnd 22 start  16 sts hdc2tog decrease  st  ch1  next st hdc2tog decrease repeat  around sl st  first hdc 8 decrease 8 sts fasten  leave enough tail around 25  close top  make  hang loop weave tail   8 sts  pull tight tie   chain approximately 20 link   loop tie   chain  weave remain tail  securely  sts  complete roost pocket  first picture   view   front   second picture    bottom  stuff   show  shape cut 9 bamboo skewer  half  use  unpointed piece  perch put three piece together  use thread  thin twine  lash    end  make  single perch repeat  procedure two  time result  3 perch one perch   insert side  side one  two row   bottom   pocket  center   front  back  second  third perch   insert front  back one   right     port      leave   port  slightly higher   give  bird  variety  seat options insert  perch   stitch   desire location find  correspond space   opposite side  bring  end     level  picture show  front view  back view  perch placement  youve insert  perch hang  roost pocket   shelter south  eastfacing location somewhere  bird would naturally seek protection  harsh weather  sure  make daytime check inside  pocket  winter progress  spring   days start  get longer   see sign   nest  progress addition  twig grass moss  lot  feather take   immediately roost pocket    safe place  baby even   dont see nest activity  best  take  pocket    danger  frost  pass remove  perch  launder  could probably stand  seasonal weakbleach treatment   thorough airdry   bag  storage accord   lion brand label  yarn  use   machine wash separately  mild soap  gentle cycle use lukewarm water   bleach    require fabric softener   use   recommend tumble dry  low heat  remove promptly hand wash  dry  also  option use warm water  mild detergent rinse well  cold water  squeeze  roll   towel  remove excess moisture spread item flat   smooth surface  allow  dry thoroughly   hang  dry participate   warm  fuzzy contest   make  project share   us 18428 enrol 1 year ago thank  share 1 year ago  behalf  bird everywhere thank  2020 autodesk inc', '1096 13 feature instal  bird feeder  allow   help  species   middle  winter  food  scarce   also  able  observe    species  live near  garden take picture     enjoy  presence   bird  instructable explain   cut  build   bird feeder   laser cutter enjoy teachers   use  instructable   classroom add  teacher note  share   incorporate    lesson  give file  optimize  use   acrylic plate    material    laser cut  use 250mm500mm plat   3mm thick   want  use another dimension   rearrange  design   careful  drill adapt slot  mount easily  bird feeder   also get 4 m3 screw  add  holder   help   attach  feeder   tree  use clamp  glue download  attach file  cut    also add  custom engrave   want   hot air gun    source  heat   heat  fold  two bar  hole    useful  attach  feeder   tree   tiny hole  help   fold   right place  heat   plastic  soften     able    45 angle    maintain    cool    careful  use hot tool assemble   piece together  use  14 small key  hold  piece together normally  piece  slot  different   cant make  mistake build   thing   precedent step   heat  fold  corner   roof  careful   heat   much   plastic might burn  get ugly bubble  patient  fold    plate  soften   whole width  use m3 screw  bolt   could maybe use  glue  even clamp  make  100 plastic  use  sunflowers seed  fill   france   live  bird like great tits like   lot      find  tree  install  thank   holders   help   maintain   wire   hole    find tip  locations   install bird feeders httpswwwallaboutbirdsorgwheretoputyourbi  hope  like  tutorial feel free  ask  question  suggest  improvements   comment participate   plastics contest   make  project share   us 18140 enrol 2020 autodesk inc', '10922 153 39 feature spring  come   im plan  add new birdhouses   garden ive find  old pvc sewer pipe   workshop  would   perfect   project ive see something similar   garden center  id rather build        recycle  old pvc pipe  well im plan  build two different kind  house    two similar ones   shape like  mail box  newspaper horizontal pipe  one  look like common birdhouse vertical pipe   small roof teachers   use  instructable   classroom add  teacher note  share   incorporate    lesson  need three piece   pipe  build  body   house  two horizontal house   length   35cm 30cm due   angular cut   vertical house  height  25cm 20cm due   angular cut  pipe   inner diameter  10cm please see  picture   dimension  use two parallel wooden strip   jig  help  cut  use  saw  cut  pipe   use one angular cut  two body  use  piece  plywood   back  front  need two circular piece  one ringshaped piece  one birdhouse two   vertical house  diameter equal  inner diameter   pipe  use  compass  draw three equal circle one   smaller inner circle  ring    thickness  12cm  drill  hole   inner circle  use   cut     jigsaw   cut   outer circle  repeat  process    second birdhouse  vertical house need  one circular  one ringshaped piece  front need  entrance hole   perch  diameter   entrance   important  define  type  bird  might  use  house ive find  nice list  typical diameters   species httpswwwthesprucecombirdhouseholesizes386641  might need  bigger pipe   big bird   use  foster drill  cut  entrance hole   normal wood drill   perch  perch   simple roundshaped wooden beam  use wood glue  mount    front panel  add  stainless hook   back panel  make  easier  remove  later   clean purpose  vertical house need  roof therefore  cut  square    plywood use  jigsaw   use  straight lath   guidance  use  edge length  18cm  mount  roof   pipe  use  router  mill   small groove   roof part therefore  mark  pipe use  pencil  fixate  part   clamp  use  router freehanded  mill  groove  groove   perfect   enough   project  groove   later fill  glue  silicone  nobody  notice    want  cover  roof   sheet  metal    spare  build  carport  cut  square    sheet   2cm wider   site   roof 22cm  might  condense water   wooden sheet   metal sheet therefore  use  small piece  roof paper  protect  wood  mould   nail    plywood use galvanize nail  wrap  metal sheet around  wood fold    edge  use   nail  fixate   vertical house   front make  wood  body    entrance   perch therefore  use  foster drill  cut  entrance   wood drill  cut two hole   perch one   site  perch go direct   whole body   cover  body  spry paint therefore  use grind paper  roughen  surface  water  clean   afterwards let get  color shall   hang  body   rope  start paint  inner surface  edge   part  dry  build  small rack   help    paint process  part  dry   mount    rack   rotate  part   rotate  rack   rotation   apply  paint evenly  wooden part need  coat  well  use three layer  white paint   suitable   outdoors  perch  go   red   nice eyecatcher    mount  front   ringshaped part   body  use three stainless screw  three plastic washer   part  plastic washer  seal  hole   keep  water outside  mark three spot equally around  pipe  drill small hole   thin drill  fasten  screw use  screwdriver  careful    apply  much force  perch   vertical house go right   body  use  small screw   back  fixate   glue  roof   body use waterproof glue well   almost  jigsaw ok well    poor job  cut   round shape part  fix    make  house waterproof  add  small amount  silicone   gap   wood   house wall ill     front  back panel   roof  birdhouses  hopefully house  birdie   spring  summer  clean   fall  add  simple hatch   back    lid fixate  screw  lid cover  ringshaped part congratulations everything      hopefully  proud owner   new birdhouses let take  outside   foto shoot   wilderness   use two different methods  mount  house method one    nylon rope within  tree method two  pipe clamp mount   shed  carport  important  face  entrance   right direction  far   know  birdie like  doors point  easteastsouth direction oppose  weather face  hope   enjoy build  please let  know  experience  improvements please put photos   comment participate   trash  treasure   make  project share   us 18428 enrol 2 years ago thank   great job id still go  white pvc much less heat absorption   summer reply 2 years ago    great idea question 2 years ago    metrics answer 2 years ago    think nobody post  thing  standard measurements anymore    unfair answer 2 years ago yes  dimension   cm 2 years ago nice job   job   doubt  bird   happy   reason first   bright color   attractive   human eye   bird eye bird tend  choose  restful color second  birdhouse  ensure sufficient thermal protection  protect nestle  night cold    birdhouses usually make  quite thick wood seal  birdhouse  silicone seem  bad idea   last  nestle    able  leave  vertical birdhouse due   gloss pvc tube surface sadly   work  nice   useful reply 2 years ago thx four  advices  color   easily exchange ive spot  bird check   house already hope  like   thermal protection could  big problem ive place  house near  wallbig tree  cover   sunlight  hope   keep  warm  night    hot   day  hope  nest material  help  little ones  escape  guess ive  check   twice   year   least ill see  fall   birdie use  house   reply 2 years ago     reply  iii2 pcv  perfect  bird house gilbertson box  show   picture   make  pcv  wood  perch  require  simple shingle  cover  top  sufficient  keep  rain   hole  drill   bottom   box  provide drainage silicone   require   box need   ventilation  live  minnesota gilbertson box  use  bird start  april  last fledglings   go  october  box typically  two nest per year      3   important thing   know  kid  bird  want  attract  provide box  meet  specific birdd requirements  monitor blue bird box  bird   picture   tree swallow  put  box   pair   one box get  tree swallow     blue bird  two type  bird  compatible   tree swallow protect  blue bird   put   bird house please monitor  weekly question 2 years ago    measurements   angle cut   pipe answer 2 years ago oh im sorry ive miss  information   description  make  quick sketch    measurements ill add    description  well thx   question 2 years ago  step 14  bird house  almost   quite  gilbertson birdhouse  gilbertson  design  blue bird httpswwwnysbsorghandoutsgilbertsonpvcnestboxpdfi think  actual gilbertson box  better    design  easy monitor   specifically design  bluebirds   diminish habitat one thing  consider  put   bird house     tamper  nature   okay   tamper wisely monitor  bird house weekly  make right kind  bird  use  blue bird  good starlings     monitor  box   time  put     way     bird fledge     place  bird house  important   bird house hang   rope  tree make  great raccoon feeder  think  make  nice birdhouse    little  research  could    good birdhouse youve put  lot  care  skill   build reply 2 years ago  look really like  gilbertson birdhouse thx  share  manual    eye   birdhouses unfortunately    blue bird   area  majorities  bird  tits greenfinch robin  sparrows  small size birdie    bigger ones    mainly breed  live   grind   hedge  main predators  cat      raccoons ive hang two house directly   wall  one   treetop  hope   keep  predators away  really thank    comment cheer 2 years ago  white vinyl finish washers   screw may help  keep rain    think  really make  project stand   nice project reply 2 years ago thx  hope  birdie   distract   much contrast 2 years ago   beautiful reply 2 years ago thank 2 years ago youve give   idea  quick bat house pvc pipe  know reply 2 years ago thx  im glad  like     good advices   comment  might want  check  id like  see  picture   bat house 2 years ago  step 14 great idea   think      small bird specifically chickadee feeder  pvc  north    waterworks supply company   great assortment  cut  piece  vary size  pvc pipe   8  even bigger pretty inexpensive   scrap pile reply 2 years ago thx   adjust  size   bird  want  attract  big version   birdhouse would look great   oversized  2020 autodesk inc', '812 5 2 feature   saw  bird house make like    give   shoot  like  natural look   little man make dare  say steam punk look  wasnt  hard   make   stuff   sit around  garage teachers   use  instructable   classroom add  teacher note  share   incorporate    lesson  hunk  tree  use  piece  wood   basically unsplit firewoodchain saw  ban sawforstner bitdrillhammerwood chiselswood screw tin  aluminum    roof material option pallet wood    flat piece  wooddrill bits find  right piece  wood  diameter need   enough    rip  saw   back 13  cut  piece  wood    manageable size  rip  back    use  chain saw  rip  back  depend   size  ban saw might work   need  start gutting  nest place    large piece youre clean  wood    back   house   clean   think    entrance   come    front   size   bird  try  attract   plenty  web sit     tell   size bird house entrance  attract  species  bird  use  forstner bite  clean   house  cut    house    drillled    front  make sure  live space  line    entrance  forstner bite  perfect     clean    make sure  entrance    long   take  piece  aluminum pipe use  exhaust vent  cut  piece  cover  roof  want  give   little different look   also hop  would keep rain   top   house attach  roof material  roof didnt look spectacular      first one  madenow    go  close   back   house   use  original piece  cut earlier  use  piece  pallet wood  attach    wood screw  may want  drill  starter hole  prevent split  forget  take picture   couple   final step sorry    heres  final product  use  pallet wood   back   different look    would  easier  hang  bird house   fence ill make    birdhouses soon  try  perfect  process  may try clean   bird live quarter   chain saw instead   forstner bite  see   speed   build    meantime happy build   make  project share   us 18428 enrol 2 years ago thank 2 years ago nice design  like  natural look    much better  traditional bird house 2020 autodesk inc', '2969 1 2 feature  recently move   new house   huge picture windows one   side windows look  onto  narrow side yard  place  cat large tree  front   window   hang  couple bird feeders  hook   fence outside   would   cat tv  entertainment   okay   feeders hang  low  big hook  expensive   seed get wet since  live   wonderful pacific northwest   need  better solution teachers   use  instructable   classroom add  teacher note  share   incorporate    lesson  make  hasty sketch  rough   ideas  priorities   structure  1  could hold multiple bird feeders 2  would provide  shelter   seed would  get wet 3  structure would  flexible   feeders  change throughout  season 4  size would  large enough  fill  7ft picture window width 5  would  tall enough   view  maximize  people sit   front room look   picture window    cat 6  would help obscure  view   neighbor house  back yard   call  dad  talk    need  turn  sketch   viable design proper roof increase foot etc thank dad    items  use   build quantity material 2 4x4x10 treat wood post 1 cardboard concrete tube cut  half  use  8 wide tube 2 80 lb bag  quikcrete 7or 8 treat  untreated 2x4x8 lumber     contact   grind   use untreated 1 treat 2x6x8 lumber 2 untreated 1x4x8 lumber    quite  bite leave  1 4x8x34 exterior grade plywood cut  half lengthwise   diy store 1 8 ft length  34 metal electrical conduit pipe 2 5 ft lengths  5 ducting pipe 1 package  3tab asphalt shingle  get  damage package  home depot  10 1 roll  asphalt paper    lot leave    project 1 box 34 inch roof nail 1 box 2 12 inch exterior screw 12 box 3 inch exterior screw 12 box 1 12 inch exterior screw 4 emt strap ushaped ones   hole   end 6 slant nail joist hangers 2 1916in x 3916in rafter tie  hold  2x4  top   4x4 post 2 lbrackets staple  items   mixture  purchase items  ones    hand    sure improvementschanges could  make   materials list note  get    metal fittings  habitat  humanity restore   great price since  sell    pound  tool  use circular saw hand saw drill speed square staple gun posthole digger hammer 2way post level level angle grinder  window  7 foot wide   position  post  line    end   window  dig 2 hole approximately 25 inch deep   10 inch wide   posthole digger   throw   stone  hit  dig  hole   bottom next  cut  cardboard concrete tube  half use  hand saw  place one half     hole  top   stone  place one 4x4 post     hole inside  tube  brace  use various materials    hand   mix   two bag  quickrete  put one   hole around  post  use  stick  tamp   concrete around  post  leave   set sorry   take  picture   point  next weekend  remove  brace  cover   top   concrete   dirt  remove   hole  cardboard tube   bite proud   grind     trim later  intend  pave  side yard eventually    leave  proud   finally  put  5 diameter ducting    post note try  set  ducting   round shape  infuriate   look   video   easiest way       sand   corner   post    place  order  adjust  placement   ducting   post  think  would need  secure  ducting   screw  two   hold tight    friction fit next item   roof ridge  place  metal fittings  top   4x4 post without screw  set  8 ft long 2x6  top    could check  see    level  course  wasnt base   read  trim  post   fix  fittings   2x6  place  screw look   structure  decide  add another 2x4 immediately underneath  roof ridge   add stability  b provide  wider surface upon   mount  electrical conduit pipe  would hold  bird feeders   use lbrackets  mount  2x4   4 inch side   bottom   2x6  mean    force two metal fittings    small space   end   manage  squeeze    hindsight   sure    much easier  cleaner solution   afterwards  screw    bottom   2x4   2x6   provide  much need rigidity   structure finally  trim  metal conduit pipe  fit within  post use  angle grider  mount  use  emt strap  use large emt strap  push  end together  bite  pipe  able  hang    inch   2x4   hang  large sunflower feeder  hummingbird feeder   nyger seed feeder   pipe use shooks  use  shooks   pipe allow   greatest flexibility  hang options early customers   feeders seem quite comfortable   structure  far   could move    roof read      roof  regular construction book  online  find shed instructions     helpful probably    work  small light structure  couldnt find anything specific   type  roof  want    make   apologies   people  know  roof   already   fix measurement   roof panel 2ft x 8 ft  two halve   original 4x8x34 panel  drive    remain roof measurements eyeball  angle   2ft piece  plywood scrap  determine   want  roof     512 pitch  would drop 5 inch  every 12 inch  run   612 pitch  would drop 6 inch  every 12 inch  run  would  sufficient  protect  feeders   obscure  view    also decide  use 2 inch   24 inch width   plywood  act   overhang  use  pythagorean theorem   right triangle  square   hypotenuse equal  sum   square    two side  determine   exist roof panel 24 inch minus 2 inch  overhang  essentially  hypotenuse base   calculation  set  crossbar  b   calculation  approximately 8 inch   top   roof ridge  secure  crossbar   side  screw  cut two 2x4s  connect   essentially create  box  8ft length  plywood need   support   place three rafter   side   roof ridge  first rafter  cut  1x4 base   earlier calculation  cut  rafter  approximately 23 mount  joist hanger  one end   hold    place  determine   bird mouth cut would     sit   box  also mark   end   rafter need   trim    would   alignment   plywood top     template rafter  cut  remain two   one side   structure everything   screw  place  repeat   process    side    adjust  measurements slightly    side  place one plywood piece  top   rafter  screw   place         plywood piece    side    slight gap   board butt      roof ridge   would later  cover   roof materials   measure  two piece  roof paper approximately 9ft  length  center one piece  one side   structure  make sure   approximately 5 inch  overhang   bottom  enough   top  cover   gap    plywood piece   staple  place along  top first  hold    shape   side  wrap around  plywood piece  try  make   corner look  neat  possible  staple everything  place  repeat  process    side   roof  go  one   local diy store   supply  find  shingle   close   color   shingle   house    break package  shingle   floor   agree  sell     10 60   read     attach shingle  follow  instructions mostly   start  trim  starter row  shingle  put    bottom   panel  lay  first row  shingle  top   row   stagger  next two row  shingle   roof panel    exact  way finally  cover  roof ridge  didnt use specific shingle   roof ridge instead   use individual shingle  cover  roof ridge    use  break package  asphalt shingle   probably one row short   side   roof however  dont think   detrimental   structure since  panel  completely cover  effect  mostly cosmetic  shelter     use  several months    work  well   able  change   feeders easily  food stay dry   bird  comfortable   structure   design issue weve    water occasionally drip   roof paper  heavy rain     really go  damage  structure beyond      bite dark   structure    go  add  cheap string  solar light   inside    bird  easier  see   make  project share   us 18428 enrol 2 years ago     issue  squirrels reply 2 years ago yes    healthy squirrel population    moment   jump   nearby fence   roof   feeder stand     access   end feeders  pipe   uprights really limit  access   didnt   fence   close launch point  would   able  access  stand   stick   limitations   site     sacrifice feeder stock   cheapest seed mix   find   squirrels    side   easier  raid 2020 autodesk inc', '1022 3 2 feature materials need 2liter plastic bottle empty wash  airdried 6 127 ft  household twine round plastic deli dish 12 lb size 2 large rubber band 34 large plasticcoated paper clip 23 twistties mediumsized funnel highquality bird seed without crack corn teachers   use  instructable   classroom add  teacher note  share   incorporate    lesson wrap  end   twine around  mouth   pop bottle twist  twist twine upward    end   bottle  back   mouth  twist  twine around  mouth   back    end  slide  twisttie   twine   wide end gather  section twist together tightly  hold  twine  place    extra twine  form  loop  twisttie wrap tightly around   keep   place     extra twine  twisttie   make   loop   piece  wire   slide   twine  hand  finish product   tree branch slide  large rubber band   end   bottle   mouth    tight slide   large rubber band   deli dish keep  snug    rim   open end open 34 large plasticcoated paper clip     hook   end hook  paper clip   rubber band   deli dish hook 34 paper clip   deli dish   rubber band evenly space  apart    hook   end   paper clip   rubber band   around  2liter bottle  evenly space  apart     bird feeder  look like    add bird seed unhook 2     paper clip    deli dish hang   side add birdseed use  funnel rehook  deli dish carefully flip  feeder    seed fall   deli dish     birdfeeder  look like   fill  hang    tree   head    tall shepherd hook  keep   cat  animals reach  may take  week    bird  find  feeder check weekly   seed   mold clean     find    may  necessary  poke small hole   bottom   deli dish   point screw  let   rainwater mel  creator   responsible   injuries  death  may result   video  instructions  make  product plastic bird feeder   make  project share   us 18393 enrol 2 years ago great use  recycle products    protect    rascal critters  reccomendations 2 years ago interest video     recommendations  seed  cardinals  blue jays thankschad 2020 autodesk inc', '1200 18 3 feature  saw  funnel    inspire  make  awesome bird feeder     want   look like something  grandparents would  buy   fee store   1930   little search   able  find  rest    need  complete    look  envision    easy  build project  readymade part    source   home  hardware store    complete   hour  two  simple tool  like  farm storeindustrialgrain silo look   know    look good  lot longer   feeders   buy teachers   use  instructable   classroom add  teacher note  share   incorporate    lesson  tool   need   follow drill step drill bite   set  drill bits 116  316 rivet gun carpenter square flexible measure tape center punch treamer optional dull side cut pliers sharpie grinder  cut  blade  sawzall  picture    later tube cutter optional    materials   need big metal funnel tractor supply   8x6 duct reducer  home store    pie plate   thrift store     smaller diameter   funnel  water wont drip  1 38 fence cap  might   get    fence store  home store dont carry  14 copper tube 68 long 116 cable old bicycle brake cable  work 116 ferrules small fender washers 316 x 18 rivet aluminum metal plumb tape prepunched hole mean  drill  measure first  need  cut  end   funnel     cap  fit  also make  open bigger     easier  fill  feeder  birdseed  easy way  transfer  diameter   cap   funnel   make  template   card stock    trace  circle make sure  draw  actual cut line  14  38 higher     something sit inside  cap cut   sawzall    best way     jump around  shake  make  pretty uneven cut   use  grinder   cutoff wheel  something like    would recommend    much better method  hacksaw might work      use  center punch mark two point   want  drill hole   cable   suspend  feeder look inside     avoid drill   thick part   funnel neck  drill   bite slightly bigger   cable    part  keep  cable separate   dont hit  top   feeder cut  tube long enough      bend   desire width  end  point straight  six  eight inch   right  use  tube cutter   reamer   hacksaw would work next bend  around  round object    size  need  use  front   drill pass  cable   cable separator push  cable end   funnel put  washer   ferrule   crimp  ferrule   pair  cutters  duller  better  dont want  cut  want  smash     side unfortunately    math   project measure around  duct divide  three whew im glad    use  metric side   tape  make  easier mark  three point   sharpie use  square  mark 34    top  keep things even  use  square  transfer  measurement   bottom   duct   dont    math  plumbers tape break   little back  forth bend bend  piece   three small hole break    repeat youll need six piece   size   rivet   little bite  big   hole ream    fit center punch  three mark   top   duct use  step bite drill  316  pretty easy  drill  far  sheet metal  make  hole bigger   want    start  go   metal stop push   reason  316 rivet didnt fit   316 hole  drill   half twist   reamer make  work  pop  strap    step  helpful  put  funnel    bucket  flower pot  hold    work use  square  center  duct   funnel  trick   keep adjust     measurement   way around   look like  center make  mark     easy  put  back make  dot   sharpie   center   end hole   strap  youre satisfy   mark punch  drill  like  put  top  bottom together  push  rivet   hole   put one hand inside  hold  together   squeeze  rivet tool    hand make sure  strap  push   way    rivet   squeeze  handle  duct  hang  little   rim   pie pan    stay full  seed   spill       first bend  strap   solid part    small hole   end pliers make  easier  hold one     bottom   duct   distance   desire gap stick  mine    inch   depend   depth   pie plate  find make  dot   duct   small hole   top   strap use  square  transfer  measurement    mark punch  drill  like   center  duct   pie plate use   trick   square  step ten transfer  three mark   duct onto  plate  measure    12    mark  duct  use  hole   plumbers tape   tape measure      drill center punch  drill three hole test  see   rivet fit ream  necessary rivet  strap   inside   duct   bend part face    last step put  funnel    like  step ten line   hole   tricky   cant put  hand inside   point   help   put  rivet   hole one   time  take two squeeze  pop  rivet   one squeeze   rivet  go back around  second time  finish    finish touch clean   sharpie   qtip  alcohol      bird feeder  look cool   last forever  best way  fill     funnel   worry  moisture get   could put  tiny blob  silicone   hole   cable go   pull  tight   dry  didnt feel  need      steep roof  shed water quickly  remember   past 316 rivet fit   hole  plumbers tape maybe things  change   memory  wrong     hard  make  fit participate   homemade gift contest 2017 participate   first time author contest 2018   make  project share   us 18428 enrol 2 years ago  creative  love  2 years ago  love  industrial look  really nice reply 2 years ago thank 2020 autodesk inc', '1026 7 2 feature want  attract  bird   garden  something homemade  simple  pine cone bird feeder   thing     need  1 peanut butter 2 1 pine cone 3 bowl 4 bird seed 5 spoon 6string 7 spread knife teachers   use  instructable   classroom add  teacher note  share   incorporate    lesson cut  piece  string  tie 2 knot     tighten yet wrap  string around top   pine cone  tighten  knot put peanut butter  birdseed   bowl  mix    spoon  use  knife  spread  bird seed  peanut butter mixture   pine cone   make sure  fill   gap tie  end   string  pine cone attach     tree branch   make  project share   us 18429 enrol question 2 years ago  introduction  long   set  stay  answer 2 years ago  really depend   weather   rain    long    sunny 3 5 weeks  top 2020 autodesk inc', '3950 feature   make  simple water feeder  bird use materials  already   home teachers   use  instructable   classroom add  teacher note  share   incorporate    lesson materials  old small plastic container string  bigger rock  smaller stick   branch   make  ive use  old plastic container  drill two hole  opposite side  put  small stick   branch   hole  tie   use  thick string ive also add    string around  upper corner  provide bird extra land space  stability ive also add  bigger rock inside   keep  feeder  place  also provide  land space   bird  well   stick   place   middle    really simple water feeder    make use materials   find  home help bird find clean  fresh water  winter  make  place  water feeder   backyard   park etc   detail stepbystep procedure watch  video  bird   wildlife water    important   cold months     summer even  place  abundant snow  ice  cost bird precious calories  body heat  melt freeze water backyards  provide fresh clean liquid water  winter tend  host  avian visitors   freeze yards    tip  provide water  wildlife   cold months place bath   sunny area  make   visible  bird   help keep  water  freeze help bird stay dry  drink  easily  add several stone   bath  place   stick  top   animals  use  perch   make  project share   us 18429 enrol 2020 autodesk inc', '1135 15 1 feature   quick  simple way  make   birdseed silo without  special materials   make  perfect function birdfeeder  waste material one empty milk carton  pair  scissor two staple   stapler piece  wire  string birdseed teachers   use  instructable   classroom add  teacher note  share   incorporate    lesson find  empty 1 litre pack  milk yoghurt  something like  cut   bottom   2 cm rim rinse  inside   box push  section   front side inward  make  diagonal fold   side place  box inside  bottom secure   staple   side attach  piece  wire  string  hang  box fill   birdseed  select  place   garden wait till  bird discover  new fastfood restaurant participate   design  kid challenge   make  project share   us 18429 enrol 2 years ago en dan zeggen de belgen dat nederlanders zuinig zijn ik vind dit ook zuinig maar wel heel slim bedacht smart idea  cheap  money  birdseed 2020 autodesk inc', '16076 191 50 feature  idea  build  log cabin bird house come  storm ophelia pass  ireland   16th october 2017 cause  lot  damage  property  also uproot  knock tree   brief let    wind  venture outside   look around   hear  see  hedge nearby alive  bird take shelter   storm  dont know    frighten      sheer number     noise   make  deafen  would never cut   tree  make  bird house   spend  time  follow day collect small branch  stick    break   fall   storm  project  make use  hand tool teachers   use  instructable   classroom add  teacher note  share   incorporate    lesson   look   video   see   build  log cabin  start  finish   hand tool need   build   hammer hand saw tenon saw hatchet utility knife  blades materials stick  piece  pallet wood roof panel pin polythene grass sod chicken wire staple glue  start   cut  piece   pallet wood  8 inch 200 mm x 6 inch 150 mm  piece  eventually become  floor   bird house   start   use   set  size   cabin use  tenon saw   finer cut  cut  number  piece  stick   front back  side next use  utility knife  strip   bark   stick  stick  use    mix  3 tree ash hazelnut   dont know   third type   bark come away easily   wood  still  fresh  set  stick around  pallet wood base  mark  intersections   cross    pencil   mark  curve  half  width   stick  set  carefully cut   curve   sharp utility knife  process  take  bite  time  test fit  joint   go   adjustments  require    happy   joint  apply  little exterior wood glue  nail    panel pin   joint   first set  log stick  pin     matter  fit  log    way     reach  height   happy    entrance  fit  log  normal   cut  ope  pin    last two log   side  leave    half inch longer    create  overhang   roof  roof pitch  somewhere around 2530 degrees  cut   rafter  pin  together  attach   cabin   go  add  rafter  felt    need    rafter  go   attach   gables   would  good enough  hold  roof   gable log  mark    rafter  get  correct angle  cut    pin     way    need something  support  grass roof   use  pallet wood   use  hatchet  cut   edge  form  miter along  ridge   two piece   wood would meet  dont really         eventually  cover       happy   fit  attach   piece  wood   roof use panel pin  add  trimfascia also make  stick  around  edge   roof    hide  edge   grass    fit  also  hide  edge   pallet wood  use   roof   stage  attach  base    cut earlier   use longer panel pin     may need  remove  base   time  clean  inside     easy enough    remove  pin  put   help protect  wood  waterproof  cabin  staple   polythene    chicken wire    hopefully prevent  grass sod  slip   polythene  trim     extra polythene   stage  go   corner   garden far away  view  use  knife  cut   grass sod take  time    peel  little   time    remove place  sod onto  roof  gently pack   place  cut   excess    entirely sure  well  grass roof  hold   time    fine  autumn winter spring  ireland anyway   fear   summer months   dry    water time  tell      finish log cabin bird house  hope  like   maybe   go make one    easy project  make use    hand tool    require  little patience    joint   probably   biggest log cabin   ever get  make   think    spend  time    joint   could  come   something  lot quicker  easier  make   glad  spend  time make     happy   result   think    good way  use    fall wood   storm  rest  probably end    stave   would like  see  project     subscribe   youtube channel hereeamon walsh diythank  first prize   hand tool  contest 2017 participate   reclaim contest 2017   make  project share   us 18429 enrol question 12 months ago  introduction   panel pin    trim nail 1 year ago  much longer   pallet wood   make  log question 1 year ago  would  go  make      clean   1 year ago  would  go  add  hinge   birdhouse 2 years ago great project  feedback  current residents 2 years ago  fantastic dude reply 2 years ago thank   much amiir 2 years ago   great im go  try    hinge roof  base  make  easier  clean 2 years ago look like  nice project  complete   grandson reply 2 years ago great idea  would   lovely project   together 2 years ago wow  really well  havent see anything like   reply 2 years ago thank  2 years ago nice job   know      huge pile  lincoln log  kid  longer use  would hinge  bottom board  serve   clean  door   go   fun reply 2 years ago hi thank youi  never hear  lincoln log    day  someone else mention   would  love     younger  would make  great bird house 2 years ago  nice  well write inspiration  want  build  full size log cabin   zero experience      ill build  bird house first  learn  small scale  take   bigger project  know maybe  make  big one look like  oversized bird house many thank reply 2 years ago thank youthis      biggest log cabin il ever get  build yes   sure  would   good experience    model size one  get  feel   work involve  make  big one good luck 2 years ago   fantastic  everything  6yrold neighbor    save  hatchet  especially make  bench hook  well  two question  shave  bark    think  sod  last even   emerald isle reply 2 years ago hi thank    take  bark   aesthetics  real size log cabin home remove  bark      home  insects  trap moisture   lead   deterioration   logsi think    fine   winter spring  autumn months    dry   think   summer months unless water   answer  question    sure  time  tell   post  update   come months  see   get  2 years ago lovely reply 2 years ago thank 2020 autodesk inc', '691 6 1 feature bird dont like soggy sunflower seed  live  vancouver island   west coast  canada   winter  mild    quite wet   past     dispose   lot  wet moldy birdseed  clean   feeders   instructable   upcycling  old satellite dish  use    rain shelter   birdfeeder  feeder originally hang   tree   wire  even though  feeder    bite   roof    fill hatch   top didnt seal  well  order  employ  satellite dish effectively  decide  mount   dish  feeder   fence post  involve construct  bracket  support  feeder   bottom    fairly easy project    accomplish  anyone  even  basic maker skills  project   complete  1 day although  paint  involve allow 2 days teachers   use  instructable   classroom add  teacher note  share   incorporate    lesson 1 orphan satellite dish 1 bird feeder  34 post mount hole   bottom 2 step washers 34 shoulder  12 step   hole 1 emt conduit pipe x 1 long 1 212 x bolt 1 nut 3 flat washers 1 fender washer 1 lock washer 1 1 x x 14 piece flat iron 1 1 x x 6 piece flat iron 1 38 x 3 piece  rebar cut  45 degree   end 4 14 x 2 pan head wood screw  exception   weld optional    project  doable   common shop tool start   modify  satellite dish arm  allow   mount closer   post  accomplish  simply cut  curve part   pipe    use  hacksaw      zip disc   handheld grinder    dish   mount   back skyward    good idea  drill  small hole   bottom lip  collect rain water  drain away next cut away  two tail  extend   back   dish beyond  lip cut  flush  lip  dish  ensure  dish  fit close  fence post  use 1 x flat iron  form  bracket    plenty  options  include  purchase bracket   hardware cut two piece  iron  horizontal piece 14   drill  hole  one end 1  end  attach  peg  support  feeder  vertical piece  iron  cut  6  drill two hole  one end one  1     3  two piece  weld together   90 degree angle weld  end without  hole  also weld  short piece  38 rebar   corner brace  wouldnt   necessary assemble  peg insert 1 step washer   bolt follow   1 piece  emt    step washer   3 flat washers  finally  fender washer  assembly   insert   hole   horizontal leg   bracket point upward slip  lock washer   end   bolt  attach  assembly   nut tighten    good time  spray paint  bracket  use  grey color somewhat close   feeder  satellite dish   bracket  dry install  satellite dish locate  fairly high   post  feeder   nestle     use large 14 x 2 screw  predrilled   18 drill bite tilt  front   dish upward slightly  collect water run back toward  drain hole drill earlier leave  adjustment screw   dish bracket snug    tight  allow   tilt  dish  easily  fill  feeder   bracket  dry  might need  wrap  couple layer  electrical tape   peg  provide  snug fit   hole   bottom   birdfeeder   feeder sit   bracket hold  bracket    fence post   dish mark  location   mount hole  predrill  18 bite next install  bracket  two 14 x 2 screw  set  birdfeeder  place   peg  fill  feeder  simply push  dish upward   bracket remove  fill cap   feeder  pour   seed    perfect solution  quite  rain  sometimes accompany  wind  little wind   problem  gusts still tend  blow rain   feeder although  lot less    hope  find  instructable helpful  even  didnt   satellite dish  upcycle   least find inspiration  create   birdfeeder shelter solution perhaps   upcycled material like hub cap garbage  lids  cook wok thank  take  time  read  instructable    first    may qualify   win   first time author contest  look forward   support thank  advance   vote kent   frontiershed participate   first time author contest participate   outside contest 2017   make  project share   us 18429 enrol 2 years ago   good solution    pretty wet winter  last year  well  year look like      2020 autodesk inc', '1347 15 4 feature   interest   new nest box design  inherit  interest  bird   father whose family grow  next door   bird expert ruth thomas study  band bird  write crip come home  well  brush goat milk goat   weekly column  bird   1940s   arkansas democrat newspaper many   relatives  feed bird include hummingbirds  landlorded purple martins  bluebirds  finally upgrade  property  lend   landlording  1998  plastic purple martin gourds last forever   bluebird house   replace many time   years  research pvc   option  run   gilbertson design  think   overly complex    risk  drop  nestbox onto  grind   design   nestboxes  put   use  2016   15 acres  5 nestboxes 2017 saw 13 bluebirds  20 house wrens fledge   new box teachers   use  instructable   classroom add  teacher note  share   incorporate    lesson advantage pvc post entire assembly   move inside  winter  desire may extend product life pvc vs wood nest box cheaper fewer part easier  make  assemble longer life moose vs gilbertson cheaper fewer part easier  make  assemble heavier  better insulate support  bottom   risk  nestbox fall   topsuspension design slit vs round open  sparrows easier feed  older nestle mobile vent floor  moisture fly larvae may fall  easy  expel spend nest removable roof easy view  photography  nestle removable nest box easy view  clean bucket guard cheaper  metal   seam  expose screw  climb snake 35x36 steel upost 2x5 pvc pipe post 4  2 pvc adapter 4x6 pvc pipe nest box 4 qwik cap 375x375 hardware cloth floor 6 carriage bolt floor anchor 67x1125x12 roof 5gallon bucket predator guard table saw andor sabre saw xacto knife trauma sheer  tin snip 225 hole saw hand drill  screwdriver post driver  sledge hammer preassembly instructions see picture 1 cut 1112 square roof  glue   rubber quick cap gorilla glue  good  expand  cure use knife    cut away excess glue 2 cut two piece  hardware cloth  assemble  68 center bolt bolt work  centerweight  keep floor  tilt   plunger  expel spend nest 3 cut 4 pvc  6 length cut 25x125 entrance slot  quick cap  xacto knife 4 put quick cap onto nestbox  trace open  cut match entrance  nestbox 5 cut two 175 vertical ventilation slit opposite  entrance slot  upper edge  nestbox slit  extend 12  quick cap  roof   place 5 cut 2 pvc post  5 length 6  plan  add predator guard invert bucket  use hole saw  cut 225 hole  bottom  bucket b measure 11   top  post  wrap mask tape around post make  level c drill 1st hole along upper edge  tape  measure 25  leave  right  hole  mark 2nd  3rd hole  screw e screw   three short screw  screwheads project   mm 1 choose  location 2 place  post smaller  2 uposts  retire chainlink post work well 3 cover  2 pvc post 5 tall 4 slide optional invert bucket guard  suspend  3 screw  post 5 add 2  4 pvc converter 6 add 4 pvc nest box 7 add hardware cloth base  nest box  cover  pineneedles 8 add 4 qwik cap  top  nest box  entry slit match nest box slit 1112 roof glue  top  qwik cap  preassembly 10 gelstain post nest  want  blend better  landscape stain inside  nestbox  preassembly  want darker interior   one nest box  usually get 23 brood  bluebirds  year   average  5 egg per brood  several box  often  two active nest   time despite  territorial nature  bluebirds   15 acre space    1020 baby fledge per year    past 20 years       300 bluebirds fledge  chickadees  housewrens also like  box  year   new box design  fledge six chickadees  one brood per year 20 housewrens  13 bluebirds  wrens  bluebirds  quite welcome since anything  eat insects   property   asset    snake attack    three   years  decide  add  bucket   upgrade  year   black rat snake   quite talented  get  nest   also  raccoons  squirrels  slot near  roof  keep   starlings    wooden box  still get sparrows  time  year  new design didnt seem  interest  sparrows    file   word document     info   instructable   would  easy  download  reference offline  build   nest box   make  project share   us 18429 enrol 8 months ago  introduction thank    new information  thumbscrew  floor tile  smart change   shall surely innovate thank  9 months ago thank    good instructions  look forward  make    nest box   next  weeks   simplicity  great      make    saw cut like  would  make wooden box th reply 8 months ago good luck   project  continue  make    spare time    dozen  spread   missouri  maryland get use  chickadees   early spring follow  bluebirds  house wrens  year two    hawk land   top  one  flip  top  expose  bluebird egg long enough   parent abandon  nest   design  include  small thumbscrew  drill  small hole   backcenter   rubber cap  screw   thumbscrew   cap cannot tip  without back   screw first also  composite board source dry   im buy 12 floor tile   roof save money since  5080c instead   expensive composite deck board 2 years ago awww   cool bird box  little baby   cute 2020 autodesk inc', '2684 10 1 feature  wife want  bird bath   balcony unlike  traditional pedestal bird bath  dont   garden hose nearby  clean    need   easily  quickly removable  take inside  clean  also live   condo   cant permanently affix   certain part   build    solution pvc stand affix   balcony rail   removable bath part tool teachers   use  instructable   classroom add  teacher note  share   incorporate    lesson  basin  go  need   screw     place  clean   want  high enough   clear  deck rail measure  height   rail  add  inch  two  desire  top connector  go   little height  well mark  cut line   pvc   height  determine   previous step use  hacksaw chop saw  radial arm saw cut  pvc pipe  length along  cut line  make sure   straight 90 degree cut otherwise  connectors may  fit properly  cement  connectors  place   clean  pvc pipe    adhere correctly goo go   paper towel work well enough check  fittings   cap  thread plug  ensure  fit correctly   didnt     take  painters tape  cover  thread inside   thread plug   prevent  possibility   gluecement get   thread follow  directions   primerglue   install  connector   time wear protective gloves apply  thin coat   primer inside  connector  outside  pipe apply  additional thin coat   glue   primer  push  connector onto  pipe without twist  wipe   excess glue repeat    connector    side   pipe  gorilla primaglue work     step  depend   material   basin  choose  may need  opt   different glue apply  thin coat  primer   surface  apply  thin coat  gluecement   surface  attach  push dont twist depend   glue  may need  apply pressure   bond  adhere scrape   stickerlabels  remove  adhesive residue   goo go use  painters tape  tape   open   thread plug   dont get paint  primer   thread apply spray primer   pvc pipe apply additional coat  need apply  spray paint  desire  temporarily use pack tape  adhere mine  place  8 zip tie  insufficient 14 fit well   buy    measure  diameter   installation  find   work best two  3 point  attachment  work well    firmly  place   rotate   screw  basin   top fill  water  wait  bird  actually find  maybe bird dont like translucent bath two stories   take  bath  mask   screw thread  paint  outside maybe  late   season ive  manage  get one photo  poor quality  bird check  bath   far participate   outside contest 2017 participate   outdoor structure   make  project share   us 18428 enrol 2 years ago clever perhaps add  bird feeder nearby   additional attractant maybe  seed  draw      find  bird bath 2020 autodesk inc', '1279 10 feature   friends  family   empty wine box like  one   dont know        turn    great bird house   need   small wine box   wooden dowel  get startedother materials   need   pencil  ruler  small saw  drill drill bits scissor  thin  strong rope  hang    backyard   bird housethe dowel    12  inch  diameter    least 4 inch long teachers   use  instructable   classroom add  teacher note  share   incorporate    lesson  slide  lid   box  pull   handleb flip  box upside downc saw  wooden dowel     4 inch longd mark  2 inch   exist hole   box ise start drill  make  small hole   small drill bite   change  drill bite     use one    slightly smaller diameter   dowelf see   dowel fit    new hole  drill    almost fit  take  hammer  hit    hole far enough   wooden dowel doesnt move  put  lid back   box  drill two hole   lid center  3 inch apart   make  hole wide enough   rope  fit throughc maneuver  lid half open   hole still   inside   box  thread  rope   holesd cut  tie  rope  whatever length  think  fit  tree  bush best   put twig  leave inside  birdhouse   want   bird  change  nest    want      bird arent attract   consider build  bird feeder nearbyenjoy watch bird make  home participate   macgyver challenge participate   box contest 2017 participate   outdoor structure   make  project share   us 18428 enrol 2020 autodesk inc', '1212 5 5 feature  india bird like sparrows  notable decrease  number  summer  temperature exceed  48 degree celsius  midday  cant see  bird   time   decide  make  birdhouse  bird  birdhouse  recycle  harmless  bird small bird like sparrow  play    eat  food beat  heat   make   small coke  note 1  birdhouse    keep  direct sunlight   heat     unsuitable  bird 2 big bird like pigeon  cause imbalance   pour   load food teachers   use  instructable   classroom add  teacher note  share   incorporate    lesson 1    size 2 2 zip tie 3 rope 4 cutter   cut   5 small piece  wood   get    carpenter 6 dish wash liquid cut  mouth     help  cutter  cut portion may harm bird  please make  safe  polish  endpoints  wash  inner side    dish wash bar   sugar remain inside    also attract insects   two zip tie make  tshape  show  image 1  attach    piece  wood  show  image 2 insert  rope  zip tie     hang  hang   place     protect  sunlight  add bird food   birdhouse  ready thank  stop  happy make participate   beat  heat challenge 2017 participate   macgyver challenge participate   outside contest 2017   make  project share   us 18428 enrol 2 years ago  jag sharp edge around  entrance could  deadly   bird    animalyou would need  trim  jag edge away first  make  smooth  possible   either need  sand  smooth  use  object    sticktool handle  roll around  inside edge   time   push  jag remain flat  smooth   reply 2 years ago   rip   test      sharp   also mention  point  instruct able thank  comment reply 2 years ago   use   opener  like   open    way  cut  go   much  smooth  clean   check  also   way   bird like  birdhouse   see  use  reply 2 years ago hello thank   comment  bird like sparrow bulbul come   eat  food however   rest   long time   come  eat food reply 2 years ago also please vote   contest 2020 autodesk inc', '30195 284 46 feature   33 tree   property  tons  wild bird    live    top   tree   cant see  come  go  well  like  keep birdhouses   tree closest   house    watch  enjoy  bird     tool already live   workshopgarage one birdhouse  cost  little  7 teachers   use  instructable   classroom add  teacher note  share   incorporate    lesson    new  work  pvc  want  indepth information  highly recommend enrol   pvc class teach  audreyobscura   need  follow tool  materials  make  pvc birdhouse    access   cnc machine  would   much easier  could cut precise wooden circle  cutouts   front  back   birdhouse  different saw would also make  much faster however    gal  limit access  tool tool materials 1 measure  mark  8 inch long section  pvc mine come  two foot lengths   end  make three birdhouses  make great gift draw  diagonal line   angle   choice start   8 inch mark mine  approximately 60 degrees 2 clamp  pvc   work table  use  handsaw cut along  angle  always tool   dangerous please use caution 3 use  metal file smooth   cut edge remove  bits 4 sand  entire surface   100 grit sandpaper   remove  wordslettering   pvc  prepare   paint  sure  rough   entire surface include  inside   cut angle    wooden round  need hole drill  front piece  need  main hole   bird  fit    back piece  need   vent hole  purchase  wooden round  michael  99    bevel   34 inch thick  wish  werent  thick   work   application    find thinner ones use    overkill 1 use  electric drill fit   1 14 inch drill bite drill  hole  one   round position  toward one side    middle 2 change  drill bite  14 inch  drill  hole half way   wood position  right   larger hole      perch later   see   image   fail  drill   paintingbig mistake dont forget  step  paint  paint  chip  around  hole      repaint 3    wooden round mark  three vent hole  go  line   along  top edge   row change  drill bite  18 inch  drill  hole  avoid chip  wood   place  piece  tape   wood  drill  drill   tape  wood  use  really soft    use something harder  probably wouldnt require tap  wouldnt chip  bad   one  way   one  didnt tape chip really bad    fill   wood putty boo choose two paint color   like one   pvc  one   front  back piece 1   well ventilate area   cover work surface  spray booth spray paint  pvc dont forget  back edge let dry accord  paint  directions 2 spray  wooden round let dry thoroughly 3 cut  2 12 inch piece  dowel  paint desire color     cnc machine  sand part   step wont  necessary  wooden round  purchase werent actually 4 inch      sand  fit inside  pvc 1 use 220 grit sandpaper sand   edge   round fit  either side   body   birdhouse dry fit   assure  good fit 2 run  bead  glue  use weldbond around  flat edge   birdhouse 3 inset  back side piece  wood  secure  place 4 use  quick square measure  find   front   wooden round  sit  mark   pencil   tell    run  bead  glue 5 run  bead  glue  piece fit really tight   use  mallet  gently pound  wooden face  place 6 squeeze  dab  glue   hole   face  secure  dowel   perch  drill come  1 fit  drill   564 inch drill bite   match  eye screw  drill two hole   top   birdhouse one toward  front  one toward  back  might  tempt   put one hole   center however  birdhouse wont hang evenly   bird decide  nest   2 twist   eye screw    secure  match   front eye screw   wood  secure   3   paracord isnt already cut cut  24 inch piece  burn  edge   lighter  prevent fray 4 thread    eye screw  tie  knot  join  end 5 hang   tree  enjoy participate   box contest 2017 participate   outside contest 2017   make  project share   us 18428 enrol tip 1 year ago  make  couple mistake   bird house 1  never paint  inside  bird house   bird house get hot  fume  harm  bird inside  house     retire plumber go  one   lumber box store    plumb department ask   4 knock  plug  pop right    back   bird house   glue  4 plug   make  4 pvc pipe    little effort   take   old bird nest   end   year clean  bird house     ready next year   make several hundred   bird house give  away   rest well let say  2 acres look like  easter egg farm one  thing   find  bird rather    pirch   keep    bird away  best paint  paint  pvc  krylon fusion spray paint      bird house look great   need drain hole   bottom    back   bird house 4 14 hole  ventilation question 2 years ago     bird move    think   class   school create  house  hang around campus id hate  spend  money  bird dont take  residency  design   simple  beautiful 2 years ago    darling bird house   would love   im desperate   bird house im also get  help   dear guy    well capable  build bird house     major concern   pvc house  others ive see make  clay pot old tea pot etc bird house  recommend   make  34  1 wood   suppose  provide  insulation  summer heat  fear  pvc   provide  protection  heat   instead basically bake either  egg   baby bird would   possible  either   anyone else  check  temperature inside  birdhouse   hang outside  see  warm  get inside  would truly love  build       modifications   wont get  hot inside reply 2 years ago great point  live  central california near fresno    past 30 days  hit 100 degrees  higher  live thing would cook inside pvc   temp 2 years ago   f  n      c  remind    cool bright solidcolor plastic planters     70s ill bet  really attract bird  reply 2 years ago ps  vote  box outside   winners   categories imo favorited  well 2 years ago  look  midcentury modern  love     make  whole slew   thank   much  post 2 years ago  cute  plan  build   single family ones  perhaps  4 plex great idea    removable plug  clean   winter   bird leave town   thank  post 2 years ago  try plastic material  bird house bad choice   single time  bird nestle  use wood material  best one   crust coat   use colour agent 2 years ago   read   bottom   birdhouse     drain hole  would  easy  drill   hole along  bottom also  perch isnt necessary  give predators  place  hang onto  cute house  simple clear instructions nice work 2 years ago   mske  bluebird house forget add  perch  fly right inalso   buy pvc cap  use   back side   allow   clean   nest  necessary reply 2 years ago   also get plug  insert inside  pvc pipe end   trim   flange  could  use   front entrance  pvc glue assume pvc glue isnt toxic  bird  well  check   set screw  place   addition   end cap would eliminate   biodegradable wood components reply 2 years ago   know  thank 2 years ago    well   beautiful 2 years ago  suggest  watch  afar bird tend  abandon  nestle   notice     observe great idea  bird house make though thank 2 years ago  think would     clear plastic  yes removable back    see   way  know  arent disturb anybody  clean  time  kid  learn  go    nest reply 2 years ago buy   small cctv camera would  better   wouldnt   disturb  bird    chicks   could make  abandon     purchase relatively cheaply   youtube    tell    use  reply 2 years ago  also  tell   hatchlings would  abandon    touch  disturb  human contact   since learn     myth  watch    mother bird may flock   instinctively protect  young reply 2 years ago great idea 2 years ago oh  regard squirrels gnaw though  paracord likely      area sure  length  small chain would work  even cheaper   use bail wire   bend coat hanger  far    effective deterrent  mine 2020 autodesk inc', '393 4 feature years ago  son buy   birdhouse  christmas  find    school bazaar pay 50 cents  give    know  love make  pretty project   time however    cat     proficient hunter  felt bad lour bird   death   since pass away    remember   birdhouse    wait patiently  get beautify    fake dollar store flower scrap book paper  mountains  glitter   decide today   day  get  project finish teachers   use  instructable   classroom add  teacher note  share   incorporate    lesson first  need  birdhouse  one seem    first attempt maybe   kid  heavy  well assemble   align completely also  dog chew   perch  ill   fix    need white multipurpose glue  paintbrush scrapbooking paper  knifea cup  mix  scissor large popsicle stick guesso glue  use gorilla   use krazy glue  anything sturdy  hard plastic straw fake flower glitter glitter paint sticky gems sparkle tape mix  multipurpose white glue  water   5050 ratio paint  mixture   side   birdhouse place  piece  scrapbooking paper flush   top edge  smooth  use scissor   knife cut  excess paper  press   edge repeat   side  need  replace  perch anyway   cut     knife   apply  paper paint   gluewater mixture place  paper firmly   wood  trim  excess  rip  top   paper  need  patch    use  corner    design paper  cut along  edge  one   flower  press   place  smooth     gluewater  get  entrance hole  poke  finger   paint  edge    gluewater use   technique   side  front glue  paper onto  roof  use  different pattern   side  side  flower  leave  extend past  center   cut    use    gluewater mixture smooth     plain side  try glue  different pattern  paper   wood edge     rough  textured  anything  stick  therefor apply  heavy coat  guesso   use glitter paint     guesso dry bird like glitter right   new perch   look   chopstick  instead find  old   solid wiggly straw cut  straight part   straw  glue  beneath  entrance hold  tight   glue  dry enough    leave  without  tip    glue  completely dry cut   single flower   bouquet  plastic dollar store flower place  stem   hole   straw take 5  large popsicle stick   get   almost  craft section  lay  line    flat surface cover  bottom   birdhouse  glue  place  gently  top   stick add  glue   front   popsicle stick  help hold  together   glue  still wet place assort flower   front   house wrap glitter tape around  perch   dont like  color   straw paint  edge   roof  glitter paint paint  popsicle stick  glitter paint sprinkle glitter   garden press sticky back gems around  entrance paint   entire birdhouse   layer   gluewater mixture let dry participate      contest 2017   make  project share   us 18428 enrol 2020 autodesk inc', '1885 9 1 feature one   problems  always   bird feeders   get  nasty   rain  seed get wet  clump     take  feeder  clean    let  dry  put  back     solution easy  make  almost  tool  inexpensive   bird love  teachers   use  instructable   classroom add  teacher note  share   incorporate    lesson start  get  bowl  dish shape bottom  hold  birdseed     anything  want  one   example appear    small jello mold  pick     goodwill store  99 cents  top   larger  shallower shape    upsidedown   feeder  make sure    hold rainwater  things  might try would  metal pot  pan lids  frisbees use  imagination   feeder   unique cut  support piece   dowel  broomstick  might  fun  use  straight section  tree branch   rustic look eyeball  length   support piece  measure require    long enough  bird  get   food tray  short enough   windblown rain wont wet  seed  hard part  put hole   top  bottom piece   example  bottom green dish  soft plastic   could easily drill  hole  could also   poke  hole   hammer  nail   want  show  dont make  hole  big  large enough   screw  go   top piece  hard plastic drill  would crack  plastic    heat  nail   propane torch  melt  hole   dont   torch  lighter  work  dont burn   use  ice pick  put starter hole   top  bottom   dowel  small nail would also work  get  screw start like  nail  use  melt  hole   top  careful   stab   dont need  make  deep hole  enough  get  screw start   need  hanger   bird feeder     screw eye  could  use   didnt  one   make  hanger   bite  wire use needle nose pliers  could use  piece   coat hanger     dont  needle nose pliers  wrap  wire around  nail  use earlier  punch  hole  assemble  feeder careful   tighten  screw  hard   might break  plastic fill  feeder   seed  use sunflower seed hang  outside  window   fun watch  bird  hope  try make     fun   participate      contest 2017   make  project share   us 18428 enrol 2 years ago   great simple solution 2020 autodesk inc', '1009 19 11 feature    cheap  easy  make bird feeder  use  apples oranges  similarly size fruit teachers   use  instructable   classroom add  teacher note  share   incorporate    lesson  photos show  finish bird feeder  consist   vertical ring    removable bamboo skewer  fit  hold  fruit  place   zip tie   horizontal ring   also fit   shorter skewer  prevent  fruit  slide  turn   first skewer  second skewer  need  enter  fruit  centimeter    top   vertical ring  fit   eyelet screw  hang  feeder   branch  similar   piece  string  wire 1 two ring make  2 cm section  110 mm pvc waste pipe  use pipe   wall thickness  3 mm  add sturdiness 2 four 150 mm zip tie   use shorter   tie     difficult 3 two bamboowoodplasticmetal skewer 4 one eyelet screw first cut  two 20 mm section   piece  110 mm waste pipe preferably   wall thickness  3 mm     band saw available  step  extremely easy  even   jig saw  hand saw     problem drill two hole   ring opposite    show   first picture  hole    little bite larger   thickness   skewer  skewer  4 mm thick  accordingly  use  45 mm drill bite drill  smaller hole   top   vertical ring   eyelet screw accord   thickness   screw next cut  skewer  size 170 mm   longer one  110 mm   shorter one work well bird  welcome  protrude end   skewer  grab onto nip   sharp point   skewer     bird safety   want  paint  feeder    time rough   surface   ring   sand paper  help  paint adhere loosely fix  two ring      zip tie  show   first picture  second picture show  result      adjust  ring    hole face   correct direction  tighten  zip tie cut   excess lengths  zip tie lastly fix  eyelet screw   top   feeder congratulations  feeder  finish    hang   branch bird  flock     time  discover  treat await    make  project share   us 18428 enrol 8 months ago  step 6    great idea   two feeders right outside  din table window  wifey   enjoy watch  bird fee ive get  try  idea reply 8 months ago thank mine  still go strong   use daily 2 years ago awesome idea always nice    wildlife around reply 2 years ago thank  4diyers yes   pleasure  watch  fee  reply 2 years ago   think  would work  embroidery hoop  thick cardboard tube reply 2 years ago ejz yes   work well  remember  wood  especially cardboard    weatherproof  pvc   hang  outside 2 years ago good probably    use  bananas cut  halve  reply 2 years ago yes bananas work  well  long   peel  beforehand  skin   thick   bird  penetrate     apples etc 2 years ago nice design ants cant get      use  long thing string  would even  safe  squirrels reply 2 years ago thank glad  like  design 2 years ago   precut  piece  would   quick project  could    class full  children  look like something     fall  winter 2020 autodesk inc', '3342 18 feature    variation   oneboard birdhouse available  lowescom  plan   allow   easy cleanout   modify  floor   couple   joint teachers   use  instructable   classroom add  teacher note  share   incorporate    lesson   need materials 1 ea 1x6 untreated cedar dogeared fence board interiorexterior glue 6 x 114 screw paint optional tool drill  hole saw  332 532 bits screwdriver  fit  6 screw saw brad nailer  114 brad nail optional tape measure pencil cur  follow lengths   fence board 2 ea 9 piece   roof 2 ea 8 piece   end 2 ea 514 piece   side   cut   bite shorter 518  allow  ventilation   eaves 1 ea 378 piece   floor lowe cut diagram  reference  change  couple  things httpswwwlowescomcreativeideaspdfoneboard   entrance hole use  appropriate size   bird species  want  attract center   one   8 piece 3   bottom    use  screw  hold  floor  place center  532 hole 38   bottom edge optionally   use  cabinet latch instead   screw  hold  floor  give  house  notools clean    plan  mount   top   fence post    youll want  use  screw   front  cabinet latch would  unusable   type  mount think ahead   word also drill  532 hole   floor hinge screw    514 side piece  would  drill 1   back edge  38   bottom edge   use hummingbird feeders   use  scrap entrance hole plug  part   cheap ant moat   another instructable  cover  cut 45 angle   front  back piece  use  radial arm saw   set  begin   cut  514   bottom edge cut one side  flip    cut   side  bevel  roof piece   floor piece  another 45 cut  like  way  fit together  way lowe plan call   lap joint   roof      way also trim 34  one roof piece  lieu   45 angle  bevel   floor piece simply eliminate  interference   floor pivot    simply whittle     back edge   floor   find  bind  open  floor    glue  clamp  front  back   side   glue  cure  put  couple  brad nail   joint alternatively   drill  screw  joint   point youll want  attach  floor  harder     roof panel    know move  side   house   edge   workbench  place  floor  position bevel side    predrilled hole   bottom corner drill  332 pilot hole   floor piece install  screw loosely repeat    side  youre happy   way  floor  center drill   hole   front   floor piece   latch screw  note  paint   house  roof    different color    time  paint  separately    instal  floor glue   roof panel  secure   nailsscrews   glue  cure depend   glue  may need  use  couple  piece  mask tape across  ridge  hold   place  use loctite pl375 adhesive   caulk gun  didnt   problem paint    wish  barn ad stencil  make  etsycom seller glassy witch   would like  stencil  something custom look    etsy check   wikipedia page  harley warrick   paint    mail pouch barns across  unite state enjoy   cut  45 bevel youll   triangular piece  scrap   bench   glue    underside   roof ridge    drill   roof ridge  add eye screw   add  bite  strength another barn art idea     use pop   tin sign  use carpet tack  attach    make  project share   us 18428 enrol 2020 autodesk inc', '2717 12 8 feature  like  shop  resale  thrift store  dish vintage glassware  surprise items ive see  lot  vintage lamps  large glass globes  various color  sit forlornly   shelve  wonder   could make   since  werent  sellable    one day  hit  bird bath base next   find  instructable   easy bird bath use various piece  glass   pretty lamp base enjoy teachers   use  instructable   classroom add  teacher note  share   incorporate    lesson first   need  vintage lamp   color glass   design   find one   nearby thrift  resale shop    garage  estate sale show  two different lamps   suitable  end  use  first one   iridescent globe next  need  shallow bowl tray  dish make  glass   resale  thrift store  garage  estate sale   good source  glass   pretty design   color glass  bowl    24 diameter  whatever look please   lamp also pick   couple  glass dish  stack nicely  look well together stay away  piece    lot  intricate design    sit snugly    piece  find  gorgeous vintage lamp   large iridescent white globe  already   pretty good collection  glass serve piece  would  perfect   bird bath   pick one  etch calla lilies  love  dremel 4200  cut hole  glass  fact im   second one   project   use  dremel 14 diamond drill bite  dremel cut oil  also need  pair  pliers  pair  side cutters dremel metal cut wheel  ez lock adapter dremel plastic cut wheel  ez lock adapter   good glue   weather resistant  waterproof loctite  several others make good ones  sell  creations   find   hard way   matter  glue ive use  eventually fail     also drill hole  insert  rod  hold everything secure disclaimer  receive  compensation  recognition  dremel    write  instructable    tie  connection  dremel     employees im enter  contest  hope  win  new dremel   hasnt happen   time  write  lesson  genuinely love  dremel  use  often  also   receive anything  loctite    mention   happen    new tube available since    drill hole  glass  need  least  good pair  safety glass   prescription eyeglasses   enough get  good pair  use  often sometimes  use  full face protector   im  inhale glass dust  get glass dust   face wear  pair  gloves   good grip since glass get slippery also wear  long sleeved shirt button    collar  drill glass  like  use ear plug  im drill  loud  high pitch   want  keep  hear     also need  stainless steel thread rod   14 diameter   36 long  like  use rubber  soft plastic washers  14 metal washers   piece  glassthe amount need depend   many piece  glass youre stack grab  dozen    always use    next bird bath  also need nut  fit   thread rod three   enough  forget  photograph  nut    see one thread onto  end   thread rod  add  solar light   bird bath   find    local hardware  big box store  dollar store  99 last   least  need  topper something pretty like  splash bird votive holder  find ive also use orphan glass lids   color  clear angels animals fish etc remove  lamp shade   lamp  one next remove  harp  push   metal thingeys  squeeze  edge   harp together  lift  voila turn  lamp upside   remove  felt paper  cover  base open  wont need   use  side cutters   pair  wire cutters  cut  cord make sure  isnt plug      go back   top   lamp pull    gold fixture   reveal  knot  cord wire pull     lamp easy peasy    rod   middle   lamp   thread area   top   bottom unscrew  nut   top use  pliers lift   piece   lamp   rod  remove  rod   base piece save  rod  another project wash  dry  piece carefully  plan  restack  lamp part  way     design use  stainless steel 14 thread rod place  plastic  rubber washer metal washer   14 nut   end   rod finger tighten another 14 nut    base piece see  first picture start   base stack  lamp part   14 rod add washers   nut  place   part close around  rod use  dremel 14 diamond drill bite  dremel cut oil drill  center hole    glass piece  arent already open  instance  large white globe   lamp   wide open    leave     start   drop  cut oil  carefully lower  dremel bite  create  circle   glass  add  drop  oil frequently  keep  area lubricate  cool  glass  reduce  friction   glass   drill bite  people put glass  water  keep  cool  drill others use  drill press    rig   way  cool  glass  water like spray   water  immerse   never   luck   water cool   drill press method  drill glass  break  lot  pretty glass  spend hours   drill press  one   reason  love  dremel 4200   drill hole  glass  minutes   rarely break  piece  glass   wish dremel sell  cut oil separately   diamond drill bits last longer   oil  come    choose  small wavey edge glass bowl  go upside    lamp part   bird bath piece    look nice add  metal washer   rubber washer   thread rod  stack  baby   thread rodadding another metal washer  rubber washer glue  glass bowl   lamp part   want  choose   use glue   bird bath   piece fit together  well   balance   good    stack  glass  glass piece  would  add  good glue add  large glass bowl  platter   actual bird bath  dont want  piece  deep  look around   bird   yard theyre bath  shallow puddle  dont want  swim  youve choose  deep bowl add something  make  shallow  plate  pretty lid  upside  dish whatever    look good use  metal  rubber washers    bird bath dish   top youll see    minute  youre use glue add    bird bath dish   put   top   dish   follow  directions   glue  im use glue   often wait  day     glue  set    move  creation   topper   look pretty  top   bird bath glass  also cover  washers let  add  snug washer   solar light  topper  need    hole drill    youve choose something like     votive candle place  top   thread rod  youve place  drill topper place  metal washer   rubber washer   choose something big like  pretty glass lid   topper   need  add  washers   14 nut finger tighten  top   bird bath piece follow  instructions   next step  cut  thread rod use  wonderful dremel set    ez lock adapter   dremel metal cut wheel cut   excess thread rod first put   safety glass long sleeved shirt  gloves   send spark fly    place   sting   get  arm  hand  couldnt cut   rod inside  candle holder   mark   cut   rod remove    bird bath   cut      replace  cut  rod    piece include  washers make sure    nut attach   part  remain   cut  rod    wont  able  thread   afterward  finger tighten  14 nut onto  rod  snug     pliers dont put  muscle    youll crack  glass  make  snug remove  long metal sleeve   clear plastic house  twist  remove remove  clear plastic globe   light holder  twist slightly  pull  place  plastic globe   top piece mine   little taller   want   need  cut   clear plastic piece mark  plastic   want  cut  pull   dremel   ez lock adaptor   wheel  cut plastic put   safety mask  safety glass  slice  excess plastic    glue  clear plastic  place   want  choose     think    easier  clean  glass piece  theyre  glue   place  clear plastic piece attach   bulb  solar collector   well  back   bird   votive would normally  place pull   orange tab  youre ready  use  bird bath  hope  sell mine  ill wait   buyer get  fresh solar light time  repeat  disclaimer  receive  compensation  dremel  make  instructable    dremel use   lesson  use  often  find    versatile tool     receive  compensation  recognition write  lesson  dremel  plan  enter  instructable   contest  possibly win  new dremel   hasnt happen  ive make many bird bath  use lamp base others use various glass piece like bowl plat vases glass  candle sconces  fun  build  tower  various glass piece  anchor    wide heavy glass light fixture microwave plate  bowl  keep   tip  drill   piece  insert  thread rod  anchor  nut  washers  glue  piece   next     ensure  creation stay together next instructable ill show    make  bird bath tower   glass piece thank  view  lesson  go    create  beautiful bird bath  share  picture   runner    glass challenge 2017   make  project share   us 18428 enrol question 7 days ago hi  look  pretty  want  make one   garden   seal  base  something like modge podge  protect   weather answer 5 days ago   base  glass  answer     something like  metal lamp base  use  answer   dont know mine  never stay around long enough    see   age mod podge   spray  clear paint would probably work  protect    sure    inside  outside 3 years ago    pretty thank   share  process reply 3 years ago youre welcome thank   look 3 years ago nice reply 3 years ago thank 3 years ago  look beautiful great idea  reuse  reply 3 years ago thank   much 2020 autodesk inc', '820 11 feature  fancy decorative birdhouse make  indoor display  outdoor use design  base    famous habitat 67 habitat 67 photo credit httpsuploadwikimediaorgwikipediacommons99  design  file use autocad  create  dxf file  laser cut use  series  cutouts  extensions similar  finger joint   stronger assembly tool  materials computer  autocad laser cutter  access  laser cut service plywood plexiglas stain polyurethane wood glue plexiglas adhesive teachers   use  instructable   classroom add  teacher note  share   incorporate    lesson  use two sheet  12x24 craft plywood 18 thick sand  stain   minwax golden oak smooth  finish stain  fine steel wool create  laser cut file   wood  plexiglas laser cut  wood  plexi smooth  edge  fine sandpaper  coat  polyurethane first assemble  plexiglas piece use  plexiglas adhesive coat  edge   piece let stand  30 second  attach  hold  piece together  two minutes apply  additional bead along  edge  adhesive  fall   fill  crack assembly  side   plexi  let stand lay   wood piece  assembly    thoroughly dry   poly use  wood glue apply  light layer   inside edge   groove  assembly  use  qtip  apply  light layer  see   photograph  begin  lay  back side   birdhouse face   glue  side   one  one  see   photograph  piece fit within one another use  groove  use  wood glue  assemble  piece individually    side  instal lastly   wood assembly lay  light layer  glue    edge face  already instal install  front face   birdhouse let  wood assembly dry  night  last step   attach  plexiglas  wood  one another  plexiglas contain three l shape connectors   side  slide   six hole   front face   birdhouse    lock  place  last piece   key also make  plexi   14 wider   pool  contain two small teeth  slide  pool  two small 18 square hole  expose   pool    l connectors slide   key slide   gap fill  hole  keep  pool   able  rise  clear plexi  able  hold water  use outside  source  drink water  bird bath  front edge  12 shorter   side  allow  overflow  rain participate   summer fun contest 2016 participate   outside contest 2016 participate   makerspace contest   make  project share   us 18458 enrol 2020 autodesk inc', '14206 27 1 feature   go   tube  search  hummingbird bath   find  video  hum bird play   shallow pan  water  fresh water  circulate   small pump try httpswwwyoutubecomwatchvvsxfh0ybze   work   make wifey dear want one   could watch  little bird skim  water  occasionally stop   real bath however  didnt want  power cord stretch   window   need   solar power  find  small solar power fountain pump  harbor freight   model   find  amazon  home depot      9 inch lift    probably   bright sun   need  two  three inch  lift    sufficient  model   solar panel  16 feet  cord   solar panel could go   roof   bird bath   grind  output   panel  state   15 watts  7 vote  expect  could  replace   small 6 vote lead acid    necessary teachers   use  instructable   classroom add  teacher note  share   incorporate    lesson  bird bath consist  two bake pan  deep one  act   water reservoir   shallow one  act   bird path  add  solar power fountain pump  couple  washers  12  outer diameter 38  inner diameter hose   hose clamp due   deep pan   deep enough  use extra hose  lift  shallow pan   bite   attach   sealant hopefully  sealant  conform   edge   pan  stick  nonstick coat   shallow pan  give   problems  may replace    self adhesive gasket  adhesive  stick   deep pan rim without  much trouble  shallow pan fit inside  deep pan   handle keep   fall  unfortunately  deep pan need    little deeper   pump   little higher   think  fix   glue    hose   bottom   shallow pan    see  tape hold   place     picture get  deeper bottom pan would probably  better  wifey dear want  today use  12 inch drill  drill  hole   handle   shallow pan feed    hose   hole   upper side  put  pump adapter   hose  tighten     hose clamp  hole   little tight   pump  likely go   lift   upper pan  remove  clean wifey dear act   hand model stretch  hose    side   pan  cut    6 inch past   side drill another 12  hole   bottom   pan   side near  edge   hose  push   hole   essentially  contain   friction fit   hole double  hose   tighten  hose clamp    close   end  drain  water back   lower pan drill  hole   shallow pan opposite  open   pump use  sealant glue two washers   hole  thickness   washers  determine  deep  water   assume  pan  level drill  hole   hose point slightly downwards  conservative   dont want  blast  little bird    pan  lose   water place  deep pan   surface fill  water  put  shallow pan  top   see   need  level  surface  bite    slight tip may  beneficial   bird  make sure  water  drain back   lower pan     side   get enough sun  pump  spray  water   hole   hosei  able  get  couple  photos   action one around 1pm  another around 6pm  show  couple  spray   drip    level   run  decoration   add  make  prettier maybe  bottom pan   paint   plant  moss add participate   summer fun contest 2016 participate   renewable energy contest participate   outside contest 2016   make  project share   us 18458 enrol 3 years ago cool  would love   something like    backyard 2020 autodesk inc', '7542 54 3 feature   day  come across  video   internet   hummingbird feed bar  immediately think    clever idea upon search  hummingbird bar  come across  nifty ones  perkypet httpwwwbirdfeederscomperkypethummerbarhumtheir feeders cost 1999  2999 cool look   expensive  decide  make       happy   result  instructables explain   make  2 x 24 feed bar   may choose  make 1 x 48 bar instead   1260 teachers   use  instructable   classroom add  teacher note  share   incorporate    lesson materials 4 ft fluorescent tube protector 347 epoxy putty 577 4 x 1516 212 screw eye 118  8 red nail polish 100 2 x small  hook 118 string free cork free total cost 1260 tool rotary tool  cutoff wheel  hack saw wide box tape  saran wrap drill level hole saw old solder iron optional sharpie pen  tube protector come  black stopper   endtape  hole   stopper   outside  epoxy  inside let  set  wash  inside really well  couple  time note since  tube protector come  2 stopper     able  use  2 x 24 tube simultaneously unless  procure 2 extra stopper   alternate  tube     intricate part   whole projectfill  tube  water almost   top cap   lay  flat   level surface leave enough air inside   buble  spread   way across  tube  water level   use  determine   flower hole   drill stabilize  tube   wont roll look   side  water level   45   way   tube  2 flower row    1 apart measure  top follow  contour   tube adjust  volume  water inside  need find  top center   tube  equal distance   end   tube   row  flower  mark  x   sharpie pen  spot     fill  tube mark  mid point   water line   row  flower  dot start   water line dot   create measure every 15 inch   direction   side   row  dot roll  tube  align  top center x   water line measure 1   end   tube  mark  spot   water line  mark     hang  feeder       tube  2 row  level dot  15 apart  x mark   top center  end   tube   time  start create  hole  create  feed hole use  old solder iron easier    achieve   result use  drill  hole   around size 332 make hole   dot  create  24 tube    24 feed hole note skip  center dot  end dot   row use  hole saw roughly   diameter   cork make  hole   top center x   cork  fit snug    need  seal   purpose   cork   keep animals    sugar water use  small drill bite make pilot hole   top end mark  screw   screw eye   side make sure  side go  roughly   depth   tube use  epoxy putty cover  point   screw inside  tube   make  safer  clean  prevent  screw  rust paint  feed hole   red flower use  nail polish  easiest way  find      make  asterisk use  hole   center  may need   2  3 coat  nail polish   color   vibrant red note    ways    red stickers red wire connectors etc  key   durability easiness  clean   color red next step   hang  feeder  need    level  possible use  level  accomplish   hang mine  screw eye attach   ceiling  screw   26 inch apart  help  stabilize  back  forth movement   bar  case  strong wind  use fish line  dangle  bar   65 feet high  hook make  easier  hang  remove  feeder  clean every 3 days   around   vary   ambient temperature warmer climates require  frequent clean use  bottle brush  clean  inside   feederonce  feed bar  hang add  homemade nectar   fill hole  funnel make  task easier cork  fill hole nectar recipe 1 part white granulate cane sugar dissolve  4 part  drink water mix  2 ingredients  heat     roll boil remove  heat  let  cool completely  add   feeder important   use  ready  use red nectar sell  store   add food color   homemade nectar participate   diy summer camp challenge participate   outside contest 2016   make  project share   us 18458 enrol 2 years ago  make    shift side  side  leak   hole     wrong reply 2 years ago  reduce  shift  side  side try space  ceiling hook  apart  ropesthreads    apart  top    near  feeder regard leak    sure    wrong dont fill  feeder   way   top make sure  nectar level    hole level humingbirds  long bill  tongue capable  reach  bottom   feeders   nectar level  low 3 years ago interest idea   literally hundreds  ruby throated hummingbird  something  look like somebody hit  wasp nest   many   feeders    time   use red food color    easily see   need  refill    time   twice  day    well   neat  watch  also  territorial  well nice project though 2020 autodesk inc', '1964 51 1 feature  instructable    build  bird feeder   use tin   twine  build    mom   birthday   absolutely love   work phenomenally   bird seem  love  twine perch  stand    surprise  really cant tell  actually  tin    get really quite close   twine serve   great contrast   metal    design   versatile enough  fit   location    change  wrap material   outside  make  fit  style materials consist  tin  jute twine scissor razor knife  opener large popcicle stick tongue depressor hot glue teachers   use  instructable   classroom add  teacher note  share   incorporate    lesson first    prepare    remove  label  use   opener  cut around half   lid  fold  loose lid back    make sure   leave  sharp edge around  rim  might injure  cut  bird   way       cut    half   lid  rather fold      cut  expose  sharp edge  could cause injury   bird   eat   step   need  pick  size    use    determine  design choices later   think  would look really cool  build around 5     different size  hang  scatter around   small tree  rustic twine   reflections  modern appeal   tin  would really go nice together especially   large scale design   step    wrap     twine   use thin twine like  use  use twine   half  inch    mimic rope  might find   dock  step     determine  overall design  anything   quaint bird feeder   rural area   rustic style bird feeder near  beach  use hot glue  tack     middle   bottom     start  wrap    bottom side    glue    multiple spot  spin    get    side   able  tack    every 5 turn make sure  wrap  twine around  base really tight   bird feeder      elements    inch    wrap around  side make sure  glue  popsicle stick    perch   bird  wrap around   well   get    end     entirely glue  string    last  wrap   continue  wrap around  popsicle stick   bottom  glue  end   twine   tip   popsicle stick  add  small length  twine  hang     point   need   fill   bird seed  hang     back yard  garden  bird love   even though    one perch   amount  bird still hang around     great replacement   old feeder   surely look  lot better another add bonus    squirrel proof  nearly impossible    land   small perch    first instructable  thank   much  view     great project     summer   kid    teach   bird wildlife  nature  hope   use   make one    brandon 16 modern rustic workshop runner    animals   wild challenge participate   trash  treasure challenge participate   outside contest 2016   make  project share   us 18458 enrol 3 years ago  nice    great look bird feeder well  2020 autodesk inc', '1044 15 feature  instructable  show    make  easy  inexpensive bird feeder  materials lay around  house  tea cup  saucer  get  free   craigslist curb alert teachers   use  instructable   classroom add  teacher note  share   incorporate    lesson tea cup  saucer velcro e600  another strong epoxyadhesive  hot glue  epoxy  add supportsomething nontoxic bird seed   glue anything  decide   want  bird feeder   set  weve learn    bird cecil  bird wont really dig  seed   upright cup probably wont attract many bird  easy  peck  layer  seed   youve decide   placement   cup use hot glue andor  strong nontoxic epoxy  cement  piece  place make sure  follow  manufacturer suggestions    use exactly also make sure  clean   glue strand etc   bird dont accidentally ingest   decide  use velcro  secure  bird feeder   balcony   bite oddly put together  slap  strip  extra strong velcro   bottom   saucer    end    want  bird feeder  stay  youre good  go  bird feeder  go   window away   container plant  weve  problems  bird seed  knock   containers  sprout  local pet  hardware store    variety  seed usually ones specific   bird   area    mix  wild bird  song bird seed    bird feeder   set  sit back  wait   bird  come weve   lucky  summer     wide variety  bird come   balconywe think partially    seed  also     bird cecil  update soon  picture   feeder  use runner    animals   wild challenge participate   makerspace contest participate   outside contest 2016   make  project share   us 18458 enrol 2020 autodesk inc', '1738 34 2 feature  get  idea  make  bird feeder   fact    area  various bird   way   easier  watch    selfdosing    fill  bottle  seed  turn  upside    seed  flow    flower pot saucer  start  get empty teachers   use  instructable   classroom add  teacher note  share   incorporate    lesson materials tool first      cut   bottom   bottle thereafter assemble 2 piece  wood  use 3 nail    use screw  two    bottom   back   feederto attach  bottle  drill two hole   back   feeder   place  11 screw  11 nut  screw washer   nut   screw washer  attach  builders tape  tape  hold  bottleafter place  bottle upside    bottle holder  make  roof  protect   rain    use  3 piece  woodfinally  put  flower pot saucer   bottle   fill  bottle   seed  put  bottom   bottle   bottle  avoid bird fly   optional  find  tall tree   end   yard   think    best place  bird feedingi place  screw   upper part   back   roof   wire   use  wrap around  feeder   tree runner    animals   wild challenge participate   outdoor structure contest participate   outside contest 2016   make  project share   us 18458 enrol 3 years ago lovely 3 years ago simple  excellent idea nicely  2020 autodesk inc', '10582 35 24 feature  project    act  cruelty  help force invasive slug   food chain  denmark   live  slug  invade  garden    5 years ago   hardly  slug   garden    come   countries  keep  lay egg    natural enemies   therefore    thousands     garden   gross   eat  vegetables  flower   collect    project    slug  see   picture  literally find   2 m2   garden   5 minutes gross however bird hedgehogs   animals  eat    dont know     recently   slug  come      plan  teach  bird  hedgehogs  eat    need   work slug cant swim  bird  hedgehogs need water  every time  find  slug place    brick island   wont  able  escape    bird  hedgehogs come  get  drink   notice  slug  eventually   eat    find     eat    automatically start look    place   garden  basically     cruel way  get rid   slug   way  help force    food chain  lot  people use poison  salt  kill  slug  use  method   feed bird  hedgehogs instead    result teachers   use  instructable   classroom add  teacher note  share   incorporate    lesson even though    slug killer  dont want   suffer therefore  must place  birdbath   shady place   dont dry    sun also   place  slug   brick make sure   dont accidentally push    water   dont want  make  suffer  drown place  brick   middle   birdbath make sure   brick doesnt touch  birdbaths edge   slug cant escape  fill    water put   3 5 cm 11 2 inch water   birdbath       dont want hedgehogs  drown  poor bastards arent  smart snail  harmless  please dont put    island  small fellas   chill    garden   dont want  hurt      invasive slug  want  keep    say     lot  slug   garden    slug   picture  find approximately inside  red line  draw   picture   5 minutes   completely   hand  use  trowel  pick   slug  place  onto  brick island   careful   harm  like  say   project    act  cruelty  help force invasive slug   food chain         wait  probably wont work  first day     week    start  work         look   slug  place   island     always  bunch   brick      daily    enough good luck   invasive slug  hope   work          mother runner    animals   wild challenge participate   outside contest 2016   make  project share   us 18458 enrol 3 months ago   great idea   try     afraid   learn  slug  swim  take   couple  hours  eventually   work   courage  jump   swim  freedom   put  back   island  put  water tray   beer tray    manage  dualthon  swim away salt definitely kill     yet  work   way  contain   get    predator  could benefit   death 3 years ago let hedgehogs eat slug    good idea   contract lung worm   reply 11 months ago actually    good point dog  get lungworm  eat slug   true  hedgehogs eat     wild reply 3 years ago smelteruk lighten   hedgehog  go  eat whatever  hedgehog  go  eat  author   feed slug  captive hedgehogs reply 3 years ago  didnt know    sure  know   fact  hedgehogs eat snail  slug   wild 3 years ago    good idea  long   local critters understand  happen  grandfather use  small shallow saucer  beer  get rid  slug  drink get drink  drown  animals tend   go near     smell  salt poison  harm   animals slug die   happy inebriate death reply 11 months ago  true hedgehogs get drink  reply 3 years ago try  true method reply 3 years ago yes    arround  garden aswell   work    enough 3 years ago   country  belgium  snail  swim   great idea frog also eat snail 3 years ago wait slug   countries  come    reproduce build  wall  nuke  country sorry  see  much  trump  days 3 years ago  interest ideacould  give us  update  well  worksdo  birdshedgehogs eat  slug   brick    find    rest   garden   actually reduce  slug populationthank  reply 3 years ago   let  get back     week  two reply 3 years ago   look forward  hear  result great project fix nature reply 3 years ago okay  far   eat  slug   brick island  since  work  lot im  able  keep put new slug   brick   time   far  hasnt reduce  slug problem    get  vacation   make sure    always slug   brick     get back     theory     need  get use   slug     always   brick   eventually become natural food   reply 3 years ago    sure     condition work look forward   result  well 3 years ago  think slug  always  present  denmark surprise   land    south  france   plentiful    terrible problem   question    puddle   place  bird  hedgehogs    free drink reply 3 years ago   different kinds  slug  ones call skovsnegle  always    mostly live   forrest   new ones  call drbersnegle   spread  lot  live  lay egg everywhere reply 3 years ago  learn something new total  good thing  since  seem    deep knowledge   slug world maybe    idea    drbersnegle come  hope    invade   france     escape   biotech lab hope also     robot  work   strange cybernetspace reply 3 years ago  snail  call  iberian slug spanish slug disgust slug yugh etc httpsenwikipediaorgwikispanishslug 2020 autodesk inc', '984 7 6 feature hi welcome   birdhouse    first  build project  im   native speaker  please excuse  misspell  fun tubebird teachers   use  instructable   classroom add  teacher note  share   incorporate    lesson first  need wood much wood  use  wooden board   saw  wooden board  little part two  40cm x 12 cm  two  13cm x 12cm   file  corner  sandpaper   bottom line  one   long board  drill three hole size 3  edge   second board  attach   use  old screw next  drill  hole   first side     side   pit    widen  pit next  take  rocket stick  put    hole   saw  next board  46cm x 12cm   bottom side  drill five hole second  hold  plank aslope  fix   screw    already saw  small board     fix   two part   aslope   keep away  rain finaly  use foil  make  house rain save   tacker  attach    wood next  cut  overlay foil   put  apples   stick  wait   bird   drill  apples  stick   hope  enjoy  instructable question  comment  welcome  please vote   cause  want  tshirt 8 thank tubebird participate   outdoor structure contest participate   animals   wild challenge   make  project share   us 18458 enrol 3 years ago nice birdfeeder 3 years ago great first instructable  would suggest  paint  wood   weatherproof paint else untreated wood  rot  warp quickly great idea 3 years ago great bird feeder 3 years ago  cat arnt interest  aples   animales   big   interestedtoo 3 years ago   visual learner thank     many picture 3 years ago cool bird feeder     problems   animals steal  food 2020 autodesk inc', '403 6 feature  favourite memory  fourth grade   day   class go   nature reserve  conservationists tell   grab  birdseed  hold    front      sudden  bird land   hand  proceed  eat    seed    surprise    point   life   never   close   bird  look    close theyre  exotic  interest animals   quickly   come   go    hook sadly every year bird  ingest  plastic   humans deposit   habitats  bird regularly confuse  plastics  food  eat   also fee  plastic   chicks  project aim  help   bird  little rather  allow plastics  find   landfills   go  make  recycle plastic bird feeder  design  great  people without  lot  tool andor skills   also  great homeschool project  kid   kid enjoy feed  bird    learn     end   also  great way    learn  environmental stewardship let get start teachers   use  instructable   classroom add  teacher note  share   incorporate    lesson   project   need   step    need  smaller drill bite drill four  five hole  parallel line  show   picture  red attach  larger bite   drill  drill  two hole mark    red make sure   hole  pretty much opposite        hole  hang  feeder drill  hole   end   stick drill  couple  hole along  center     careful   snap  popsicle stick  half try   drill  five hole per stick  may  wonder     drill  many hole  odd place wonder  longer  hole    technique   call gluefilling  step    gluefill   follow gluefilling  help  glue permanently hold part together      utilize  adhesion   glue   hardness    well   first feeder  didnt gluefill    couple  days  break gluefill    small hole   lid try  join  fill  extra strength  show   picture gluefill  popsicle stick hole put  fresh hotglue   gluefill  glue  lid   popsicle stick  section  gluefill   touch try  move  popsicles stick    parallel  centre   lid  part   little complicate   break     manageable part   small drill bite  drill five hole   bottom   lid   let rainwater escape   seed basin  prevent mold even  gluefilling  hope   arent bore   yet    last time  promise  time   need   careful   things though    moment     wait   part   get one chance   doublecheck everything   move  look back   picture  couple  time    help   position  everything look good great follow  step put  glue  top   fill    container  align  fill   cap   container fill  press   glue  together  make  feeder hang better tie  overhand loop   center   string  also make  feeder look nicer  whole purpose   feeder   hold food right  personally like  use black oil sunflower seed   design  one work      able  use  kind  seed theoretically please let  know  kind  use   comment  fill  13   container  hang   first time   case  fall   whatever reason   fill  almost  top   problems  really       much  put    need  flip  feeder  right   hang  otherwise   probably better  leave  upside     need  flip  follow  step   hang  feeder   probably think     go bird enjoy  security   near  tree  tall bush  quickly hide  predators another thing  think   hang   squirrels   live    big problem   attempt  deter squirrels  give  feeders  sphere   least 25m8ft  diameter  clear space  way squirrels cant leap onto  feeders   branch   grind  also like  put  feeders  place    see  inside   house  hang  feeder   need     bird come   feeder often  shouldnt take long depend    live    able  handfeed bird    amaze thing    kid     reward  fun activity    wait   hope    enjoy  process  create   recycle bird feeder  also hope    brighten   isolation period  much    mine     suggestions  improve  design  would  awesome   like  project  want  show  appreciation vote    trash  treasure contest would really help   thank participate   trash  treasure contest   make  project share   us 18458 enrol 2020 autodesk inc', '409 10 2 feature   upcycle  coffee    chic birdhouse easy  make  hand tool    dollars  materials   expensive part  probably  coffee   originally    teachers   use  instructable   classroom add  teacher note  share   incorporate    lesson  plan  adjustable  base   coffee     use  standard 10 oz foil   need  energy   need  empty  coffee  anyways  make  birdhouse   rough cedar   purchase  menards  big box store would  similar materials   need  follow  project  easily complete  hand tool power tool make things faster   always safer        little helpertools need cut  board   size show    need two piece 414 x 414 square   end panel since  board  512 wide     width   widest roof panel   one   cut  434  give us  12 roof overhang  length   roof panel  adjustable base   size   coffee  measure  coffee   add 112   end  3 total   length   roof panel  cut  might want  hit   edge   sandpaper  avoid nasty splinter measure  112   end   roof panel  mark   end panel     aid  assembly  nail  birdhouse together later use  rule   square  mark  line  know    birdhouse    practice good layout skills even   birdhouse use  narrow roof panel  layout   glue  nail  go   wider panel predrill  nail hole   18 twist drill    necessary    keep wood  split   photo   see   mark  layout   end panel glue  nail  roof together  use three nail     see  things  go together notice  roof   symmetrical     even overhang   side   design   wren house draw  x  corner  corner  mark  center   hole use  118 spade bite  drill   hole  one end panel   want  make   another type  bird   need  research  size hole  need   make  hole  large    get pests eg sparrows live   birdhouse make sure  measurements  layout  still correct    last time  make adjustments apply  bite  glue  assemble  end panel use  layout line  help  get    right place predrill four nail hole 2  side  roof  assemble  6d galvanize finish nail take  time  check  alignment   go offset  nail slightly  avoid hit another nail use   clamp   helper   need   assemble  birdhouse sometimes  part like  move around  much  nail sometimes  nail    mind     happen even    try   careful take  time  tap  pull  nail   try   goof   layout line   move  nail hole   bite  renailed things together  bird  never know  difference maybe   offer  discount  rent use  14 dowel rod  hold  coffee    wood together layout  drill  hole  dowel  place mine  12    corner  end  use  932 drill bite  14 hole   tight   want  dowel   secure   also need  able  remove   clean  maintenance drill  hole   end panel  people think  birdhouse need  perch   ever see  tree   perch bird  know   get      birdhouse sometimes  perch make   easy  predators  get   egg trim  flush   front   house  twist two screw eye  1    end   roof predrilling  make  easier     necessary use  pair  pliers   nail  help screw    wood   eye      go outside  look  great place  hang  new birdhouse congratulations   project    screw eye  use  pack cost   125  menards   want  make  house last longer  would use stainless steel hardware   another birdhouse  make use plastic canister  another brand  coffee adjust  length   roof panel  accommodate  difference  size  canisters   make  project share   us 18458 enrol 4 weeks ago  get  vote    cuteness      didnt  think   factor 4 weeks ago  nice look like  great project  make   kid thank 2020 autodesk inc', '2027 23 feature  birdhouses   help  bird    relax bird sing   garden  playspend time  kid  project make  create unusual  personalize decoration   garden   eco teachers   use  instructable   classroom add  teacher note  share   incorporate    lesson    universal birdhouse  size  shape depend  bird   ment  live     research  bird    areathen search   good house size   internet   case  choose house  sparrow   dimension  entrance 33mm height 240mm depth 110mm remember distance  bottom   entrance     short  avoid predators ie cat   cuttings  fact    need  two  size side one front one back  roof  recommend  cut first  rear   front     know  cut  side   bottom  roof    2 5cm longer  whole birdhousemake  hole   entrance use drill  thin saw  eaven carve sharp knife make small drill hole  front  rear desks  avoid wood split  connect  part   side  screw   bird doesnt mind   live  paint   paint home buyt   paint birdhouses could   decorative  could give something new   garden     nice look birhouses  wait  enjoy bird sing   spring   enjoy  instructable subscribe  profile  well  youtube channel participate   woodworking contest 2017   make  project share   us 18428 enrol 2020 autodesk inc', 'add  follow snippet   html   35mm audio  plug   disconnect internal speaker  project take control   behavior   speaker read    project    35mm audio  plug   disconnect internal speaker  project take control   behavior   speaker warn     peril   definitely void  warranty   echo dot  might brick  device    hand  loss  limit  30   amazon  charge    device    work  low currents   electric shock risk   brick  echo     say  dont     nevertheless get  new one  complete  project    careful  solder must  short something previously see  video    end  add  description   solution  well   code  30  echo dot   steal   music streamer     35mm audio jack  well  bluetooth     prefer  internal speaker  good   commandresponse stuff  wouldnt selfinflict listen music    challenge     35mm jack  plug   silence  internal speaker unless    alwayson amplifier youd end  miss alexa responses  typical use case   opinion   case   amplifier  use  various input music stream record player  could  tv cd etc    switch  standby   use      guarantee    talk  alexa  amplifier would     connect   right input   internal speaker silence always   35mm plug     lottery  hear  responses  echo dot  use  35mm connector  disconnect two pair  pin   jack plug   solution  relatively simple run cable   pin pair  decide   activate  internal speaker   various options    pursue depend   configuration  sophistication take apart  dot  actually   difficult  things  never     afterwards    sticky rubber pad    put back    show   remove though     bottom   device   visible   also    drill solder cut involve    warn   begin  involve work  delicate electronics   always risk  brick  device      warn gently remove  rubber pad   bottom pry  delicately    peel    rubber mat remove   still  transparent foil glue   bottom  order  access  screw  simply drill hole   foil use  torx screwdriver remove  screw delicately open  device  come  tricky part  pin   35mm connector   small    careful  cable need   solder    pin mark 14   photo    short pin 12  34  internal speaker    even   35mm jack  plug    describe    solution section   various options     turn onoff  internal speaker  view   cable solder  order  get  cable     modifications   necessary firstly  internal skeleton   something  look like  magnesium alloy btw quite remarkable   device   price point   necessary  remove  little underneath   connector sit  let  cable   use  dremel  whatever work next    need  cut  open   plastic enclosure  let  cable    make sure  cable stay firmly  put  little glue   isolation  top eventually assemble  altogether im use  sunfounder 2 channel 5v relay connect  follow relay photon please note   jumper ryvccvcc must  remove   configuration   alexa connect   mark  12  j1 12  34  j2 12   normally close  even  power   internal speaker would  active im  document   photon part  part   serial controller describe  httpswwwhacksteriosakaautomatebluesoundsnodewithamplifierandalexacontrol3fbc9e additionally im use  amplifier 12v trigger  ensure   eg  amplifier  switch  manually  reset alexa   internal speaker', 'add  follow snippet   html  omnidirectional robot  detect  face track    close    prey autonomously read    project   omnidirectional robot  detect  face track    close    prey autonomously  initial submission   hackster terminate  competition competition   create  robot  seek  humans  unlike    terminator universe    go around kill people instead  use  power  good  omnidirectional robot  find  detect  home     compliment  one requirement   specify      would ensure   could  make without   build    electronics  every part inside   robot   purchase  ebay plug together use freely available tutorials    work  case    3d printable    either print    get  make  3d hubs  think  project meet  goal     guide    step  build   hunter flatterer robot  let us start   system diagram  show   part   robot    plug together    reference  throughout  build  check     go along dont   daunt   diagram    never use motor   basically boil   four main part  next four section  mirror  list  guide   set   part  youve get   battery  next   diagram show   connect    components  power   follow  wire   schematic    real life representation  could explain    better   follow  tutorial   httpwwwinstructablescomidarduinomodulesl298ndualhbridgemotorcontroll   youve wire everything    blue light flash everywhere   blue smoke  youre good  go let get   make  bad boy work   design   decide  want two things  happen  look cool  show   ci20  well  possible  mean    point   competition right  design  robot   completely 3d printable   design   available  basically   point go  print   top bottom wheel   dont  access   3d printer   check  www3dhubscom  get someone  print      check   design    pretty render     design  make sure   ci20  go  fit    pride  place  youve get   print   glue   part     use mask tape  youre  feel two confident   need  m4 bolt  hold   motor  ci20   boss  brain   operation without   robot  flounder      well  ci20  go  use opencv  detect  face   send appropriate command  serial   arduino  get  motor go   right direction step 1 install opencv like ive say throughout  guide  wasnt try  reinvent  applecart im try  build something      home  extend   relative ease   install opencv go  follow  tutorial  talk   stepbystep  get opencv   run step 2 run  code  face track code  need compile  run run  command   file   ci20  binary file   create facetracking maincpp source file facetrackingcpp easy right  flash  arduino   code   attachments  plug  arduino   usb port   ci20  run  recently create facetracker   see  camera fee pop  oh yeah plug   webcam    stick  face   middle  wheel   robot  start make  drive forward  due  time constraints  didnt quite get    anything else    challenge  anyone   get  far   two things   add  make  bot super awesome add  set  speakers   sound file     face  large enough   screen  play  sound file   person', 'add  follow snippet   html portable light station synchronize  music   infineon coolmos c7 mosfet read    project  portable light station synchronize  music   infineon coolmos c7 mosfet portable light station synchronize  music always use technology  improve  world     black hat  gray hat hacker please abstain   point   least leave  respect  make  feel less guilty xp nowadays   organizer  independent musician events reunions  party may  follow  traditional way  arrive play  leave fan today require  higher level  entertainment  lead  organizers   buy expensive light  sound control systems  achieve  level need   fan show  type  light systems   complex  expensive system  control  handle    light    time   necessary  set   light show beforehand     songs increase even   cost    similar products   market     low quality none   products available   market sell  less  40 dollars   allow  control  low power elements   lead    really want  control high power elements  need  circuit   capable   without risk  controller   case  arduino  purpose   circuit   switch   digital signal  05 v dc   control signal  120 v ac   first stage   circuit    infineon 600vcoolmos c7 mosfet   allow us  control  optocoupler demand  minimum current   arduino board   optocoupler require  least 5 volts  36ma   able  drive    close   limit   current   arduino board  supply however  600vcoolmos  require  signal  5 volts  60ua thus show  excessive improvement   consumption   require   board  consumption  extremely important   give us  possibility   able  literally use  controller  perform  task due   low consumption thus  require  expensive drivers   supply say power   port  mosfet operation   grind  optocoupler diode    activate  allow  flow  energy   diac    turn allow  passage  current   triac connect   lamp  ignite    process   great advantage  use  mosfet   ease  increase  number  drivers   image 1  use  powerful drivers   image 2 without change  design   main circuit different result  different board another solution   project would    use relay    function  perform   task  mechanically  generate  click   switch  problem   type  component     use dimerizable light   switch frequency  larger  relay could  perform  task   mosfet optocoupler  triac  easily    project   possible  make individual modules   able  expand  number  bulbs  high voltage devices connect   arduino     board   also make  complete module  4 ac output   order  integrate  entire system  one pcb  file    pbc file folder   github    footer   project  develop  circuit  first test    stag  carry   demonstrate  effectiveness  first circuit   test   control   bulbs  mean   button  safety gloves due  high voltage please     replicate  experiment use  safety measure possible play  live current   wise   second circuit since  lamp control work well  platform  leds  make  see   arduino control  light   rhythm   music  code    arduino code folder  code  thoroughly comment   saw   light control work  connect   components   whole circuit   protoboard  control  4 light  connect    arduino    see     step  manage safety  repeat   dangerous manage live 120v ac power  take  precautions  consideration   circuit run  decide  make control modules like  one show   image   depend   cable fail   breadboard  board  make base   one     folder pcb file however since     transfer paper    make  vias   sharpie    permanenr marker    dip  plate  ferric chloride  survive  process   classic one  make homemade pcbs   get  know    process   follow link httpswwwhacksteriojunezriyazhowtomakepcbusingmarker531087  make three aditional pcb  decide  put  entire circuit   box cover    4 identical lamps       aesthetic product  easy  transport         finish  light synchronization system  electrical elements 120  220 volts  project  carry   order  demonstrate   control  light  microcontrollers   efficient  cheap since current systems   much lower quality  sell  excessive price  therefore  available     showcase  creative  seldom see approach  use  coolmos c7 mosfets provide  infineon   information   technology use  direct reference    wiki wiki httpsgithubcomaltagamosmusicmmwiki', 'add  follow snippet   html max86150 put ecg  spo2   single chip open new opportunities  calculation  pulse transit time  indirect blood pressure read    project  max86150 put ecg  spo2   single chip open new opportunities  calculation  pulse transit time  indirect blood pressure measure blood pressure traditionally involve  nurse   doctor place  inflatable handcuff  somewhere   elbow ask   breathe      use  stethoscope  understand  time   measure   happen   one   digital blood pressure meter   home  already know  poor accuracy     mean  continuous  consistent measure  blood pressure cuff less bp measurement  always   challenge    wide variety  study  several methods  develop  cufffree bp measurement  one among   show great potential  ptt  pulse transit time  act   indicator  blood pressure pulse transit time  simple word   time take   pulse wave  propagate  heart   point  read  take   case  finger tip maxim integrate recently release  max86150  biopotential sensor  give  photoplethysmogram ppg  electrocardiogram ecg simultaneously sample accord  clinical study   measure pttpulse transmit time    measure   blood pressure use ecg  ppg waveforms  protocentral   passionate  push  boundaries  diy  affordable health   make  breakout board   little sensor    connect   microcontroller use  simple i2c interface  easytouse ecg pad     record ecg   finger   plug   breakout board  like   plug  i2c devices   arduino uno use jumper wire  use qwiic connectors   quick connection arduino connect  breakoutboard 5v vcc gnd gnd a4 sda a5 scl   get  arduino libraries   max86150     install    arduino ide libraries page  instal check   examples   either use  arduino ide builtin serial plotter utility  use something like protocentral openview  look   ecg  ppg waveforms  functionality   currently build   current version   arduino library      future meanwhile  use python  calculate  ptt peak  foot intervals   segment  ecgppg   measure simultaneously   max86150 breakout board   quick run    code   r peak detect  discover  follow trench  peak   process ppg signal  time intervals  obtain use  sample frequency ptt  often inversly proportional  bp though   several limitations  use ptt  measure ecg  board open  platform  work   limitations note   still work     accurately calculate ptt intervals watch  space  update   project', 'add  follow snippet   html electroplate conductive materials use  arduino uno   relay read    project  electroplate conductive materials use  arduino uno   relay electroplate   process  use  electric current  reduce dissolve metal cations    form  thin coherent metal coat   electrode reason  electroplate  system  use  bucket   electrolyte solution make  copper sulfate  well  copper pipe  plate metal object  make  electrolyte solution  mix copper sulfate  distil water  ratio  copper sulfate  water  determine  conductive  electrolyte     vary  ratio depend   desire plat speed   conductive  solution  faster  plat process  occur im start    ratio  1 oz  copper sulfate  2 cup  distil water     electrolyte solution   need  set   copper pipe  aquarium pump  design  clip  tinkercad  hold  copper pipe along  side   bucket  3dprinted    anet a8   insert  tube   aquarium pump   copper pipe   bottom   solution   help agitate  electrolyte solution   plat process  also 3dprinted  mount  suspend  cathode   center   bath  arduino uno  use along   relay  toggle  power  electrolyte solution  uno  turn   power  10 second   leave    1 second  value   adjust   sketch  desire    simple button switch  enabledisable  plat process im use  4s lipo battery along   buck converter  regulate  voltage   dont   bench power supply  plan  test plat  different voltages  see  work best   setup  start   plat  coin     around 3 volts   pull around 600ma   plat process  plat  coin   five  ten minutes   surprise   fast  plat  work  plat coin    many time    order  conductive paint  start paint  3d print first attempt   wolf ring  wasnt  best print  work great   first test  ring wasnt plat  fast   coin   didnt apply enough coat   conductive paint  plat  ring   4 hours   try   3d print   time  apply  excessive amount  paint hop   would make  print  conductive  print  much harder  plate   seem  still need  test  different settings  fine tune  process  look like  still need  test  different settings   system  overall im  please   result  hope  enjoy  intro  electroplate  encourage   give   shoot  would like  thank elegoo  sponsor  project  send   super starter kit  come  everything  need  get start hack  arduino project  use  follow items   starter kit arduino uno prototyping hat breadboard relay resistors leds button switch  jumper wire get  kit today  start make httpswwwamazoncomelkit003projectstartertutorialarduinodpb01d8kozf4', 'add  follow snippet   html    2nd tutorial   esp32 learn journey   oled show time  capture data  dht sensor temperature humidity read    project     2nd tutorial   esp32 learn journey   oled show time  capture data  dht sensor temperature humidity  tutorial   continuation   journey  learn    great iot device  esp32   last tutorial iot make simple play   esp32  arduino ide  explore  let include  oled  present locally  data capture  dht sensor temperature humidity  well  local time httpsmediagiphycommediaqdxlvaiwgooakgiphygif   use  arduino ide  program  esp32  way     esp8266 family install drivers   important    instal   computer  update cp210x usb  uart driver enter   link usbtouartbridgevcpdrivers  install  proper driver   os install library  novelty    expressif    github  give us  proper directions  library installation arduinoesp32 follow  instructions   os   restart arduino ide     must see several board   tool menu select  appropriate    general  generic esp32 dev module work fine   start   hw assemble   last tutorial   go faster    want  detail please visit iot make simple play   esp32  arduino ide  short install  dht22  show look  sensor   grid face  count  4 legs  leave  right   test  dht first install  libraries  describe   next step first  need    adafruit library instal   ide go   github  download  update version   library dhtsensorlibrary   use   first time  get  message   dig  find    also necessary    adafruit unify sensor library also instal      arduino ide library manager see picture    everything work fine    use    arduino  nodemcu let   test   sensor   use  dht testerino example sketch    include   library      write  simple code  test  sensor    download   github esp32dht   tutorial   use  128 x 32 i2c oled display  principle     library instal  esp32 would also work   128 x 64 oled display   device   i2c display   need  connect 4 pin   esp32  install  library   use   daniel eighhoen version open  library manager  search  oled see   picture    327 version instal open ssd1306simpledemo  examples menu  replace  code    gif show  simple demo partially work note   demo  design   128 x 64 display   realize    case   use 128 x 32  graphics  shrink httpsmediagiphycommediakey4a8eokhkzcgiphygif   easily create  install new fonts   display  create  new font   give  around 2 line  20 character    128 x 32 oled display   create  go  ssd1306 font converter  great tool also develop  daniel eighhoen   must choose press create  voil  c font file  create   proper window   photo show  new hello world use  new font  clean code   download   github esp32ssd1306test note   must   2 file   arduino ide   use  modify font let  display   oled  temperature  humidity capture   dht22 sensor   loop function     function getdht   one use   new function    displaydata   show    photo show  final result   download  complete file   github esp32dht22ssd1306 usually    important  capture data  sensors  also register  time    collect let use  ntpclient library   change  line  enter   wifi network credentials  serial monitor  must see  actual time  basic version  european time   show  advance version   change   let merge  timestamp code   one develop   result  show   photos  complete code   download   github esp32timestampdht22ssd1306  last step  put  together   fix display  3 information       one   information  show one   time   display   need  page selection mechanism   several different mechanisms   use usually  multiple button select menus   fun let try something  usual   potentiometer   turn  potentiometer like     radio dial  depend   value read   define one specific display   show  oled let define 4 possible display  analog input  read 4095 different value  need  5  let define range   let define  int variable   receive  content 0 1 2 3 4 5 depend  screen   show   need  create  function getdisplay   read  value  potentiometer return  correct display number displaynum    local variable inside  function  function  look like   displaydata function  display  select display  screen  function   include   loop function    lot leave   explore   great iot device   return soon  new tutorials keep follow mjrobot tutorials  always  hope  project  help others find  way   excite world  electronics robotics  iot please visit  github  update file esp32 ssd1306   project please visit  blog mjrobotorg saludos   south   world see    next tutorial thank  marcelo', 'add  follow snippet   html build  beautiful holiday shadow theater  control  animate scene   phone read    project  build  beautiful holiday shadow theater  control  animate scene   phone  project use  arduino 101  strip  addressable leds foamcore  cardstock paper  create  phonecontrollable animate shadow theater  electronics  use nondestructively    easily use  later  another project   handy sparkfun wishlist  99   electronics   work one strip  addressable leds  wrap   piece  foamcore   middle   shadow theater  light near  bottom  slowly fire  sequence  shine  pinholes  create  animate shadow light    channel   build  top   last lead   strip  use  shine   whole scene create  main shadow  arduino 101   bluetooth radio builtin   use  quick prototyping app call blynk  remotely control  scene   example code   control  color   build turn   flicker fire  control  brightness   main shadow light step 1 collect  end harness   lead strip  cut  1 cm   end   light strip  wire end step 2 break apart  bend header pin  come   voltage regulator  solder two     end   green  yellow wire   let  easily plug    pin   arduino 101 step 3 next solder  red wire   vin terminal   voltage regulator  solder two straight headers   gnd  vout pin  show step 4  connect  barrel jack adapters first strip  end   wire come   battery case  mount    terminals   male barrel jack  tighten   screwdriver red go   terminal black go   terminal next connect  female barrel jack adapter onto   loose wire come   begin   lead strip yellow go   terminal  red go   step 5  connect  harness   arduino 101  green wire go  pin 6  yellow wire go   gnd pin near 13   two header pin   voltage regulator gnd go  gnd  vout go   vin pin   arduino 101 dont get  wrong plug  backwards lead  smell  burn  know  print  foamcore pattern  regular printer paper 4 sheet  print   cardstock pattern  cardstock paper 4 sheet step 1 take  print foamcore pattern page  use   cut   foamcore piece   lay  pattern   foamcore  lightly trace  outline   hobby knife  transfer  line  step 2     piece cut start  assemble  lead strip holder like   take  lead strip  attach  first lead   bottom  tape  hot glue  wrap  leds  show  idea   keep  lead strip intact  doesnt need    super tight wrap  youve make three wrap leave  tail end free  secure  top  tape  hot glue step 3  lead strip  addressable leds mean     less say hey    middle turn red   dont answer  hey    need  know  number  leds   crease  shine   back   shadow theater   use  animation   example   animation light  0 1 2 20 21 22 40 41 42 two leds   top section  shine    house  use lead 23  shine    back house  25  simulate firelight   front house count   leds  draw  simple reference map  make sense      enter appropriate lead number   code later remember  start  count   begin   strip start  zero  computers step 4 glue  lead holder  onto  foamcore bottom piece position   show    wide stripe  light  roughly center lengthwise   base  add  curve foamcore side piece   end  hot glue  show step 5  add  light dividers   foamcore top piece  light dividers keep  animation light  spill    house  viceversa position  largest divider close   crease   lead holder  position  smaller divider     least one lead    see photos  position  top piece   square   base  show   slideshow   secure  hot glue step 6 attach  end   lead strip   front top edge  hot glue   last lead   string  shine   scene    main shadow lead connect  usb program cable   arduino 101  connect  lead strip battery pack  arduino 101  together leave  power switch   battery pack   youll need  arduino ide instal   computer   intel curie core see arduino 101 get start youll also need  install  adafruit neopixel library   blynk library  youre new  arduino   good idea  run  basic example sketch   sure everything work ok step 1 install  blynk app   phone blynk   great tool  rapid proofofconcept build  remote control  arduino 101 ble support still   bug  blynk   far  fastest way ive find  control  arduino 101 project   phone step 2 load  example code   arduino ide  change  lead pixel number  necessary use  map  make earlier  program animate   lead number   pos array  create  illusion  fall snow change  number  need  match  setup  animation leds   ones   crease   lead holder arrange  number   order  want   fire  light project  pinholes  make  snow  light   bottom  top  make snow appear  fall  leave  right  make snow appear  blow  right  leave next set  many pixels  animate  set  pixel     end   strand shin   scene   60 pixel strip   pixel 59 choose  pixel   light   shine    rear house  pixel     two light dividers finally set  number   pixel    shin    front house    fire pixel  pixel     front   smaller light divider   code   change  need   compile  upload   arduino 101   code  successfully upload disconnect  usb cable  turn  power switch   battery pack     see  shadowpixel turn    animation pixels  light  sequence  house  fire pixels      control   blynk step 3 load  blynk app open  blynk app   phone  press  scan button near  upper right scan  qr code   controller interface  automatically load  youll   set  load  interface  look like    prefer  build  blynk interface manually instead  scan  code  start    ble widget  3 sliders set  output 0100  vo v1  v2 step 4 connect  ble   arduino 101 tap  ble widget    arduino 101  power    see shadowtheater connect  hit  play arrow icon   upper right  control  project  may need  reconnect   phone go  sleep ok     hard stuff    craft   turn everything    final reveal step 1 find  four print cardstock sheet use  hobby knife  fresh blades cut   background silhouette change  blade frequently cut   dull blade  super frustrate  change  blade 3 time cut   silhouette step 2 cut   house piece  attach  back  hot glue  print side  face back   cant see  ink   front scroll   photos  step 3 add  house   stage   use hot glue  tape try  close  gap   light go   house  doesnt spill around  side step 4  fold  side   silhouette sheet  attach  bottom   back edge   stage  hot glue face  print side away   viewer step 5 cut   snow scene  project   wall behind  shadow theater   use pin  toothpicks  cut  intricate shape   sheet   hot glue    curve edge  create  projection surface step 6 attach  leave side  front sheet  hot glue loosely attach  right side sheet  tape    still get   inside  turn  power      battery case   find  dark area   wall nearby  try     first turn  power   shadow theater  cast  scene shadow  fall snow   blynk app   control  main light   light   build', 'add  follow snippet   html  project  add two 3digit binary number  turn   4digit binary number math homework solve read    project   project  add two 3digit binary number  turn   4digit binary number math homework solve  first thing  come   mind   start learn  electronics    computers work     research  find   computers  really simple things    fast one    add two number together   decide   would make  calculator   arduino uno  finish product work  well capable  add two number nearly instantly  wire  cod correctly  calculator   able  add two number    7  produce  sum   14 math homework solve', 'add  follow snippet   html  objective   find  easy way  implement rs485   arduino uno   adapt    esp8266 read    project   objective   find  easy way  implement rs485   arduino uno   adapt    esp8266  anemometer    part   bench  measure    add   wind turbine mppt regulator  bench  measure  work   esp8266   wifi availability   moment  objective   find  easy way  implement rs485   arduino uno   adapt    esp8266  wemos lolin d1 mini  instance  code result seem  simple  cool   spend many  many hours  find  way  get something   wind sensor   think   interest everyone    implement rs485', 'add  follow snippet   html  sump level monitor  determine sump level display  locally  send  05vdc signal relay output  i2c output read    project   sump level monitor  determine sump level display  locally  send  05vdc signal relay output  i2c output  sump level monitor  build  work   ecobee rsm01 input board     daughter home   home monitor project  add  relay  allow   stand alone  want something  felt would   reliable  easier  install   ultrasonic sensor   end  start look  pressure sensors  finally come across freescale mpxv5010dp    05vdc output  010kpa  would   1020mm  water head since  want local indication  choose  oled module  use   design cheap bright   one   two color screen  provide interface  add  relay   dry contact output  add  dac digital  analog converter   05vdc output   power   mpxv5010dp sensor   also protect  sensor  possible wire damage since   use i2c communication   need  software change  supply data  another arduino  design   build  custom board  ease  connections  provide enough flexibility  different configurations  sensor  connect  tygon tube   copper pipe  get rout    sump  allow   discretion     mount  monitor  keep  away   water ', 'add  follow snippet   html   project  show   make  singlelead ecg monitor  heartrate variability use  max30003   arduino uno read    project    project  show   make  singlelead ecg monitor  heartrate variability use  max30003   arduino uno   felt    heart skip  beat   flutter   heart  youre wonder     call  arrhythmia   worry general heartrate variability hrv  normal  dependent  emotional arousal although  type  arrhythmias  indicate cardiac anomalies   want  present   article   unique  easy way  measure ecg  well  rr intervals  surprisingly high accuracy ecgekg electrocardiogram   electrical signal take  electrodes connect   body    electrical signal compare  optical mean  heart rate measurement  ecg still provide   accurate heart rhythm  single ecg waveform  make    pqrst point  show   picture       significance   detail cardiac study    possible  explain everything   particular interest  us relevant   project    call  qrs complex part   qrs complex   r apex point  correspond   depolarization   right  leave ventricles   heart     interest    distance  two r peak   continuously display  record ecg measurement  time  take   heart  produce two consecutive r peak  know   rr interval     significance  hrv study  rr interval  generally use  detect several different kinds  arrhythmias   quite           discuss  besides  clinical significance  heartrate variability    physiological significance  reduce hrv  also  indicator  parasympathetic  sympathetic nervous system activity  include emotional arousal   function   autonomous nervous system  mean  rr intervals   indirect markers  phycological activity   several ecg afe chip available include   ti  analog devices protocentral also carry  popular ads1292rchip base breakout board   new feature   max30003  us  excite  use  protocentral singlelead ecg monitor breakout board base   max30003 singlechannel afe chip  maxim integrate  acquire ecg use two electrodes connect   chest  board  connect   arduino uno use  standard spi interface connections  make  give   follow table unlike  traditional 3electrode system  require  drive right leg drl electrode  common mode rejection  max30003   unique   fact   work   2 electrodes  make  easier  use  arduino sketch  use   hookup read  realtime ecg  rtor interval data   max30003  spi put    data packet  send    uno usbuart interface  arduino sketch  available   link   end   article  also make  gui  process  take  data   serial port  plot  data  realtime  also  rtor interval time  milliseconds   instantaneous heart rate base   current rr value  rtor interval display    time   last detect r peak   previously detect r peak  get  instantaneous value   rr interval  well  heart rate  instantaneous heart rate would  different   regular heartrateif  would use  medical monitor   fact  generally heartrate  calculate   window  510 secs  store ecg data rather  take  immediate time check   video   device  action    good experience interfacing   board  assure    save  user  lot  time otherwise write robust rr detection algorithms    test  show    quite robust although  test      test  device  robustness  would like  see    make   board include internetconnected arrhythmia monitor patch  even  kind  emotion monitor  use  parasympathetic nervous system correlation  rr  detect change  emotions   soon post another hackster article   performance   device   presence  motion artifacts please leave  ides   comment ', 'add  follow snippet   html wearable  monitor  health condition  patients   suffer    risk    cardiac arrest read    project  wearable  monitor  health condition  patients   suffer    risk    cardiac arrest pha  help  city  las vegas  meet  community risk reduction goal  increase survival  sudden cardiac arrest  year approximately 300000 people   unite state experience  outofhospital cardiac arrest ohca  ohca  define  cessation  cardiac mechanical activity  occur outside   hospital set   confirm   absence  sign  circulation whereas  ohca  occur  noncardiac cause  majority 7085   events   cardiac cause cardiac arrest registry  enhance survival care data confirm  patients  receive cpr  bystanders   greater chance  survive ohca       mean age  cardiac arrest  640 years  average although 367  ohca events  witness   bystander  438   arrest involve persons  receive bystander cpr   37   persons  treat   aed   arrival  911 factor positively associate  shortterm survival  ohca    65 unwitnessed arrest occur  home  probably without  person close   help bystander witness  personal assistant could stay close  potential cardiac arrest patients  provide guidance andor execute  critical action  improve chance  survival chain  survival pha   wearable   detect  people faint  fall potentially due   cardiac problem record message  automatically call  911 service provide  address  send alert  neighbor previously train  cpr technique      guide    alexa assistance alexa  also  activate use voice command   alexa  need help please call 911   voice   prerecord message   make   medical service  emergency contact neighbor  relatives pha   wearable base  curie intel processor  collaborate   amazon echo alexa  monitor people health use  6axis accelerometer pha  detect   person faint  fall  automatically send  alarm request  medical service  previously register emergency contact  person  also request help use  alexa skill   activate   command alexa help call emergency  case   person   injure   fall  emergency call could  cancel within  first minute use  command alexa   ok slideshow presentation via google drive', 'add  follow snippet   html  project   platform  drink water monitor  analytics consist  iot device cloud  mobile  web app read    project   project   platform  drink water monitor  analytics consist  iot device cloud  mobile  web app  project focus  one    vital nutrient   body drink water  indonesia  term gallon refer   infrastructure  drink water water dispenser  replaceable water bottle  apparently  water bottle measurement   gallon unit detail background  thoughts behind  project  describe   project idea    use  idea submission  world largest arduino maker challenge  key objective   project  build solution around  new arduino mkr1000  project   simplify version   company real product call homex smart gallon please note   product   copyright  decide  share  project source code  design   effort  share   community   intend  showcase  tell much      let take  look  video   look like iot device  deviceprototype case  make  clear acrylic    show  internals   bigger      many components especially mkr1000  still put  board  female header webbased dashboard  monitor  control devices  web browser live website httphomexcloudappnet9000 test account please note   device dashboard may  show  data   actual device   turn  windows 10 uwp app  app installable  windows 10 tablet desktop  phone use  manage gallon devices monitor water level   data  also set action  perform upon trigger low water level  signingin   app   use   test account  dashboard system architecture   simple use case doesnt mean   simple   hood iot device key components capacitive sensor  want  highlight  capacitive sensor  use  measure water level inside  bottle  measure capacitance value   sensor electrode upon water existence  measure capacitance  leverage mpr121 module  support   12 electrodes  use  kind  sensor  mean   sensor doesnt    physically  touch  water like  one  float mechanism  tubebased software develop software   iot device mean develop firmware  arduino mkr1000  develop use arduino framework  specific platform target hacksterio mkr1000 build  source code  publish  github   link  cod   dont use official arduino ide instead  use arduino eclipse ide  properly open  build  code project make sure  download  install  arduino eclipse ide v3 use 3rd party libraries azure service azure   heart   platform beside  ingestion devicetocloud telemetry data  also use  send cloudtodevice message  command  later   analysis hot  cold path  ingest data stream follow azure service  use  azure iot hub  crucial component  frontfacing  iot devices   use  ingest data stream  iot devices  send command   communications  azure iot hub  iot devices   entirely  native mqtt protocol  secure communication base  tlsssl   time  develop  project azure iot hub already support mqtt v311   mqtt support  azure iot hub   azure iot hub publish event hub compatible endpoint  later use  azure stream analytics   analysis  endpoint  also use  nodejsbased backend  telemetry data storage  relay  client apps uwp  web app  web socket b azure stream analytics job   project azure stream analytics  use  process data stream receive  azure iot hub  realtime one  process  currently perform   know  rate  water level change fortunately azure stream analytics job already support input directly  iot hub   output currently azure table storage  use      use another power bi  example   analysis query    use  query  seem   query still   improve  reference   payload sample ingest  iot hub apply  query  use  input data sample   get  output something like    output   know  fast  water level change  one percentage  another  analysis  reveal  soon  water   bottle   fully empty c azure storage account  current project azure storage account especially table storage  use   output  azure stream analytics job  azure virtual machine virtual machine  use  host initially  consider  deploy   azure websites   simplicity  reduce cost  use vm   please refer  attach project repositories  read  readme file inside   properly deploy  software webbased dashboard app  leverage freeboard  create  dashboard  open source project  provide readytouse  customizable framework  create dashboards  freeboard  provide htmlbased frontend framework  still need  create  backend base  nodejs   key nodejs modules use one thing  note   data display  dashboard doesnt directly come  azure iot hub although freeboard support data source  mqtt broker  azure iot hub  support mqtt   require us  set  mqtt password   device sas token  dashboard   instead data  iot hub relay  dashboard via web socket  gallon watcher backend    data source  freeboard dashboard  socketio windows 10 uwp app   premise universal windows platform allow  develop app target  windows 10 tablet desktop  phone base  one codebase apparently   achieve   create  visual studio project similar  webbased dashboard uwp app doesnt receive data directly  azure iot hub  instead  gallon watcher backend via web socket use libraries    install use nuget  properly replicate  system    environment especially  softwareside please refer  readme file inside  repositories   deploy use azure service please follow deployment guideline   service  special consideration need  need parameters initial state  iot device   first time mkr1000  flash   connect  internet   setup  device wifi connection  use uwp app provide  signin  uwp app  webbased dashboard use  provide test account  areas  improve  project  successfully implement water level monitor solution  leverage arduino mkr1000 microsoft azure service microsoft universal windows platform  nodejs    areas  improvement  note   project also show  proper development technique  toolset  develop arduino software   perspective  software developer  19 years cod experience really play much    enjoy', 'add  follow snippet   html realtime visibility  control  water process farm weather well  anywhere read    project  realtime visibility  control  water process farm weather well  anywhere sensor message message receive  client infosensorstatehum8030temp2340soilhumidity25waterlevel1974totalmililitres026fertilevel1873totalferti127wateringstatus0fertistatus0 messagetime20190611t17553216320240000 temperature234 humidity803 waterlevel1974 soilhumidity25 totalmililitres026 fertilevel1873 totalferti127 fertistatus0 relaystatus0 messagetype1 controllertype1 actionstate argskeyhum value8030 keytemp value2340 keysoilhumidity value25 keywaterlevel value1974 keytotalmililitres value026 keyfertilevel value1873 keytotalferti value127 keywateringstatus value0 keyfertistatus value0 client message commandwateringstatetruen commandwateringstatefalsen commandwateringstatetrueamount3n commandfertilizationstatetruen commandfertilizationstatefalsen commandfertilizationstatetrueamount4n commandautofarmerstatetrueminminhumiditymaxmaxhumidityn', 'add  follow snippet   html  tutorial show   control  array  8x8 lead matrices use  arduino uno  create  face   robot read    project   tutorial show   control  array  8x8 lead matrices use  arduino uno  create  face   robot  project show   control  array  8x8 lead matrices use  arduino uno  guide might  use  create  simple  relatively cheap display    project  way  might display letter number  custom animations  5 matrix array use  one   robot project rob da alegria  use   example  illustrate  technology  might  interest  learn    project   follow link notice  youll need two type  jumpers femaletofemale   connection   matrices   maletofemale   connection   first matrix   arduino  number  components may vary accord   structure    mind connect   components accord   schematic youll need  jumper wire  connect  first matrix   arduino   matrix   next one   array arduino pinout  might also want  arrange  display   give position    might use  acrylic sheet  screw  nut four   display  place  component  position  tool  need  assemble  circuit    need  screwdriver   wish attach  display   surface   example five display  place   face pattern two eye   mouth plug  usb cable   arduino uno board  proceed   next step   latest arduino ide version instal add  ledcontrolh library   use  control  leds download compile  upload arduino  code   divide  4 part setintensity  use  limit leds brightness   set  1   scale  0  15  order  reduce  power consumption   modules   level acceptable   usb port   upload keep  arduino connect   usb port   computer  open  serial monitor  code  program  display  set  emoticons   lead face depend   message receive   serial port  follow command  configure   eye   mouth type  pair  character    eye     mouth   serial monitor press enter   display   update accord   command  might change  draw add new face  instance  change  control method include  bluetooth  wifi interface accord   need  fun', 'add  follow snippet   html let us predict  change around us  arduino read    project  let us predict  change around us  arduino recently  college   small science exhibition    request   teacher  present  project   college  teach young students  electronics  basically   two days  make  thing   climatic condition    vary  lot  recently  temperature  somewhere around 3440 degree celsius   decide  make  weather station     weather station   weather station   device  collect data relate   weather  environment use many different sensors sensors like  aim   make  portable weather station feature        thing   need   project  actually start  project   uno    decide  switch  compact solution    nano     moment    go   would love  use microbecause    smallest anyways leave  thingstalking  budget  part    list  tool end   need  also  time measure  temperature   make use different sensor  popular ones  dht22dht11sht1x  basically let understand   sensor  different        use dht22   first place am2302 output calibrate digital signal  apply exclusive digitalsignalcollectingtechnique  humidity sense technology assure  reliability  stability  sense elements  connect  8bit singlechip computer every sensor   model  temperature compensate  calibrate  accurate calibration chamber   calibrationcoefficient  save  type  programme  otp memory   sensor  detect   cite coefficientfrommemory smallsizelowconsumptionlongtransmissiondistance100menableam2302tobesuitedinallkindsof harshapplicationoccasionssinglerowpackagedwithfourpinsmakingtheconnectionveryconvenient let see  pros  con   three dht11 prosno solder need cheapest among three get stable output quickly transmission  20m strong interference conslibrary  resolution option errors temp2c humid5rh inadequate measure range050c applicationsgardening agriculture dht22 prosno solder need add   buck  dht11  get  upgrade smooth curve smallest error large range transmission  20m strong interference conscan   sensitive slow temperature track library need applicationsenvironmental monitor sht1x prosno solder smooth curve small error quick response low power consumption auto sleep extraordinary long term stability  consistency constwo digital interfaces humidity error  measure range  dht11 library need applicationsheavy duties  longtime installations follow  three relatively cheap choices connection vcc  5v  33v gnd  gnd data  pin 2  arduino  bmp180  barometric pressure sensor   i2c wire interface barometric pressure sensors measure  absolute pressure   air around   pressure vary    weather  altitude  bmp180 module come   33 v regulator 662k   blow    stupidity   attach  wire   pass  whole vcc directly   chip note     restrict   use  33 v use voltages    ruin  device  model may    662k voltage regulator  check thoroughly ok come back let connect  sensor   arduino  sensor connect   i2c bus   arduino   nano  uno  sdaa4 scla5 vcc33v gnd gnd let talk  pressure  little    pressure measure altitude  temperature  atmospheric pressure   position   constantthe complex interaction   earth spin axis tilt  many  factor result  move areas  higher  lower pressure   turn cause  variations  weather  see every day  watch  change  pressure   predict shortterm change   weather  example drop pressure usually mean wet weather   storm  approach  lowpressure system  move  rise pressure usually mean  clear weather  approach  highpressure system  move  atmospheric pressure also vary  altitude  absolute pressure  mt everest base camp 5400  lower  delhi216 since abosolute pressure  difficult  directly compare pressure measurements  one location  anotherwe use  relative pressure   sea level pressure measure altitude  average pressure   atmosphere  sea level  101325 hpa  mbar  drop   zero   climb towards  vacuum  space   curve   dropoff  well understand   compute  altitude difference  two pressure measurements p  p0  use  equation alti443301pp015255   use sea level pressure 101325 hpa   baseline pressure p0  output   equation    current altitude  sea level precautions give  air remember   bmp180 need access  ambient air  measure  pressure  dont put    seal case provide  small vent hole   adequatebut   much air    hand exposure  fastmoving air  wind  cause momentary pressure variations   affect  read shield  device  strong air currents keep  cool   accurate temperature read  need  measure  pressure try   expose  device  rapid temperature change  keep  away  nearby hot part   heat source keep  dry  bmp180  sensitive  moisture dont submerge   allow   contact liquid water dont blind  surprisingly  silicon within  bmp180  sensitive  light   enter  device   hole   top   chip  maximum accuracy shield  chip  ambient light   start  make  header   nano  actually cut  female headers   file   make  look     originally  sizewe  solder    make  headers  dht22 sensor  need  10k resistance   connect   data  grind   solder everythingthen   time   bmp180  add  header   similar mannerwe use 33 v   power  connect   i2c bus  add lastly  display   use i2c lcd  w use   bus  use   bmp180 module    fourth slot    want  add rtc module later  also incoperate clock   machine wait download  libraries bmp180 httpsgithubcomsparkfunbmp180breakoutarduin dht22 library httpsgithubcomadafruitdhtsensorlibrary  install  library  arduino check  link httpswwwarduinoccenguidelibraries   use arduino 165   code  work   version  sure also may   higher   case   nt work  use 165   base version', 'add  follow snippet   html  cheap version   arduboy clone     play  number  original arduboy game read    project   cheap version   arduboy clone     play  number  original arduboy game arduboy   miniature game system  size   credit card  come instal   classic 8bit game    reprogrammed   library  open source game available online arduboy  open source    learn  code  create   game  original version  base  atmega32u4 microcontroller  128x64 pixels serial oled display  console whose construction  represent   make   arduino nano   i2c version   oled display    much easier  find   lower price   download  necessary libraries  code  httpsgithubcomharbaumarduboy2     3d printer   also download stl file   possible box option    console  instal  detail installation guide  available    site   power   arduino nano  one lithiumion battery  37v   work quite well  test many game   console    function great ardubreakout pinball shadowrunner snake viruslqp79 nineteen43  many   schematic  show    example   present  code  ardubreakout game    download   game   arduboy site compatible   version  console', 'add  follow snippet   html movethisway   autonomous robot  transport heavy payloads  programmable paths  obstacle detection capability read    project  movethisway   autonomous robot  transport heavy payloads  programmable paths  obstacle detection capability purdue ece senior design fall 2019 movethisway   autonomous robot   carry heavy payloads  main use case    vary office  industrial environment    clear paths   robot  take  robot  remotely program   user  store paths   memory make  rout autonomous  repeatable movethisway feature sensors  avoid collisions  keep    environment safe  also  indicators  display  robots current movements errors   battery level  goal   team project   create  affordable solution  businesses  robotic assistance  desire    reach  part use   project   easily attainable  relatively affordable', 'add  follow snippet   html   plan   vacation    great project  track  temperature  soil moisture   plant use dweetio  aws iot read    project    plan   vacation    great project  track  temperature  soil moisture   plant use dweetio  aws iot picture    go   vacation   week     worry   house plant  homehere   great project   take  week   head    vacation build   plant monitor andnotificationsystem   follow feature  addition   design  3d print enclosure  house  arduino yun grove shield  sensors    interest  check    plant      link httpdweetiofollowplantmonitortorontoon    step   need  perform  complete  build 1 build  circuit use  grove connector shieldas show   schematic section   project basicallyconnect  2 3d print  stl file attach  thecustom part  enclosure section    3 stl file  print set  slice software  03 mm layer height   fill density  atleast 25  higher 3d print  take  2 hours  download  stl file  fir   3d printer   complete   step  3 determine  soil moisture value upload  code attach belowsoil moisture value   arduino yun  determine  toodryvalue   code belowbasically   value   soil moisture fall  toodryvalue  need  water  plantand  value   value    use  awssns condition  send  email    video  show  method  use  determine  toodryvalue 4 upload arduino code  yun  post data  dweetio     decide   toodryvalue upload  arduinoyundweetioino file   yun   part   code also replace plantmonitortorontoon  something  mean full     video test  upload  sensor data  dweetio 5 set  aws cli   computer    use  mac   log data use aws iot  dyanamodb     create  account athttpsawsamazoncomfree    also   provide  credit card detail   thetutorial    notincur  cost   depend   region  aws setup   create  folder aws   mac  follow  link   download  install aws cli httpdocsawsamazoncomiotlatestdeveloperguideinstallingawsclihtml   use  mac    instructions  follow note   terminal  need     aws folder   create 6 create  thing use  cli   show   aws iot console    create  thing  aws iot use  follow command   info refer   link httpdocsawsamazoncomiotlatestdeveloperguidecreatethinghtml 7 create certs  create  activate  certificate    need give  follow command  command  create  certificates3 pem file     aws folder  show   screen shoot  8 create  attach  aws iot policy   certificate start   create  json file   aws folder use  favorite text editori prefer sublime text 2 name  file policyjson  copy paste  follow command   text editor 9 attach policy  certificate follow  attach certificate  device give  command  one  another   easy way  get  certificate arn     note     go   aws iot console click   certificate  go  detail   right hand side   screen     copy paste  arn   teminal   info refer   documentation  httpdocsawsamazoncomiotlatestdeveloperguidesecurecommunicationhtml 10verifyingtesting  setup   computer  test  use mqttfx   claim   setup     computer download  install mqttfx  link   test   setup  work    able  publish  suscribe  data via aws iot httpmqttfxjfx4eeorgindexphpdownload   setup info   download  root cert use  link  httpdocsawsamazoncomiotlatestdeveloperguideverifypubsubhtml  inmqttfx     setup  connection profile  link  certs   download  part   step     quick video  show    test  setup   computer    case   mac usingmqttfx tool    complete  test   setup  fine follow  step   upload  certificate   arduino yun 11 set   arduino yun  communicate  aws iot cloud download  latest version   arduino yun sdk  github  unzip   arduino libraries folder httpsgithubcomawsawsiotdevicesdkarduinoyun    use  arduino yun   first time follow  setup instructions  httpswwwarduinoccenguidearduinoyun basically use  link   learn   set   arduino yun  connect  home wifi network  load  process example sketch arduino ide   yun fileexamplesbridge process   confirm   yun  access   internet put  rootca file private key  certificate  certs folder  show   screen shoot  next modify codebaseuploadsh  environmentsetupsh  replace yourboardsip   board ip address  yourboardsip   password    terminal run  follow command  give permission   sh file   take  510 mins  move  certs  install distribute pythonopenssl pip pahomqtt   yun    package  need  communicate   aws cloud   yunaka call  plantsystem thing   case  installation  linuxwindows follow  link  httpsgithubcomawsawsiotdevicesdkarduinoyuninstallation   part   next couple use aws cli   go create  table  dynamodb  post sensor data 12 create  iam role  grant permisions basically  enter data  thedynamodb sensor table    go  create  part   next step  need  create  iot rule   act upon  mqtt messagereceived  aws    need  create  role  grant  necessary permisions create  json file rolepolicyjson   create  role run  follow command   terminal create another json file policyjson thencall createpolicy  specify  iam policy document  finally attach  policy   role use modify  policyarn   arn   receive  part   previous step httpdocsawsamazoncomiotlatestdeveloperguideconfigandtestruleshtml 13 set  table  dynamodb  aws console  part   step   go  create adynamodb   aws console table name plantsensor partition key key sort key timestamp  also set  read capacity units  write capacity  1 14 create  rule  insert data  plantsensor table create  json file plantdatarulejson  modify  rolearn value  section  go  iamrolesiotactionrole  get  arn  run  follow command   terminal    go   aws iot console   see  rule create call plantdatatodynamodb  show   screen shoot  ignore  email send rule   come  part   step  use mqttfx run  quick test  see  record  get create   table create 15 upload  arduino sketch  publish data  aws iot   yun  first start   download  arduinojson library  github  httpsgithubcombblanchonarduinojson  download  yunawsiotdynamodbino  awsiotconfigh file   code section   upload    yun open  serial monitor    see  temperature light value  soil moisture value post   dynamodb      aws     kinds  awesome stuff  set  lambda function  post datakinesis note   plan  make   permanent setup dont forget  increase  delayat  end   loop  increase  time interval  post  dynamodb      incur addition cost    price refer tohttpsawsamazoncomiotpricing 16 set   awsiot sns rule toreceive  email   soil moisture value fall   threshold basically  step include set   simple sns notification base  aws iot rule start   assign  follow policies   aws role iotactionrole   create   previous step   iam console amazonsnsrole amazonsnsfullaccess     sns console create  topic call sendmail  create  subscription  give  email configure   phone  get notify   soil moisture value  low  head back   aws iot console  use  create resource button create  rule call email send  provide  follow info    console  look like  screen shoot     sample email  recived   remove  soil moisture sensor   glass  water  read   awssns httpsawsamazoncomsnsfaqs 15 put  3d print part together  add    pot   need  4x40 screw  nut  attach  black soil poker 3d print part   base part   arduino yun  top part  snap fit hererememberto point  top open toward  window  poke  soil moisture   potand power  yun   micro usb cable plug   wall outlet please note   still explore  learn   awesome world  aws  awe   feature   aws consoleso     use aws  quite  time post  comment  suggestion  feature  would  like  seeapplicable   plant monitor projectthanks', 'add  follow snippet   html   iot project  lead light   control wirelessly   simple html page  project    students doers  makers read    project    iot project  lead light   control wirelessly   simple html page  project    students doers  makers let get start  live demo  get   motivate httpsrandomnerdtutorialscomhowtoinstallesp recommend  install version 183  higher arduino ide note  complete  step    able  see wemos d1 r mini refer attach image connect  10mm lead   d3  board  lead   board gnd pin   either use 15v x 2 aa baterry  power  board  non debug modeproduction  use type c usb data cable  connect  computerlaptop usb cable  debug  reprogram aa battery    source  connect  board 33v  gnd respectively compile  upload  code go  wifi  task bar connect  hot spot name esphotspot password  embed  code open indexhtml 1  case  want  update ssid  need  refer   wifi manager library examples   go    board store  detail  eeprom  merry change  arduino code wont allow  board  update previously successfully connect hot spot ssid detail   beginners dont expect  change ssid  password  start  2  operate  external power source  2 aa baterry might  last  long  wifi connectivity drain  battery quite fast better option would  use mobile power bank say 10  20000 mah  connect  board c type usb 3  case board   detect  could  chance    run  log   administrator account  os andor may   usb port enable', 'add  follow snippet   html  sparkfun artemis power urban quality monitor system  iot capability  tensorflow lite base machine learn implementation read    project   sparkfun artemis power urban quality monitor system  iot capability  tensorflow lite base machine learn implementation  metro cities  around  world  face  lot  problem    increase population   result   exponential pollution rise     serious problem  need immediate attention   problem      proper monitor device   urban environments    unable  get  reliable data even    devices  monitor  condition    limit number due   current cost  reliability  accuracy count  sparkuqm design specifically  urban environments please note    design  device keep  mind  indian metro city condition  cities like delhi  one    pollute cities   world   come  air pollution  let us get start   components  already mention   project  let us   look      brief 1  spark fun artemis contest kit 1  kit contain 2 various see grove sensors note  normal sensors    fine   use      lot   lie around  sensors   use  3 particle photon  small wifi power development board   use  add iot capabilities   project   fetch  sensor data serially   send    desire cloud 4 apart     usb power bank   require  power  whole device    let us get start   project    show  hardware connections   project   image   detail  go    look   code   git repo  main file   well write   comment  easy understand   really sorry   could  create  flow chart  schematic diagram due   shortage  time   sure    add   additional detail later  sure    hardware connections     get   things   cardboard enclosure   create   project   everything  attach  glue  tap   place  final hardware would look something like       let us move   software part  part  divide  3 part basically    develop  code like   first part   normal code part    program  device  work    interfaced components   part 2  add machine learn functionality   project  part 3   describe  particle photon code  code   little complicate    use intensive comment  easy understand  let us start    basic arduino ide code   sparkfun artemis atp  code  pretty much self explanatory   see  please  go    name   file  finalcodeinoyou  find  code   github repo   project sorry   add detail code explanation later  sure  project show   sensor data  various page create   display   oled screen  page   follow    basic code      move    main part   project   tensorflow lite implementation  saw      speech  audio relate examples give  arduino tensorflow lite library    quite complicate  start     reason  could  get   work  expect later    tweak   parameters   tensorflow micro speech example   finally work    2 options   figure  add voice functionality   project wont  much good  term  application   decide  go   2nd option firstly   focus  2   simplest algorithms 1 linear regression 2 logistic regression   couldnt get  desire accuracy   linear regression model  predict air quality eco2 value base  past value   feature  use   know   linear regression  tensorflow lite  go   follow  tutorial believe    great thank  particle blog  get  reference data  use  nxp rapid iot prototyping kit httpsblogparticleioparticlemachinelearning101   process   follow  arduino ide    loss   much     time constraint  instead  decide  go  logistic regression  build  simple binary classifier    worry   add  linear regression model implementation soon  train  binary classifier   time consume   use  large dataset    project   take  consideration  co2  tvoc value  add  additional parameter aqi  generate train data output   pretty simple logic   value  tvoc  co2  greater   particular value   case  keep  1000   demo  aqi value  become 1 else zero  get  data  create  demo program  print  desire data  csv friendly form  serial monitor  leave  run   hour  tow   serial console  use putty   stop   download  data  csv format  final data  ook something like   manage  get 540 data point     enough      upload  data  google colab logistic regression demo   train  classifier  link   google colab notebook  httpscolabresearchgooglecomnotebooksmlcclogisticregressionipynbhlen    basic example  change  accord   data  use   follow  process  convert  obtain model intotflite format  finally   c file  value  weight  bias store   array     train model  next step   convert  model  something  tensorflow lite  work  tensorflow proper support  number  different model file format  tensorflow lite support  one  tflite flatbuffer format   optimize  size  thus perfect  constrain devices     tflite model youll need  convert    c array  use many mcus include particle devices    native filesystem support  mean youll need  load  tflite model  memory  order  use   recommend way      convert  model   c array  compile    project   operate systems       xxd command   yield something  look like   complete  machine learn part   everything  set   sparkfun side   project let us move    particle photon side  help add iot capabilities   project  arduino code send   sensor data  json format use  arduino json library     use   library  parse  json      anything   data example send    database like firebase     access   android application see  earlier project  documentation    complete  project please like   like  project  follow     content thank  sparkfun   wonderful opportunity adios', 'add  follow snippet   html  program  arduino   raspberry pi  possible  super easy read    project   program  arduino   raspberry pi  possible  super easy cant find  right computer  program  arduino    run short  available computers around  house  use well worry    friends   take  little time   get  raspberry pi  program  arduino connect  raspberry pi   power source   monitor  log  navigate   browser head   link httpswwwarduinoccenmainsoftware scroll   bite  click  linux arm 32 bits   right     redirect   contribute page   want  donate money  arduino    youll     dont want  donate click  download  dialog box  pop  ask   want  save  file select download  continue    ide  download youll need  install   raspbian archiver follow  step  install  begin use  latest version  arduino ide 1 go   raspbian icon   top leave corner   raspbian desktop open  menu go  accessories  click archiver 2go  archive open arduino181linuxarmtarxy wait   red light  stop flash   bottom right corner 3    go  action extract  dialog box appear select  file andextract file  full path    set like   default click extract 4 wait   extraction   complete  move   terminal type       start use  ide   raspberry pi finish reboot open  raspberry pi menu   desktop     new section call electronics   section     arduino ide plug   arduino   raspberry pi open  arduino ide select  correct port    devttyusb0  test   work try cod  classic blink program attach   post   arduino ide   upload correctly   work', 'add  follow snippet   html use  blue laser  phosphorescent paper  illustrate   mean  sketch  sine wave around  circle read    project  use  blue laser  phosphorescent paper  illustrate   mean  sketch  sine wave around  circle   ever wonder   sound edit software  cut  boost  base   record   soundcanceling headphones work   civil engineer  design build  avoid  resonant frequencies  earthquakes well  answer     question originate  one man joseph fourier fourier figure    mathematically brake  complex wave    component sine wave allow    edit  observe individually  general idea without get   calculus behind     take  wave  wrap  around  circle    draw  type  flower   gradually increase  frequency    wind  wave around  circle watch  shape   graph draw change      find  frequency  draw something  look like  heart shape   find   mean   frequency     wind  wave around  circle      frequency  one   component sine wave   parent wave   analyze  decide  make  physical representation   process  find  component sine wave  idea   henry haggart   come       rotate circle  phosphorescent paper    control  speed    linear actuator   blue laser attach    idea    linear actuator   laser would trace  sine wave   alter  speed    circle turn  try  find   match   start  draw hearts instead  flower  could  easily achieve  drive two separate stepper motor  use  input   rotary encoder  change  speed    base circle rotate  rest   physical design  relatively rudimentary    need  way  suspend  laser   base circle   custom fabricate linear actuator   laser cut  acrylic program  device   wasnt excessively hard  present  unexpected challenge   firstly   never work  arduino  steppers     think   mechanics   setspeed function   speed    add  different delay  step   program    problem  us  every time  delay change   sine wave generator code  would also change  speed   base circle    get dangerously close  exhibition time  quick fix   simply run  two motor   two different board    way  make  code much  readable   importantly debuggable later  however  learn   way  run  two cod together    arduino without   delay   sine function effect  delay   base circle    code snippet  allow us     millis function   arduino ide   timer function   value count   constant rate  matter  delay   may    code     look   millis  count   certain increment value   base circle speed    condition  meet  take one step forward   base stepper motor', 'add  follow snippet   html    project  aim  build  rgb lead p6 panel base lead clock use rpi zero w  electrodragon interface board read    project     project  aim  build  rgb lead p6 panel base lead clock use rpi zero w  electrodragon interface board  project aim  create  rgm matrix base smart clock use  rgb matrix interface board  sell  electrodragon   raspberry pi zero w  software  use  raspbian   board   interfaced directly  c  ultimate goal would   create  sdk   board  create multiple apps   p10p6 display  finally create  nice 3d print case     sdk   capable   project  host  number  sensors    app modules  interface  stay tune     project  repo   project    httpsgithubcomnarioincpiclock  quick sneak peek   progress make  far', 'add  follow snippet   html control  robot via wifi use arduino  blynk application read    project  control  robot via wifi use arduino  blynk application arduino blynk wifi module wifi robot', 'add  follow snippet   html  scentterrific smart candle  make  wax flicker like  real flame emit scent though  wax warmer   controllable  alexa read    project   scentterrific smart candle  make  wax flicker like  real flame emit scent though  wax warmer   controllable  alexa  scentterrific smart candle   smart light  aromatherapy system   home  office  love smart light ive get seven wall switch  smart bulb   smart plug connect   lamp   home ive even build   smart lamp unfortunately  havent find   innovation   come   light apparatus  havent see  smart night light   market  think smart lamps   better smart candle   worse  dont look like candle  dont smell like candle  arent controllable  voice ive  think  build  smart candle system    hackster alexa  arduino smart home challenge seem like  good reason  take  ideas  attempt  build something one   interest aspects   contest   notion  take  idea  project  product use    guide principle  choose components   final design base   follow factor  heavy consideration  land   solution  leverage  arduino pro mini esp8266 s12 module mongoose os  aws iot  detail   appendix  main interaction model use alexa  provide voice control   follow   land   design  start work   prototype   follow requirements flame  candle  use yellow leds  simulate  flame leverage pwm pin  randomly vary  voltage   lead  cause  lead  flicker  drill 516  hole  2  x 4  candle  insert  leds inside  simulate  flame burn wax melter  temperature control  use  electric heat pad   ceramic ramekin  meet  scent requirements  ds18b20 temperature sensor  use  measure  heat pad temperature  transistor  use along   pwm pin  order  control  temperature voltage challenge  heat pad need  least 12v  12a   get hot quickly b get hot enough  melt  wax c deal  heat loss   pad insulation tile  ceramic ramekin see link datasheet   info  huzzah   accept 46 v  pro mini   theory take   12v input   stress  voltage regulator   device  blow   voltage regulator  one   test devices ultimately  use  5v 15a voltage regulator 7805  get  safe input voltage   microcontrollers  use  tip 120 darlington transistor  handle  voltage switch   heat pad use  pwm pin  get  precise temperature control wire diagram notescomments  smart candle use two microcontrollers  provide fuctionality  order  build    need  configure  esp8266  use mongoose os  aws iot initial setup option 1 create   aws account    alexa skill option 2 leverage  alexa skill      need      aws cli configure   download mongoose os   point  esp8266   configure  use   aws iot cloud   necessary  order   candle  interact  alexa use  code  notescomments  pro mini control  function   smart candle build   straight forward first solder headers onto  pro mini sparkfun   great get start guide   upload  code   pro mini check  code section   arduino code  wire  document   fritzing diagram   wire   5 candle   code  decide  build  three candle holder   second prototype step 1 prepare  candle step 2 create  physical candle holder  use 3d print  create  candle holder see section   stl file notescomments step 3 final solder  assembly step 31 solder  microcontrollers   protoboard step 32 attache  head pad   base step 33 assemble  remain components    solder    protoboard yet step 34 assemble  lead holders step 35 assemble  solder  remain components   protoboard  final build  add  candle look like  step 36 add  candle  test   button step 37 test  alexa    use  account provide       able  control  device  alexa note see  next section   plan  build   alexa skill  overview  build alexa smart home skills   find  httpsdeveloperamazoncomdocssmarthomeunderstandthesmarthomeskillapihtml     first smart home skill   suggest  first read  documentation  create   hello world skills  youre ready   use  code  build   alexa skill  control  smart candle  alexa skill respond   follow directives notescomments  use login  amazon  authentication   follow  example  httpsdeveloperamazoncomdocssmarthomeauthenticateanalexauseraccountlinkinghtml     process  build  device cloud   scentterrific smart candle   code use  user token  authenticate  user  retrieve  userid  userid   use  either  discover devices  b confirm  userid correspond   deviceid    replicate  skill   skip    complexity  hardcode value instead ive leave  code asis  comment     either hardcode  access  device cloud  dynamodb table       next step need  fully realize  project   product next prototype v3 things  think  path  minimally viable product future think note    longer explanation  consider options add   appendix  anyone   interest one   interest aspects   contest   notion  take  idea  project  product use    guide principle  choose components   final design base   follow factor  ultimately come   two design ideas option 1 hub  speak components pros con option 2 direct wifi connection  aws iot components pros con final design  ultimately decide  option 2   follow reason', 'add  follow snippet   html    quick start guide  use  esp8266   iot device power  pubnub read    project     quick start guide  use  esp8266   iot device power  pubnub    basic demonstration    use pubnub  handle  communication   esp8266    pubnub enable device  esp8266   remarkable little piece  hardware  work perfectly   controller   embed iot project  project use  module use  external controller like  arduino  control  use  serial  command    unnecessary  esp8266   programmable 32 bite mcu   easily work   standalone devicei  create  basic library demonstrate   publish  subscribe   pubnub channel  channel  also  publish  subscribe     pubnub enable device   world  make set   network  iot sensors  external actuator nod incredibly simple  demo show   read  button  blink  lead  accordance  data transmit   pubnub channel   remote sourcei also demonstrate   use  pubnub debug console  well  print debug information   serial port  full description   project include indepth instructions  available   source code repositoryhttpsgithubcomkurteclothierpubnubesp8266  state    basic demo illustrate   possible use  esp8266  pubnub  provide code  work however    modify  best suit  particular application', 'add  follow snippet   html    lot  work  image process  need  test cameras imagers   go  create  scalable test platform read    project     lot  work  image process  need  test cameras imagers   go  create  scalable test platform   look  create image process solutions previously  use image sensors  use  parallel interface  cameras  use hdmi interfaces one common interface  image sensors  mipi  let take  look     build  image process design   zybo z7   capable  use  hdmi input   mipi camera interface  also want  lay  grind work   able  create  image process system  allow   quickly  easily test cameras  sensors    future upgrade   project    support  parallel pmod camera  well     able  select   imager  wish  use   algorithm    add advantage   pin    zybo mipi connector   align   commonly use maker cameras  example  pi cameras   look     use  pi camera  another project mipi   commonly use abbreviation   mobile industry processor interface    interface   design  unidirectional data transfer  high bandwidths use  number  high speed serial lanes mipi   number  different layer  like  osi model   application    use  mipi dphy   physical layer  mipi camera serial interface issue 2 csi2   protocol  transfer  image data   want  know   mipi   look   previous installment   microzed chronicle  mipi  zybo z7 interfaces   mipi camera use  flat flexible cable ffc   pin    use  interface   use   two mipi lanes  image transfer configuration   imager  provide use  i2c connection    two gpio provide  gpios provide different fucntionality depend upon  camera   connect    case   pcam   need  use gpio  pin 11  drive  power  signal   imager   applications  may need  provide  clock however   pcam    need    pcam board contain   12 mhz oscillator  actual pin       zynq 7000    dphy capable io  designers   zybo z7  implement  dphy compatible approach  use  external resistor network  provide  high speed  low speed mipi interfaces  fpga design  go   two video input paths   common video output path internally  fpga architecture  use  follow block   digilent vivado library   vivado library    use  follow block  also need  configure  zynq ps  provide  follow   come  clock  axi lite network  clock  50 mhz  axi stream network   dphy reference  connect  200 mhz   dynamic clock generator reference  connect   100 mhz clock  aid  integration  test   interfaces  place several integrate logic analyzers within  design    see  initial capture   mipi input    two input  need  ensure  input paths work correctly   desire floor plan   complete design     fpga design complete  need  write application sw  configure  image process core within  fpga  configure  pcam   correct operation  cameras hdmi  mipi   configure  operate   720p resolution  application sw therefore need  perform  follow  largest part   sw application   configuration  pcam   i2c link  data sheet  quite comprehensive however  first thing  need    ensure   communicate   pcam     read  register 0x3100  ensure  response  0x78    i2c address   device     receive  value   declare  camera   connect provide  camera  connect  next stage   initialize  camera   configure  camera   mode  desire  operate     work    need  configure   pcam  create  simple function  would read   array  output  configuration data   pcam  software allow   switch   different input source use  axis switch   put   together  run  application   bench  seem  work pretty well provide    flexible platform  future test  cameras  image sensors   software  write   use  video input format   also  able  see differences   performance  intend  come back   board   future microzed chronicle blog  add  support  pmod camera  expand  mipi camera  work   pi low light camera   next  weeks  months    moment   good sufficient   test    mind  provide   flexible platform   find  file associate   project  httpsgithubcomataylorcengfiethackster see previous project     xilinx use fpga development weekly  microzed chronicle', 'add  follow snippet   html  project  want  share   today   arduino maze game  become  pocket console  capable  arduboy read    project   project  want  share   today   arduino maze game  become  pocket console  capable  arduboy welcome   first tutorial  project  want  share   today  arduino maze game  become  pocket console  capable  arduboy  similar arduino base console    flash     future game thank  expose icsp header    idea  months ago  build  maze game  arduino  without hardcoded set  mazes    able  generate  new maze   level   play   never see   maze  cod    bite   challenge since arduino  limit  ram memory    find  examples       simple botaoshi algorithm code  use   start point  take  sanuki udon   project   make  maze generator use attiny13a  start point    small breadboard   4 button connect  move  maze  later   decide     game console  add    button  larger breadboard   see 2  button  later  add  third one   use  startpausemenu button connect components  show  diagram  button ssd1306 oled screen buzzer amaze game source code   find  httpsgithubcomalojzjakobamaze open  arduino ide  upload   board  use isp programmer  program  chip  recommend use usbtiny isp never  problems      also use ordinary arduino  program  chip   case    use external crystal   atmega328p chip work  internal oscillator   8mhz   info visit  link httpswwwarduinoccentutorialarduinotobreadboard   want  make  project permanent   nice look case    simple 3d printable case  design httpswwwthingiversecomthing2851100   picture    see   components  lay    4x6 prototype pcb  button wire go   battery holders try  make   plain  possible  battery holders   relatively flush fit   board  wire inbetween  also recommend   wire   screen since atmega chip legs  solder  expose   screen     solder put  insulation tape   screen  prevent short etc icsp header  optional    decide   expose    make  assembly much easier 6 connections less  take care   program  chip first   solder   use 28 pin dip socket    easily remove  chip  program', 'add  follow snippet   html  pantry   automatically replenish kitchen items read    project   pantry   automatically replenish kitchen items    time   want  cook something  find  cook ingredient onion garlic chili etc  run low   case  buy wrong item   garlic instead  onion   reach   kitchen  observe     plenty  onion   garlic    feel    situation  get rid   situation  build  smart pantry   order automatically  replenish every ingredients   pantry  amazon drs busy life easy solution    show    make  hitech pantry   hope   able  reproduce    requirement  let get start first   explain   prepare  pantry  sense  shortage   ingredient  use force sensitive resistor fsr  detect  absence  ingredient   specific box   pantry arduino uno  use   read  sensor value  take  3 compartment kitchen box   demo project    house three different ingredients   three separate box  sense  shortage  ingredients   box   measure weight   box  force sensitive resistor though fsr    accurate  weight measurement  enough   project  identify  blank box photos attach  show   place fsr   box  place one fsr   compartment  try  put    center   compartment use mini drill  make two hole  every sensor  bring   pin   sensor    box   solder jumper wire   pin   sensors  connect   arduino three sensors  use  three separate part   box  sensors  place   center   box force sensitive resistor change  value   force  apply   pressure   hard surface   good  fsr     get accurate result  better output  place  small piece  foam   bottom  every inner box use double side tape place    position   exactly    sensor  pantry  ready drs provide connect devices  direct access  amazons powerful retail platform  order  item automatically  easytouse apis device manufacturers  take advantage  amazon authentication  payment service  integrate  amazon service like login  amazon lwa  simple notification service sns  simple api call allow  manufacturer  place  product order  behalf   customer let get start  drs   dont  amazon developer  aws amazon web service account  sign     create amazon security profile 1 log  amazon developer portal 2  successful login  developer portal go  login  amazon  apps service tab 3 click  create  new security profile 4  click  web settings  manage dropdown 5 click  edit button   enter allow url allow return urls  click save button note   host  html page   url   address   page would   return url   set  later 6  click  general tab  note   security profile id  client id    require later amazon simple notification service amazon sns   fast flexible fully manage push notification service  let  send individual message   fanout message  large number  recipients amazon sns make  simple  cost effective  send push notifications  mobile device users email recipients  even send message   distribute service  create new amazon web service sns 1 login  amazon web service console 2  successful login  aws account search sns  click   3 click  create topic button 4  popup  sns   display enter topic name  display name respectively  write  click create topic button 5 click  edit topic policy   topic action 6 choose  option    aws users   write aws account id   get  aws account id   account option 7  click  update policy button 8 note   sns topic arnamazon resource number 9  click  create subscription 10   protocol field select email  enter  email address  endpoint field 11 click  request confirmation  email   send   account 12   provide link confirm  subscription 1 login  amazon developer portal  go  dash replenishment service 2 click  begin button     redirect  register  lwa page enter  lwa security profile id  note earlier  click next button 3  enter  amazon web service sns arn  note earlier  click next   button 4     right time  add  device  drs account click  create  device 5 enter  device name  click  generate button  generate  model id  upload  photo   click next button 6 add slot   device create  many slot  many  want   device enter product asns  slot  information  find asns click     find asns google add items   slot  submit    use  amazon drs api   application  api   help  drs please visit developeramazoncompublicsolutionsdevicesdashreplenishmentservice      create   individual elements    ready  generate  authorization code   drs service    use  place order  pantry  create   product registration page  may use    free host platforms available   web page   host   register product  customer end  amazon drs  may visit follow link httpssmartpantry000webhostappcom  try  register  provide random serial   html code   website   upload  code section  register  product 1 click  login  amazon  click  okay button 2 choose  product  first slot   click  next  second slot 3 select product  second slot    4 click  complete setup  confirm detail 5  successful confirmation   get  authorization code 6   also get  email   confirmation', 'add  follow snippet   html   make lanethernet relay switch use arduino uno  ethernet shield enc28j60 read    project    make lanethernet relay switch use arduino uno  ethernet shield enc28j60   make lanethernet relay switch use arduino uno  ethernet shield enc28j60    simple tutorial remote control   lan  control   use http  json  electronic circuit   use  part   larger system iot internet  things see    make lanethernet relay switch use arduino uno connection enc28j60  arduino uno  software support two relay     problem  increase  number ip device  permanently assign  1921680101     devices work    network youd   remember  unique ip  mac address  turn   relay  enter  link   browser http1921680101swon1 1   relay number  turn   relay http1921680101swoff1  response  get  json relay state sw00 sw10', 'add  follow snippet   html cellular backdoor  hologram nova  raspberry pi flaskask serveramazon alexa control read    project  cellular backdoor  hologram nova  raspberry pi flaskask serveramazon alexa control  previous project   ardrone 20 help us learn   new project  current alexa  arduino smart home challenge entry introduce us   skills need  create  work demo   voicecontrolled drone     come     outline  process  set   pi   necessary software install flaskask youll also need  library  control  ardrone via wifi clone  repo  run  installsh script provide  create  skill   link   server run   raspberry pi flask   easy  use python library  serve  application use flaskask   configure  server  communicate   alexa skill  use ngrok  serve  application externally  give us  https link well need   alexa skill   snippet  code   application  full apppy script   attach   run  application  type   project  use ngrok  serve  application  https  use  reserve subdomain name   link   consistent   amazon alexa skill configuration  serve  application run   raspberry pi join  ardrone wifi access point  use  hologram nova usb modem   cellular backdoor enable alexa  communicate   flaskask server  find   application work smoothly use hologram nova   monthly data plan  250mb   set   use  hologram dashboard  activate  sim card set   alexa skill navigate   amazon developer dashboard  log  click  alexa  get start  alexa skill kit  create  new skill  click add  new skill start complete  tabs   leave follow  instructions follow  instructions give   gui finish fill   last two tabs    check mark  green  launch  skill   beta test feature  allow   host  skill   echo device  publish  follow  instructions   email link  install  skill   echo device  run  entire application first make sure  drone     wifi connect     raspberry pi server connect   ardrone network   terminal connect  hologram network run  follow command   blue lead   nova  solid   process  finish     cellular network   separate tab run  ngrok command  mention earlier finally  another tab run  application   drone light  green youre good  fly   ask alexa  reset   say alexa ask majortom  reset  try  command  drone  fly say alexa ask majortom  blast   think  spaceship know  way  go kindbotio', 'add  follow snippet   html sony spresense board nodemcu google firebase android studio read    project  sony spresense board nodemcu google firebase android studio   create  high quality project sony spresense board extension board  arrive thank   product  quick delivery package photos   linux ubuntu require  user    member   dialout group add user  dialout group  execute   follow command   terminal log   log    use  new settings    connect  spresense board  pc via  usb cable 1 install spresense arduino library  spresense arduino library   instal 2 install bootloader 3 build  first sketch  verify installation  code   update   sony spresense board  list   attachments  name sonyspresenseboardino part  code  elements  list   step   code section list   follow step  use  sonyspresenseboardino   microphone detect  sound change   read    set  micdata 1     change   sound sensor   value   micdata 0   see    sound  detect  lead  light    connect  speakers   sony spresense board   wil  able  make sound warn warn   save  sd card  mp3 format depend   sensor  activate mp3 file  also  activate      house    seenheard  video  test   indicate  step 7 instal mp3 player playerino folder  show  stepper motor   project serve  rotate security camera   constantly rotate  camera  radius  movement  60 test stepper motor  show   picture  in1 in2 in3 in4  pin  program  stepper motor    delay  occur  command   use  create  angle   motor  go  one direction   value  int  0 i150     angle  90  first   loop achieve   engine rotate  one direction      loop achieve  return   start position   pir sensor detect motion  value   variable pirdata   1 pirdata 1   lead  turn      detect motion  value  variable   0 pirdata 0   lead  turn  distance sensor ultrasonic module hcsr04 serve  distance sensor  inform  owner   house via  android application  someone  outside  door   far away meter sensor test  show   picture   code  see   distance value  obtain  distance value  print use  serialprint command   printout  display    last photo tool serial monitor  cod require  load accord   associate schema   sonyspresenseboardino google firebase serve  store data collect   nodemcu  sony spresense board  datas    use  websites mobile applications  anywhere   access  internet sign  use  google account  follow  step   login follow  next step  weve connect nodemcu  google firebase  application  create   android studio  part  connect  app  google firebase    sensor data  take   show   part   code   specify  use  display distance data part   code use  retrieve data  convert  int  google firebase   ifelse  use  decide whether someone  outside  ', 'add  follow snippet   html use  arduino  create  binary clock  learn   read binary number read    project  use  arduino  create  binary clock  learn   read binary number  clock   yet synchronise   time server    use  real time clock module  stay exactly  time yet   run  basic second count   1000 millisecond delay   sketch leds  connect  pwm 3  19   resistor  note  pwm pin 14  19   analog pin 0  5    add internet time synchronisation soon stay tune  hit follow enjoy  greet peter lunk', 'add  follow snippet   html 8000 rpm motor   guitar pick crazy   shred faster    guitarist read    project  8000 rpm motor   guitar pick crazy   shred faster    guitarist create   speed pick  stomp back  home   easy 3dprinted   simple arduino project', 'add  follow snippet   html  tutorial  show   install ffmpeg  raspberry pi  stream video  local web    access   computer read    project   tutorial  show   install ffmpeg  raspberry pi  stream video  local web    access   computer part list  purchase 1 raspberry pi 3 httpsamznto2vjioby 2 usb camera logitech httpsamznto35w1dmn buy electronic component  utsourcenet  follow tutorial  show    install ffmpeg onto  raspberry pi  stream video   local web    access  computerphonetablet note model b 4cores   make j4 instead  make  make command  take 4 hours long take  sleep instead  wait   input follow settings make execute file  easy command input follow settings change  mode  file webcamsh    execute  run     command stream   start  local web go  web browser type address youripaddress8090testmjpg note  stop  camera press ctrlc  terminal  type command   test  upload  video    see clock needle rotate every single second  order  run ffmpeg service without type  command usrsbinwebcamsh go  etcrclocal  add command lineusrsbinwebcamsh  exit 0 every time raspberry start  ffmpeg  automatically run without type code', 'add  follow snippet   html  micocontrollers laboratory  design  speed  project  make easy  clean connections read    project   micocontrollers laboratory  design  speed  project  make easy  clean connections  easy way  practice  microcontrollers sorry  dont speak english elements star war melody player show buzzer  dance lead also  component  detail  info  sprumn analyzer follow  link thank ']\n"
     ]
    }
   ],
   "source": [
    "connew=preprocess(cnew)\n",
    "print(connew)"
   ]
  },
  {
   "cell_type": "code",
   "execution_count": 259,
   "metadata": {},
   "outputs": [
    {
     "data": {
      "text/html": [
       "<div>\n",
       "<style scoped>\n",
       "    .dataframe tbody tr th:only-of-type {\n",
       "        vertical-align: middle;\n",
       "    }\n",
       "\n",
       "    .dataframe tbody tr th {\n",
       "        vertical-align: top;\n",
       "    }\n",
       "\n",
       "    .dataframe thead th {\n",
       "        text-align: right;\n",
       "    }\n",
       "</style>\n",
       "<table border=\"1\" class=\"dataframe\">\n",
       "  <thead>\n",
       "    <tr style=\"text-align: right;\">\n",
       "      <th></th>\n",
       "      <th>descr</th>\n",
       "    </tr>\n",
       "  </thead>\n",
       "  <tbody>\n",
       "    <tr>\n",
       "      <th>0</th>\n",
       "      <td>384 6 feature  favourite memory  fourth grade ...</td>\n",
       "    </tr>\n",
       "    <tr>\n",
       "      <th>1</th>\n",
       "      <td>362 9 2 feature   upcycle  coffee    chic bird...</td>\n",
       "    </tr>\n",
       "    <tr>\n",
       "      <th>2</th>\n",
       "      <td>11300 114 24 feature build   wificameraenabled...</td>\n",
       "    </tr>\n",
       "    <tr>\n",
       "      <th>3</th>\n",
       "      <td>1117 6 2 feature build  birdhouse    difficult...</td>\n",
       "    </tr>\n",
       "    <tr>\n",
       "      <th>4</th>\n",
       "      <td>13080 39 5 feature  local woodworking club   a...</td>\n",
       "    </tr>\n",
       "    <tr>\n",
       "      <th>...</th>\n",
       "      <td>...</td>\n",
       "    </tr>\n",
       "    <tr>\n",
       "      <th>70</th>\n",
       "      <td>add  follow snippet   html sony spresense boar...</td>\n",
       "    </tr>\n",
       "    <tr>\n",
       "      <th>71</th>\n",
       "      <td>add  follow snippet   html use  arduino  creat...</td>\n",
       "    </tr>\n",
       "    <tr>\n",
       "      <th>72</th>\n",
       "      <td>add  follow snippet   html 8000 rpm motor   gu...</td>\n",
       "    </tr>\n",
       "    <tr>\n",
       "      <th>73</th>\n",
       "      <td>add  follow snippet   html  tutorial  show   i...</td>\n",
       "    </tr>\n",
       "    <tr>\n",
       "      <th>74</th>\n",
       "      <td>add  follow snippet   html  micocontrollers la...</td>\n",
       "    </tr>\n",
       "  </tbody>\n",
       "</table>\n",
       "<p>75 rows × 1 columns</p>\n",
       "</div>"
      ],
      "text/plain": [
       "                                                descr\n",
       "0   384 6 feature  favourite memory  fourth grade ...\n",
       "1   362 9 2 feature   upcycle  coffee    chic bird...\n",
       "2   11300 114 24 feature build   wificameraenabled...\n",
       "3   1117 6 2 feature build  birdhouse    difficult...\n",
       "4   13080 39 5 feature  local woodworking club   a...\n",
       "..                                                ...\n",
       "70  add  follow snippet   html sony spresense boar...\n",
       "71  add  follow snippet   html use  arduino  creat...\n",
       "72  add  follow snippet   html 8000 rpm motor   gu...\n",
       "73  add  follow snippet   html  tutorial  show   i...\n",
       "74  add  follow snippet   html  micocontrollers la...\n",
       "\n",
       "[75 rows x 1 columns]"
      ]
     },
     "execution_count": 259,
     "metadata": {},
     "output_type": "execute_result"
    }
   ],
   "source": [
    "df1 = pd.DataFrame({\"descr\":connew})\n",
    "df1"
   ]
  },
  {
   "cell_type": "code",
   "execution_count": 260,
   "metadata": {},
   "outputs": [
    {
     "name": "stdout",
     "output_type": "stream",
     "text": [
      "[[0.         0.         0.         ... 0.         0.         0.        ]\n",
      " [0.0637631  0.09219479 0.10280809 ... 0.         0.         0.        ]\n",
      " [0.07240623 0.         0.         ... 0.         0.         0.        ]\n",
      " ...\n",
      " [0.         0.         0.         ... 0.         0.         0.        ]\n",
      " [0.         0.         0.         ... 0.         0.         0.        ]\n",
      " [0.         0.         0.         ... 0.         0.         0.        ]]\n"
     ]
    }
   ],
   "source": [
    "#xx = pd.DataFrame({'Content':['\"623. 7. 4. Featured. You can make this recipe in a 10-inch springform pan. However, I like to make this coffee cake into smaller servings. I usually split the recipe in half since Iâ€™m only cooking for two. I use three 4-inch springform pans to bake the coffee cake and spread them out between a couple days. The coffee cakes can be stored in an airtight container at room temperature for up to 2 days. My husband and I like to split a mini coffee cake in the mornings with some hot tea or have it in the late afternoon as a snack. This recipe can also be found at gardengirlrecipes.com.. .. Ingredients. STREUSEL:Â½ cup light brown sugar. Â½ cup rolled oats. â…“ cup all purpose flour. Â¼ teaspoon salt. 6 tablespoons cold unsalted butter, cut into small pieces. COFFEE CAKE:2 cups fresh blueberries. 2 cups + 2 tbsp all purpose flour. 1 tablespoon baking powder. 1 teaspoon ground cinnamon. Â½ teaspoon saltÂ¼ teaspoon ground nutmeg. 2/3 cup whole milk, at room temperature. 1 teaspoon vanilla extract. 8 tablespoons unsalted butter, at room temperature plus more for coating. Â½ cup + 2 tbsp packed light brown sugar. Â½ cup + 2 tbsp granulated sugar. 2 large eggs, at room temperature. Teachers! Did you use this instructable in your classroom? Add a Teacher Note to share how you incorporated it into your lesson.. Preheat the oven to 350Â°F. Then combine all the dry ingredients for the streusel.. Add the butter and place in the fridge until ready to use.. Combine 2 cups of flour with the baking powder, salt, cinnamon, and nutmeg.. Coat the blueberries in 2 tablespoons of flour.. Combine the milk and the vanilla extract.. In the bowl of a stand mixer fitted with a paddle attachment, combine the sugars and the butter.. Add the eggs one at a time.. Add a third of the flour mixture and mix until just combined. Then add a third of the milk mixture and mix until just incorporated. Repeat until all the flour and milk have been thoroughly combined. (Do not overmix or the cake will be tough).. Fold in the blueberries leaving the excess flour.. Coat a 10-inch springform pan with butter. Then line the bottom with parchment paper and coat the parchment with butter.. Fill the springform pan with the batter.. Remove the streusel from the fridge and sprinkle it on top of the batter.. Bake until the top is golden brown, about 55 to 60 minutes.. Remove the pan from the oven and let it cool on a wire rack for at least 20 minutes.. Participated in the Baking Challenge. Did you make this project? Share it with us!. 8,500 Enrolled. 1 year ago. Mmm looks delish :).Reply1 year ago . It was delicious! :). Question1 year agoon Step 1. Frozen blueberries?. Answer1 year ago . I used fresh to make this dish, but frozen blueberries should work too.. Â© 2020 Autodesk, Inc.. ']})\n",
    "xx = tfidf.fit_transform(connew).toarray()\n",
    "#xx = TfidfVectorizer(encoding='utf-8',max_df=10,min_df=1,max_features=300).fit_transform(connew).toarray()\n",
    "print(xx)\n",
    "\n"
   ]
  },
  {
   "cell_type": "code",
   "execution_count": 261,
   "metadata": {},
   "outputs": [
    {
     "data": {
      "text/plain": [
       "75"
      ]
     },
     "execution_count": 261,
     "metadata": {},
     "output_type": "execute_result"
    }
   ],
   "source": [
    "DTC_pred1 = DTC.predict(xx)\n",
    "len(connew)"
   ]
  },
  {
   "cell_type": "code",
   "execution_count": 262,
   "metadata": {},
   "outputs": [
    {
     "data": {
      "text/plain": [
       "array([0, 0, 0, 0, 0, 0, 0, 0, 0, 0, 0, 0, 0, 0, 0, 0, 0, 0, 0, 0, 0, 0,\n",
       "       0, 0, 0, 0, 0, 0, 0, 0, 0, 0, 0, 0, 0, 0, 0, 0, 1, 1, 1, 0, 1, 0,\n",
       "       1, 1, 1, 1, 1, 1, 0, 1, 1, 1, 1, 1, 1, 0, 0, 0, 0, 1, 1, 1, 1, 1,\n",
       "       0, 1, 1, 1, 1, 1, 1, 1, 1], dtype=int64)"
      ]
     },
     "execution_count": 262,
     "metadata": {},
     "output_type": "execute_result"
    }
   ],
   "source": [
    "DTC_pred1"
   ]
  },
  {
   "cell_type": "code",
   "execution_count": 263,
   "metadata": {},
   "outputs": [
    {
     "data": {
      "text/plain": [
       "array([0, 1, 0, 1, 1, 1, 1, 0, 0, 0, 0, 0, 0, 0, 1, 1, 1, 1, 1, 1, 0, 1,\n",
       "       0, 1, 0, 0, 1, 1, 0, 0, 1, 1, 1, 0, 1, 0, 1, 1, 0, 1, 1, 1, 0, 0,\n",
       "       1, 1, 1, 0, 0, 0, 1, 0, 1, 1, 0, 1, 1, 1, 0, 0, 1, 0, 0, 1, 1, 1,\n",
       "       1, 1, 1, 1, 0, 0, 0, 1, 0, 1, 0, 1, 1, 0, 0, 1, 1, 0, 0, 0, 1, 1,\n",
       "       1, 1, 1, 1, 0, 0, 0, 1, 0, 0, 0, 1, 0, 0, 0, 0, 0, 0, 1, 0, 0, 1,\n",
       "       1, 0, 0, 0, 1, 0, 0, 1, 1, 0, 1, 0, 1, 0, 0, 0, 1, 0, 1, 0, 1, 1,\n",
       "       0, 1, 0, 1, 0, 0, 0, 0, 1, 1, 0, 1, 0, 0, 1, 1, 0, 0, 0, 0, 1, 1,\n",
       "       1, 0, 0, 0, 1, 1, 1, 0, 0, 1, 0, 0, 1, 1, 1, 1, 1, 1, 0, 1, 1, 1,\n",
       "       1, 0, 0, 1, 1, 0, 1, 0, 0, 1, 0, 1, 0, 0, 0, 0, 1, 1, 0, 1, 0, 0,\n",
       "       0, 1, 0, 1, 0, 1, 0, 0, 1, 1, 1, 1, 0, 0, 1, 0, 0, 1, 0, 0, 0, 1,\n",
       "       0, 1, 0, 0, 1, 0, 1, 0, 1, 0, 1, 0, 0, 0, 0, 0, 0, 0, 0, 1, 1, 0,\n",
       "       1, 1, 1, 0, 0, 1, 1, 1, 1, 0, 0, 0, 1, 0, 0, 1, 0, 0, 1, 1, 1, 1,\n",
       "       1, 1, 1, 0, 1, 0, 1, 1, 1, 1, 0, 0, 1, 1, 1, 1, 0, 1, 1, 1, 1, 1,\n",
       "       0, 0, 0, 1, 1, 0, 1, 1, 0, 1, 1, 1, 0, 0, 0, 0, 1, 0, 0, 1, 0, 0,\n",
       "       1, 1, 0, 1, 0, 0, 0, 1, 1, 0, 0, 1, 1, 1, 1, 1, 1, 1, 0, 1, 1, 0,\n",
       "       0, 0, 1, 1, 0, 1, 0, 0, 0, 1, 0, 1, 0, 1, 1, 0, 0, 1, 0, 0, 1, 1,\n",
       "       0, 0, 0, 0, 0, 1, 0, 0, 1, 0, 0, 0, 0, 0, 1, 0, 1, 1, 1, 1, 1, 1,\n",
       "       0, 1, 0, 1, 0, 1, 0, 1, 1, 1, 0, 0, 1, 1, 0, 0, 1, 0, 1, 0, 1, 1,\n",
       "       0, 1, 1, 1, 0, 0, 0, 1, 0, 1, 1, 1, 0, 0, 0], dtype=int64)"
      ]
     },
     "execution_count": 263,
     "metadata": {},
     "output_type": "execute_result"
    }
   ],
   "source": [
    "DTC_pred"
   ]
  },
  {
   "cell_type": "code",
   "execution_count": 264,
   "metadata": {},
   "outputs": [],
   "source": [
    "################################# NAIVE BAYES ##############################################"
   ]
  },
  {
   "cell_type": "code",
   "execution_count": 265,
   "metadata": {},
   "outputs": [],
   "source": [
    "Naive = naive_bayes.MultinomialNB()\n",
    "Naive.fit(features_train, y_train)\n",
    "Naive_pred = Naive.predict(features_test)\n"
   ]
  },
  {
   "cell_type": "code",
   "execution_count": 266,
   "metadata": {},
   "outputs": [
    {
     "name": "stdout",
     "output_type": "stream",
     "text": [
      "Naive Bayes Training Accuracy Score ->  99.87107864202837\n",
      "Naive Bayes Test Accuracy Score ->  99.27007299270073\n"
     ]
    }
   ],
   "source": [
    "print(\"Naive Bayes Training Accuracy Score -> \",accuracy_score(y_train, Naive.predict(features_train))*100)\n",
    "print(\"Naive Bayes Test Accuracy Score -> \",accuracy_score(y_test, Naive.predict(features_test))*100)"
   ]
  },
  {
   "cell_type": "code",
   "execution_count": 267,
   "metadata": {},
   "outputs": [
    {
     "name": "stdout",
     "output_type": "stream",
     "text": [
      "confusion matrix\n",
      "[[201   1]\n",
      " [  2 207]]\n",
      "              precision    recall  f1-score   support\n",
      "\n",
      "           0       0.99      1.00      0.99       202\n",
      "           1       1.00      0.99      0.99       209\n",
      "\n",
      "    accuracy                           0.99       411\n",
      "   macro avg       0.99      0.99      0.99       411\n",
      "weighted avg       0.99      0.99      0.99       411\n",
      "\n"
     ]
    }
   ],
   "source": [
    "matrix = confusion_matrix(y_test, Naive_pred)\n",
    "print(\"confusion matrix\")\n",
    "print(matrix)\n",
    "report = classification_report(y_test, Naive_pred)\n",
    "print(report)\n",
    "from sklearn.metrics import confusion_matrix\n"
   ]
  },
  {
   "cell_type": "code",
   "execution_count": 268,
   "metadata": {},
   "outputs": [
    {
     "data": {
      "text/plain": [
       "array([0, 0, 0, 0, 0, 0, 0, 0, 0, 1, 0, 0, 0, 0, 0, 0, 0, 0, 0, 0, 0, 0,\n",
       "       0, 0, 0, 0, 0, 1, 1, 0, 0, 0, 0, 0, 0, 0, 0, 0, 0, 1, 1, 1, 1, 0,\n",
       "       1, 0, 1, 1, 1, 1, 1, 1, 1, 1, 1, 1, 1, 1, 1, 1, 1, 1, 1, 1, 1, 1,\n",
       "       1, 1, 1, 1, 1, 1, 1, 1, 1], dtype=int64)"
      ]
     },
     "execution_count": 268,
     "metadata": {},
     "output_type": "execute_result"
    }
   ],
   "source": [
    "#code for checking the prediction\n",
    "Naive_pred1 = Naive.predict(xx)\n",
    "Naive_pred1"
   ]
  },
  {
   "cell_type": "code",
   "execution_count": 269,
   "metadata": {},
   "outputs": [],
   "source": [
    "\n",
    "######################################## SVM ##############################################"
   ]
  },
  {
   "cell_type": "code",
   "execution_count": 270,
   "metadata": {},
   "outputs": [],
   "source": [
    "#SVM = svm.SVC(C=1.0, kernel='linear', degree=3, gamma='scale', coef0=0.1, shrinking=True, probability=False, tol=0.001, cache_size=200, class_weight=None, verbose=False, max_iter=-1, decision_function_shape='ovr', break_ties=False, random_state=None)\n",
    "SVM = svm.LinearSVC(C=0.1)\n",
    "SVM.fit(features_train, y_train)\n",
    "SVM_pred = SVM.predict(features_test)\n"
   ]
  },
  {
   "cell_type": "code",
   "execution_count": 271,
   "metadata": {},
   "outputs": [
    {
     "name": "stdout",
     "output_type": "stream",
     "text": [
      "svm Training Accuracy Score ->  100.0\n",
      "svmtest Accuracy Score ->  99.7566909975669\n"
     ]
    }
   ],
   "source": [
    "print(\"svm Training Accuracy Score -> \",accuracy_score(y_train, SVM.predict(features_train))*100)\n",
    "print(\"svmtest Accuracy Score -> \",accuracy_score(y_test, SVM.predict(features_test))*100)\n"
   ]
  },
  {
   "cell_type": "code",
   "execution_count": 272,
   "metadata": {},
   "outputs": [
    {
     "name": "stdout",
     "output_type": "stream",
     "text": [
      "confusion matrix\n",
      "[[201   1]\n",
      " [  0 209]]\n",
      "              precision    recall  f1-score   support\n",
      "\n",
      "           0       1.00      1.00      1.00       202\n",
      "           1       1.00      1.00      1.00       209\n",
      "\n",
      "    accuracy                           1.00       411\n",
      "   macro avg       1.00      1.00      1.00       411\n",
      "weighted avg       1.00      1.00      1.00       411\n",
      "\n"
     ]
    }
   ],
   "source": [
    "matrix = confusion_matrix(y_test, SVM_pred)\n",
    "print(\"confusion matrix\")\n",
    "print(matrix)\n",
    "report = classification_report(y_test, SVM_pred) \n",
    "print(report)\n",
    "from sklearn.metrics import confusion_matrix\n"
   ]
  },
  {
   "cell_type": "code",
   "execution_count": 273,
   "metadata": {},
   "outputs": [
    {
     "data": {
      "text/plain": [
       "array([0, 0, 0, 0, 0, 0, 0, 0, 0, 0, 0, 0, 0, 1, 0, 0, 0, 0, 0, 1, 0, 0,\n",
       "       0, 0, 0, 0, 0, 1, 1, 0, 0, 0, 0, 0, 0, 0, 0, 0, 0, 1, 1, 1, 1, 0,\n",
       "       0, 1, 1, 1, 1, 1, 1, 1, 1, 1, 1, 1, 1, 1, 1, 1, 1, 1, 1, 1, 1, 1,\n",
       "       1, 1, 1, 1, 1, 1, 1, 1, 1], dtype=int64)"
      ]
     },
     "execution_count": 273,
     "metadata": {},
     "output_type": "execute_result"
    }
   ],
   "source": [
    "#code for checking the prediction\n",
    "SVM_pred1 = SVM.predict(xx)\n",
    "SVM_pred1"
   ]
  },
  {
   "cell_type": "code",
   "execution_count": 274,
   "metadata": {},
   "outputs": [],
   "source": [
    "######################################## KNN ##############################################"
   ]
  },
  {
   "cell_type": "code",
   "execution_count": 275,
   "metadata": {},
   "outputs": [],
   "source": [
    "#knn = KNeighborsClassifier(n_neighbors=75, weights='distance', algorithm='auto', leaf_size=30, p=2, metric='minkowski', metric_params=None, n_jobs=None)\n",
    "knn = KNeighborsClassifier(n_neighbors=7,weights='distance')\n",
    "knn.fit(features_train, y_train)\n",
    "knn_pred = knn.predict(features_test)\n",
    "#y_score = SVM.decision_function(features_test)"
   ]
  },
  {
   "cell_type": "code",
   "execution_count": 276,
   "metadata": {},
   "outputs": [
    {
     "name": "stdout",
     "output_type": "stream",
     "text": [
      "knn Accuracy Score ->  100.0\n",
      "knn Accuracy Score ->  98.29683698296837\n"
     ]
    }
   ],
   "source": [
    "print(\"knn Accuracy Score -> \",accuracy_score(labels_train, knn.predict(features_train))*100)\n",
    "print(\"knn Accuracy Score -> \",accuracy_score(y_test, knn.predict(features_test))*100)\n"
   ]
  },
  {
   "cell_type": "code",
   "execution_count": 277,
   "metadata": {},
   "outputs": [
    {
     "name": "stdout",
     "output_type": "stream",
     "text": [
      "confusion matrix\n",
      "[[200   2]\n",
      " [  5 204]]\n",
      "              precision    recall  f1-score   support\n",
      "\n",
      "           0       0.98      0.99      0.98       202\n",
      "           1       0.99      0.98      0.98       209\n",
      "\n",
      "    accuracy                           0.98       411\n",
      "   macro avg       0.98      0.98      0.98       411\n",
      "weighted avg       0.98      0.98      0.98       411\n",
      "\n"
     ]
    }
   ],
   "source": [
    "matrix = confusion_matrix(y_test, knn_pred)\n",
    "print(\"confusion matrix\")\n",
    "print(matrix)\n",
    "report = classification_report(y_test, knn_pred)\n",
    "print(report)\n",
    "from sklearn.metrics import confusion_matrix\n"
   ]
  },
  {
   "cell_type": "code",
   "execution_count": 278,
   "metadata": {},
   "outputs": [
    {
     "data": {
      "text/plain": [
       "array([1, 0, 0, 0, 0, 0, 0, 0, 0, 0, 0, 0, 0, 1, 0, 0, 1, 0, 1, 1, 0, 0,\n",
       "       0, 1, 0, 1, 0, 1, 1, 0, 0, 1, 1, 0, 0, 1, 0, 1, 0, 1, 1, 1, 1, 1,\n",
       "       1, 1, 1, 1, 1, 1, 1, 1, 1, 0, 1, 1, 1, 1, 0, 1, 1, 1, 1, 1, 1, 0,\n",
       "       1, 1, 1, 0, 0, 1, 1, 1, 1], dtype=int64)"
      ]
     },
     "execution_count": 278,
     "metadata": {},
     "output_type": "execute_result"
    }
   ],
   "source": [
    "#code for checking the prediction\n",
    "knn_pred1 = knn.predict(xx)\n",
    "knn_pred1"
   ]
  },
  {
   "cell_type": "code",
   "execution_count": 279,
   "metadata": {},
   "outputs": [],
   "source": [
    "############################################# SGD #######################################"
   ]
  },
  {
   "cell_type": "code",
   "execution_count": 280,
   "metadata": {},
   "outputs": [],
   "source": [
    "#clf = SGDClassifier(loss=\"log\", penalty=\"l1\", max_iter=100)\n",
    "SGD = SGDClassifier(random_state=8)\n",
    "SGD.fit(features_train, y_train)\n",
    "SGD_pred = SGD.predict(features_test)"
   ]
  },
  {
   "cell_type": "code",
   "execution_count": 281,
   "metadata": {},
   "outputs": [
    {
     "name": "stdout",
     "output_type": "stream",
     "text": [
      "SGD Training Accuracy Score  -> 100.0\n",
      "SGD Testing Accuracy Score  -> 99.27007299270073\n"
     ]
    }
   ],
   "source": [
    "print(\"SGD Training Accuracy Score  ->\",accuracy_score(y_train, SGD.predict(features_train))*100)\n",
    "print(\"SGD Testing Accuracy Score  ->\",accuracy_score(y_test, SGD.predict(features_test))*100)"
   ]
  },
  {
   "cell_type": "code",
   "execution_count": 282,
   "metadata": {},
   "outputs": [
    {
     "name": "stdout",
     "output_type": "stream",
     "text": [
      "confusion matrix\n",
      "[[202   0]\n",
      " [  3 206]]\n",
      "              precision    recall  f1-score   support\n",
      "\n",
      "           0       0.99      1.00      0.99       202\n",
      "           1       1.00      0.99      0.99       209\n",
      "\n",
      "    accuracy                           0.99       411\n",
      "   macro avg       0.99      0.99      0.99       411\n",
      "weighted avg       0.99      0.99      0.99       411\n",
      "\n"
     ]
    }
   ],
   "source": [
    "matrix = confusion_matrix(y_test, SGD_pred)\n",
    "print(\"confusion matrix\")\n",
    "print(matrix)\n",
    "report = classification_report(y_test, SGD_pred)\n",
    "print(report)\n",
    "from sklearn.metrics import confusion_matrix\n"
   ]
  },
  {
   "cell_type": "code",
   "execution_count": 288,
   "metadata": {},
   "outputs": [
    {
     "data": {
      "text/plain": [
       "array([0, 0, 0, 0, 0, 0, 0, 0, 0, 0, 0, 0, 0, 0, 0, 0, 0, 0, 0, 1, 0, 0,\n",
       "       0, 0, 0, 0, 0, 0, 0, 0, 0, 0, 0, 0, 0, 0, 0, 0, 0, 0, 1, 0, 1, 0,\n",
       "       0, 1, 1, 1, 1, 1, 0, 1, 1, 1, 1, 1, 0, 1, 0, 0, 1, 1, 1, 1, 1, 1,\n",
       "       0, 1, 1, 0, 0, 1, 1, 1, 1], dtype=int64)"
      ]
     },
     "execution_count": 288,
     "metadata": {},
     "output_type": "execute_result"
    }
   ],
   "source": [
    "#code for checking the prediction\n",
    "SGD_pred1 = clf.predict(xx)\n",
    "SGD_pred1"
   ]
  },
  {
   "cell_type": "code",
   "execution_count": 284,
   "metadata": {},
   "outputs": [],
   "source": [
    "############################################# Random Forest ########################################"
   ]
  },
  {
   "cell_type": "code",
   "execution_count": 285,
   "metadata": {},
   "outputs": [],
   "source": [
    " \n",
    "random = RandomForestClassifier(n_estimators=10,max_features='log2',random_state=8)\n",
    "#regressor = RandomForestRegressor(n_estimators=2, max_depth=None,min_samples_split=2, min_samples_leaf=1, min_weight_fraction_leaf=0.0, max_features='auto', max_leaf_nodes=None,bootstrap=True, oob_score=False, n_jobs=1, random_state=None, verbose=0, warm_start=False)\n",
    "\n",
    "random.fit(features_train, y_train)\n",
    "random_pred = random.predict(features_test)\n"
   ]
  },
  {
   "cell_type": "code",
   "execution_count": 286,
   "metadata": {},
   "outputs": [
    {
     "name": "stdout",
     "output_type": "stream",
     "text": [
      "Random Forest Training Accuracy Score  -> 100.0\n",
      "Random Forest Test Accuracy Score  -> 100.0\n"
     ]
    }
   ],
   "source": [
    "print(\"Random Forest Training Accuracy Score  ->\",accuracy_score(y_train, random.predict(features_train))*100)\n",
    "print(\"Random Forest Test Accuracy Score  ->\",accuracy_score(y_test, random.predict(features_test))*100)"
   ]
  },
  {
   "cell_type": "code",
   "execution_count": 213,
   "metadata": {},
   "outputs": [
    {
     "name": "stdout",
     "output_type": "stream",
     "text": [
      "confusion matrix\n",
      "[[202   0]\n",
      " [  0 209]]\n",
      "              precision    recall  f1-score   support\n",
      "\n",
      "           0       1.00      1.00      1.00       202\n",
      "           1       1.00      1.00      1.00       209\n",
      "\n",
      "    accuracy                           1.00       411\n",
      "   macro avg       1.00      1.00      1.00       411\n",
      "weighted avg       1.00      1.00      1.00       411\n",
      "\n"
     ]
    }
   ],
   "source": [
    "matrix = confusion_matrix(y_test, random_pred)\n",
    "print(\"confusion matrix\")\n",
    "print(matrix)\n",
    "report = classification_report(y_test, random_pred)\n",
    "print(report)\n",
    "from sklearn.metrics import confusion_matrix\n"
   ]
  },
  {
   "cell_type": "code",
   "execution_count": 214,
   "metadata": {},
   "outputs": [
    {
     "data": {
      "text/plain": [
       "array([0, 1, 0, 1, 1, 1, 1, 0, 0, 0, 0, 0, 0, 0, 1, 1, 1, 1, 1, 1, 0, 1,\n",
       "       0, 1, 0, 0, 1, 1, 0, 0, 1, 1, 1, 0, 1, 0, 1, 1, 0, 1, 1, 1, 0, 0,\n",
       "       1, 1, 1, 0, 0, 0, 1, 0, 1, 1, 0, 1, 1, 1, 0, 0, 1, 0, 0, 1, 1, 1,\n",
       "       1, 1, 1, 1, 0, 0, 0, 1, 0, 1, 0, 1, 1, 0, 0, 1, 1, 0, 0, 0, 1, 1,\n",
       "       1, 1, 1, 1, 0, 0, 0, 1, 0, 0, 0, 1, 0, 0, 0, 0, 0, 0, 1, 0, 0, 1,\n",
       "       1, 0, 0, 0, 1, 0, 0, 1, 1, 0, 1, 0, 1, 0, 0, 0, 1, 0, 1, 0, 1, 1,\n",
       "       0, 1, 0, 1, 0, 0, 0, 0, 1, 1, 0, 1, 0, 0, 1, 1, 0, 0, 0, 0, 1, 1,\n",
       "       1, 0, 0, 0, 1, 1, 1, 0, 0, 1, 0, 0, 1, 1, 1, 1, 1, 1, 0, 1, 1, 1,\n",
       "       1, 0, 0, 1, 1, 0, 1, 0, 0, 1, 0, 1, 0, 0, 0, 0, 1, 1, 0, 1, 0, 0,\n",
       "       0, 1, 0, 1, 0, 1, 0, 0, 1, 1, 1, 1, 0, 0, 1, 0, 0, 1, 0, 0, 0, 1,\n",
       "       0, 1, 0, 0, 1, 0, 1, 0, 1, 0, 1, 0, 0, 0, 0, 1, 0, 0, 0, 1, 1, 0,\n",
       "       1, 1, 1, 0, 0, 1, 1, 1, 1, 0, 0, 0, 1, 0, 0, 1, 0, 0, 1, 1, 1, 1,\n",
       "       1, 1, 1, 0, 1, 0, 1, 1, 1, 1, 0, 0, 1, 1, 1, 1, 0, 1, 1, 1, 1, 1,\n",
       "       0, 0, 0, 1, 1, 0, 1, 1, 0, 1, 1, 1, 0, 0, 0, 0, 1, 0, 0, 1, 0, 0,\n",
       "       1, 1, 0, 1, 0, 0, 0, 1, 1, 0, 0, 1, 1, 1, 1, 1, 1, 1, 0, 1, 1, 0,\n",
       "       0, 1, 1, 1, 0, 1, 0, 0, 0, 1, 0, 1, 0, 1, 1, 0, 0, 1, 0, 0, 1, 1,\n",
       "       0, 0, 0, 0, 0, 1, 0, 0, 1, 0, 0, 0, 0, 0, 1, 0, 1, 1, 1, 1, 1, 1,\n",
       "       0, 1, 0, 1, 0, 1, 0, 1, 1, 1, 0, 0, 1, 1, 0, 0, 1, 0, 1, 0, 1, 1,\n",
       "       0, 1, 1, 1, 0, 0, 0, 1, 0, 1, 1, 1, 0, 0, 0], dtype=int64)"
      ]
     },
     "execution_count": 214,
     "metadata": {},
     "output_type": "execute_result"
    }
   ],
   "source": [
    "random_pred"
   ]
  },
  {
   "cell_type": "code",
   "execution_count": 215,
   "metadata": {},
   "outputs": [
    {
     "data": {
      "text/plain": [
       "array([0, 0, 0, 0, 0, 0, 0, 0, 0, 0, 0, 0, 0, 0, 0, 0, 0, 0, 0, 0, 0, 0,\n",
       "       0, 0, 0, 0, 0, 0, 0, 0, 0, 0, 0, 0, 0, 0, 0, 0, 1, 1, 1, 1, 1, 1,\n",
       "       1, 1, 1, 1, 1, 1, 1, 1, 1, 1, 1, 1, 1, 1, 1, 1, 1, 1, 1, 1, 1, 1,\n",
       "       1, 1, 1, 1, 1, 1, 1, 1, 1], dtype=int64)"
      ]
     },
     "execution_count": 215,
     "metadata": {},
     "output_type": "execute_result"
    }
   ],
   "source": [
    "#code for checking the prediction\n",
    "random_pred1 = random.predict(xx)\n",
    "random_pred1"
   ]
  },
  {
   "cell_type": "code",
   "execution_count": null,
   "metadata": {},
   "outputs": [],
   "source": []
  },
  {
   "cell_type": "code",
   "execution_count": null,
   "metadata": {},
   "outputs": [],
   "source": []
  },
  {
   "cell_type": "code",
   "execution_count": null,
   "metadata": {},
   "outputs": [],
   "source": []
  },
  {
   "cell_type": "code",
   "execution_count": null,
   "metadata": {},
   "outputs": [],
   "source": []
  },
  {
   "cell_type": "code",
   "execution_count": null,
   "metadata": {},
   "outputs": [],
   "source": []
  },
  {
   "cell_type": "code",
   "execution_count": null,
   "metadata": {},
   "outputs": [],
   "source": []
  },
  {
   "cell_type": "code",
   "execution_count": null,
   "metadata": {},
   "outputs": [],
   "source": []
  },
  {
   "cell_type": "code",
   "execution_count": null,
   "metadata": {},
   "outputs": [],
   "source": []
  },
  {
   "cell_type": "code",
   "execution_count": null,
   "metadata": {},
   "outputs": [],
   "source": []
  },
  {
   "cell_type": "code",
   "execution_count": null,
   "metadata": {},
   "outputs": [],
   "source": []
  },
  {
   "cell_type": "code",
   "execution_count": null,
   "metadata": {},
   "outputs": [],
   "source": []
  },
  {
   "cell_type": "code",
   "execution_count": null,
   "metadata": {},
   "outputs": [],
   "source": []
  }
 ],
 "metadata": {
  "kernelspec": {
   "display_name": "Python 3",
   "language": "python",
   "name": "python3"
  },
  "language_info": {
   "codemirror_mode": {
    "name": "ipython",
    "version": 3
   },
   "file_extension": ".py",
   "mimetype": "text/x-python",
   "name": "python",
   "nbconvert_exporter": "python",
   "pygments_lexer": "ipython3",
   "version": "3.7.6"
  }
 },
 "nbformat": 4,
 "nbformat_minor": 4
}
